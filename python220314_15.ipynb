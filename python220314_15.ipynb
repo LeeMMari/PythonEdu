{
  "nbformat": 4,
  "nbformat_minor": 0,
  "metadata": {
    "colab": {
      "provenance": [],
      "toc_visible": true
    },
    "kernelspec": {
      "name": "python3",
      "display_name": "Python 3"
    },
    "language_info": {
      "name": "python"
    }
  },
  "cells": [
    {
      "cell_type": "markdown",
      "source": [
        "# 파이썬 기초 문법\n",
        "- 주석처리\n",
        "- 여러 줄 주석처리 시,\n",
        "  + 함수, 클래스 작성할 때 쓰인다. (예 - Docstring)"
      ],
      "metadata": {
        "id": "VZIOEL8lG1s9"
      }
    },
    {
      "cell_type": "code",
      "source": [
        "# 이 코드는 무슨무슨 코드임 (주석)\n",
        "\n",
        "'''\n",
        "여러줄 주석 처리\n",
        "'''\n",
        "\n",
        "\"\"\"\n",
        "여러줄 주석 처리\n",
        "\"\"\"\n",
        "\n",
        "print(\"Hello World\")"
      ],
      "metadata": {
        "colab": {
          "base_uri": "https://localhost:8080/"
        },
        "id": "j5cX2hb1fBDb",
        "outputId": "1b3b48c7-9523-4319-dc2b-2e278375fe49"
      },
      "execution_count": null,
      "outputs": [
        {
          "output_type": "stream",
          "name": "stdout",
          "text": [
            "Hello World\n"
          ]
        }
      ]
    },
    {
      "cell_type": "code",
      "source": [
        "1+1"
      ],
      "metadata": {
        "colab": {
          "base_uri": "https://localhost:8080/"
        },
        "id": "2wQCa5ZRKJsz",
        "outputId": "7ca1cdbe-3b1c-47c2-8794-167624f7d02d"
      },
      "execution_count": null,
      "outputs": [
        {
          "output_type": "execute_result",
          "data": {
            "text/plain": [
              "2"
            ]
          },
          "metadata": {},
          "execution_count": 70
        }
      ]
    },
    {
      "cell_type": "markdown",
      "source": [
        "## 변수의 종류 (Scala 자료형)\n",
        "- 크게 4가지 존재 :  int, float, bool, None\n",
        "- 스칼라의 의미 : 더 이상 나누어지지 않는 것 (가장 작은 단위)"
      ],
      "metadata": {
        "id": "XaLKABI9hQhs"
      }
    },
    {
      "cell_type": "markdown",
      "source": [
        "### int형 예제"
      ],
      "metadata": {
        "id": "GvMeHbfOhl_u"
      }
    },
    {
      "cell_type": "code",
      "source": [
        "temp_int = 1\n",
        "print(temp_int)\n",
        "print(type(temp_int))  #어떤 class 인지 알고싶을때"
      ],
      "metadata": {
        "colab": {
          "base_uri": "https://localhost:8080/"
        },
        "id": "DK6ZEGwOhP_s",
        "outputId": "7e4ef350-97c4-4d0e-e704-2146884b8f9d"
      },
      "execution_count": null,
      "outputs": [
        {
          "output_type": "stream",
          "name": "stdout",
          "text": [
            "1\n",
            "<class 'int'>\n"
          ]
        }
      ]
    },
    {
      "cell_type": "markdown",
      "source": [
        "- 문자열"
      ],
      "metadata": {
        "id": "OeZOMlMCi7eG"
      }
    },
    {
      "cell_type": "code",
      "source": [
        "temp_int = '1'\n",
        "print(temp_int)\n",
        "print(type(temp_int))"
      ],
      "metadata": {
        "colab": {
          "base_uri": "https://localhost:8080/"
        },
        "id": "bcBoMnpbi9JL",
        "outputId": "7e68da73-d417-4033-fa5f-b29ed7cdaaf0"
      },
      "execution_count": null,
      "outputs": [
        {
          "output_type": "stream",
          "name": "stdout",
          "text": [
            "1\n",
            "<class 'str'>\n"
          ]
        }
      ]
    },
    {
      "cell_type": "markdown",
      "source": [
        "### float 형 예제\n",
        "- 실수형"
      ],
      "metadata": {
        "id": "Vdd04nGKje7S"
      }
    },
    {
      "cell_type": "code",
      "source": [
        "num_float = 0.2\n",
        "print(num_float)\n",
        "print(type(num_float))"
      ],
      "metadata": {
        "colab": {
          "base_uri": "https://localhost:8080/"
        },
        "id": "sK_LwZS0jl4G",
        "outputId": "23c35776-448f-4600-a597-55f5bedd5e08"
      },
      "execution_count": null,
      "outputs": [
        {
          "output_type": "stream",
          "name": "stdout",
          "text": [
            "0.2\n",
            "<class 'float'>\n"
          ]
        }
      ]
    },
    {
      "cell_type": "markdown",
      "source": [
        "### Bool 형\n",
        "- 참, 거짓"
      ],
      "metadata": {
        "id": "yuAkEsYDkGzj"
      }
    },
    {
      "cell_type": "code",
      "source": [
        "temp_bool = True   #bool 은 첫글자 대문자\n",
        "temp_bool = False\n",
        "#temp_bool 을 여러 개 쓰면 제일 밑에 있는 코드가 실행\n",
        "print(type(temp_bool))"
      ],
      "metadata": {
        "colab": {
          "base_uri": "https://localhost:8080/"
        },
        "id": "hRAGYa6bkKWS",
        "outputId": "e6e4e444-a889-46f1-8bed-b60e29b97cc9"
      },
      "execution_count": null,
      "outputs": [
        {
          "output_type": "stream",
          "name": "stdout",
          "text": [
            "<class 'bool'>\n"
          ]
        }
      ]
    },
    {
      "cell_type": "markdown",
      "source": [
        "### None 자료형\n",
        "- Null 을 나타내는 자료형\n",
        "  + 데이터분석에서 가장 처리하기 까다로운 자료형"
      ],
      "metadata": {
        "id": "_SL9ufw2k6PC"
      }
    },
    {
      "cell_type": "code",
      "source": [
        "temp_none = None\n",
        "print(type(temp_none))"
      ],
      "metadata": {
        "colab": {
          "base_uri": "https://localhost:8080/"
        },
        "id": "wvOGi6hllU8-",
        "outputId": "cacafec9-76f7-4459-8e81-9b9487d21e0d"
      },
      "execution_count": null,
      "outputs": [
        {
          "output_type": "stream",
          "name": "stdout",
          "text": [
            "<class 'NoneType'>\n"
          ]
        }
      ]
    },
    {
      "cell_type": "markdown",
      "source": [
        "## 사칙연산\n",
        "- 정수형 사칙연산"
      ],
      "metadata": {
        "id": "Ra_pJWAlnHvN"
      }
    },
    {
      "cell_type": "code",
      "source": [
        "a = 6\n",
        "b = 2\n",
        "\n",
        "print(a + b) # 덧셈\n",
        "print(a - b) # 뺄셈\n",
        "print(a * b) # 곱셈\n",
        "print(a / b) # 나누기 (무조건 실수형으로 변환)\n",
        "print(a // b) # 몫\n",
        "print(a ** b) # 제곱\n",
        "print(a % b) # 나머지"
      ],
      "metadata": {
        "colab": {
          "base_uri": "https://localhost:8080/"
        },
        "id": "TO4RVcEHnLrR",
        "outputId": "6a31ad66-8b02-40dc-e27c-296299dafb75"
      },
      "execution_count": null,
      "outputs": [
        {
          "output_type": "stream",
          "name": "stdout",
          "text": [
            "8\n",
            "4\n",
            "12\n",
            "3.0\n",
            "3\n",
            "36\n",
            "0\n"
          ]
        }
      ]
    },
    {
      "cell_type": "markdown",
      "source": [
        "### 실수형 사칙연산"
      ],
      "metadata": {
        "id": "euRWzjJGrnx7"
      }
    },
    {
      "cell_type": "code",
      "source": [
        "a = 6.0\n",
        "b = 2.0\n",
        "\n",
        "print(a + b) # 덧셈\n",
        "print(a - b) # 뺄셈\n",
        "print(a * b) # 곱셈\n",
        "print(a / b) # 나누기 (무조건 실수형으로 변환)\n",
        "print(a // b) # 몫\n",
        "print(a ** b) # 제곱\n",
        "print(a % b) # 나머지"
      ],
      "metadata": {
        "colab": {
          "base_uri": "https://localhost:8080/"
        },
        "id": "L4qXHy59rqRm",
        "outputId": "ee6180cb-a779-4844-d9c6-ed6d5153c1e9"
      },
      "execution_count": null,
      "outputs": [
        {
          "output_type": "stream",
          "name": "stdout",
          "text": [
            "8.0\n",
            "4.0\n",
            "12.0\n",
            "3.0\n",
            "3.0\n",
            "36.0\n",
            "0.0\n"
          ]
        }
      ]
    },
    {
      "cell_type": "markdown",
      "source": [
        "## 논리형 연산자\n",
        "- AND 조건, OR 조건이 있음"
      ],
      "metadata": {
        "id": "4kNVFSoAsHJm"
      }
    },
    {
      "cell_type": "code",
      "source": [
        "print(True and True)\n",
        "print(True and False)\n",
        "print(False and True)\n",
        "print(False and False)"
      ],
      "metadata": {
        "colab": {
          "base_uri": "https://localhost:8080/"
        },
        "id": "4k_o1DmytBEN",
        "outputId": "bd996912-a870-4de4-b523-e90880de0450"
      },
      "execution_count": null,
      "outputs": [
        {
          "output_type": "stream",
          "name": "stdout",
          "text": [
            "True\n",
            "False\n",
            "False\n",
            "False\n"
          ]
        }
      ]
    },
    {
      "cell_type": "code",
      "source": [
        "print(True or True)\n",
        "print(True or False)\n",
        "print(False or True)\n",
        "print(False or False)"
      ],
      "metadata": {
        "colab": {
          "base_uri": "https://localhost:8080/"
        },
        "id": "_GZN_sZ4tS9d",
        "outputId": "91f2cd22-2726-4fad-bf2a-70b19b9b63c4"
      },
      "execution_count": null,
      "outputs": [
        {
          "output_type": "stream",
          "name": "stdout",
          "text": [
            "True\n",
            "True\n",
            "True\n",
            "False\n"
          ]
        }
      ]
    },
    {
      "cell_type": "markdown",
      "source": [
        "### 비교 연산자\n",
        "- 비교 연산자는 부등호를 의미함\n",
        "- 왼쪽이 기준 값"
      ],
      "metadata": {
        "id": "00polDnRtqBa"
      }
    },
    {
      "cell_type": "code",
      "source": [
        "print(4 > 3)\n",
        "print(3 > 4)\n",
        "print(3 >= 4)\n",
        "print(3 <= 4)"
      ],
      "metadata": {
        "colab": {
          "base_uri": "https://localhost:8080/"
        },
        "id": "ug7Uh_ootwab",
        "outputId": "06e4f590-01cb-416f-9e19-984d328b636a"
      },
      "execution_count": null,
      "outputs": [
        {
          "output_type": "stream",
          "name": "stdout",
          "text": [
            "True\n",
            "False\n",
            "False\n",
            "True\n"
          ]
        }
      ]
    },
    {
      "cell_type": "markdown",
      "source": [
        "## input()\n",
        "- print() : 출력\n",
        "- input() : 입력"
      ],
      "metadata": {
        "id": "0-NViGlyuIYM"
      }
    },
    {
      "cell_type": "code",
      "source": [
        "var = input(\"값을 입력해주세요!! \")\n",
        "print(var)\n",
        "\n",
        "var = int(var)\n",
        "print(type(var))"
      ],
      "metadata": {
        "colab": {
          "base_uri": "https://localhost:8080/"
        },
        "id": "2yb666LIuRJY",
        "outputId": "af670b24-28c5-4dda-da6c-d423c1d9c311"
      },
      "execution_count": null,
      "outputs": [
        {
          "output_type": "stream",
          "name": "stdout",
          "text": [
            "값을 입력해주세요!! 5\n",
            "5\n",
            "<class 'int'>\n"
          ]
        }
      ]
    },
    {
      "cell_type": "code",
      "source": [
        "num1 = int(input(\"값을 입력해주세요!! \"))\n",
        "num2 = int(input(\"값을 입력해주세요!! \"))\n",
        "\n",
        "result = int(num1) + int(num2)\n",
        "print(result)"
      ],
      "metadata": {
        "colab": {
          "base_uri": "https://localhost:8080/"
        },
        "id": "M1PhPLIPvRGG",
        "outputId": "50dfe64a-861f-41e6-a417-99cb73bf2f4e"
      },
      "execution_count": null,
      "outputs": [
        {
          "output_type": "stream",
          "name": "stdout",
          "text": [
            "값을 입력해주세요!! 10\n",
            "값을 입력해주세요!! 20\n",
            "30\n"
          ]
        }
      ]
    },
    {
      "cell_type": "markdown",
      "source": [
        "## String\n",
        "- 매우 중요함!!!!!!!!!!!!\n",
        "- "
      ],
      "metadata": {
        "id": "Cbqve9lB0U3c"
      }
    },
    {
      "cell_type": "markdown",
      "source": [
        "### String 연산자"
      ],
      "metadata": {
        "id": "uOHMgTb37Cla"
      }
    },
    {
      "cell_type": "code",
      "source": [
        "str1 = \"Hello \"\n",
        "str2 = \"World\"\n",
        "\n",
        "print(str1 + str2)"
      ],
      "metadata": {
        "colab": {
          "base_uri": "https://localhost:8080/"
        },
        "id": "EVrv2-HE6CKC",
        "outputId": "28e89774-226b-40b5-e5f9-ba7b866eea8c"
      },
      "execution_count": null,
      "outputs": [
        {
          "output_type": "stream",
          "name": "stdout",
          "text": [
            "Hello World\n"
          ]
        }
      ]
    },
    {
      "cell_type": "code",
      "source": [
        "str1 = \"Hello \"\n",
        "str2 = \"World\"\n",
        "\n",
        "result = str1 + str2\n",
        "print(result)"
      ],
      "metadata": {
        "colab": {
          "base_uri": "https://localhost:8080/"
        },
        "id": "Uws4_lTI6xSG",
        "outputId": "c119711e-3ce9-4b47-c37d-5918337309f2"
      },
      "execution_count": null,
      "outputs": [
        {
          "output_type": "stream",
          "name": "stdout",
          "text": [
            "Hello World\n"
          ]
        }
      ]
    },
    {
      "cell_type": "code",
      "source": [
        "str1 = \"55\"\n",
        "str2 = \"1000\"\n",
        "print(int(str1) + int(str2))"
      ],
      "metadata": {
        "colab": {
          "base_uri": "https://localhost:8080/"
        },
        "id": "H3xPbKlS6aJz",
        "outputId": "77bfa474-8788-4f66-90c3-c75bf82a5bc5"
      },
      "execution_count": null,
      "outputs": [
        {
          "output_type": "stream",
          "name": "stdout",
          "text": [
            "1055\n"
          ]
        }
      ]
    },
    {
      "cell_type": "markdown",
      "source": [
        "- 곱셈 연산자 사용"
      ],
      "metadata": {
        "id": "r2_j5oB16-u-"
      }
    },
    {
      "cell_type": "code",
      "source": [
        "greeting = \"Hello World \"\n",
        "print(greeting * 3)"
      ],
      "metadata": {
        "colab": {
          "base_uri": "https://localhost:8080/"
        },
        "id": "_odCfZYb7MJ6",
        "outputId": "9442ffb4-967f-4774-d405-4368cd91305c"
      },
      "execution_count": null,
      "outputs": [
        {
          "output_type": "stream",
          "name": "stdout",
          "text": [
            "Hello World Hello World Hello World \n"
          ]
        }
      ]
    },
    {
      "cell_type": "markdown",
      "source": [
        "### Indexing\n",
        "- 중요!!\n",
        "- 0번째부터 시작"
      ],
      "metadata": {
        "id": "YTb7vmZ27aup"
      }
    },
    {
      "cell_type": "code",
      "source": [
        "greeting = \"Hello World!\"\n",
        "print(greeting[-4])"
      ],
      "metadata": {
        "colab": {
          "base_uri": "https://localhost:8080/"
        },
        "id": "SU-uV-Kl7fE6",
        "outputId": "08f7d1e7-22d2-4030-e124-2091b36bae42"
      },
      "execution_count": null,
      "outputs": [
        {
          "output_type": "stream",
          "name": "stdout",
          "text": [
            "r\n"
          ]
        }
      ]
    },
    {
      "cell_type": "markdown",
      "source": [
        "### 슬라이싱\n",
        "- 자름"
      ],
      "metadata": {
        "id": "FnSBdLUH8eo2"
      }
    },
    {
      "cell_type": "code",
      "source": [
        "greeting = \"Hello World!\"\n",
        "print(greeting[0:5]) # H e l l o \n",
        "                     # 0 1 2 3 4\n",
        "print(greeting[:])\n",
        "print(greeting[6:])\n",
        "print(greeting[3:8])\n",
        "print(greeting[5:-1])\n",
        "print(greeting[0:9:2])"
      ],
      "metadata": {
        "colab": {
          "base_uri": "https://localhost:8080/"
        },
        "id": "GAXJGdEW8t8z",
        "outputId": "18389dbf-7eca-4644-811f-ae0915138769"
      },
      "execution_count": null,
      "outputs": [
        {
          "output_type": "stream",
          "name": "stdout",
          "text": [
            "Hello\n",
            "Hello World!\n",
            "World!\n",
            "lo Wo\n",
            " World\n",
            "HloWr\n"
          ]
        }
      ]
    },
    {
      "cell_type": "code",
      "source": [
        "greeting = \"Hello World!!!!!\"\n",
        "greeting[13]      # error - String index out of range : Hello World = 11글자인데\n",
        "                                # 13을 입력할 경우 error 난다.\n",
        "                                # 해결 : Hello World 의 글자수 늘리거나\n",
        "                                # greeting[13]을 11 이하로 맞게 줄인다."
      ],
      "metadata": {
        "colab": {
          "base_uri": "https://localhost:8080/",
          "height": 35
        },
        "id": "3q6HudWP-xLa",
        "outputId": "cc12933f-b1f1-4daf-f230-23ab5290ff9a"
      },
      "execution_count": null,
      "outputs": [
        {
          "output_type": "execute_result",
          "data": {
            "text/plain": [
              "'!'"
            ],
            "application/vnd.google.colaboratory.intrinsic+json": {
              "type": "string"
            }
          },
          "metadata": {},
          "execution_count": 1
        }
      ]
    },
    {
      "cell_type": "markdown",
      "source": [
        "### 문자열의 함수들\n",
        "- 공식문서!"
      ],
      "metadata": {
        "id": "I2Ug9o0__yTi"
      }
    },
    {
      "cell_type": "code",
      "source": [
        "tmp_string = 'Java'\n",
        "\n",
        "# 변수명 저장!\n",
        "# 변수명 저장함과 동시에, 클래스로 바뀜\n",
        "print(tmp_string.upper())\n",
        "print(tmp_string.lower())"
      ],
      "metadata": {
        "colab": {
          "base_uri": "https://localhost:8080/"
        },
        "id": "THP5PWoNBQY_",
        "outputId": "ef5fa8a3-60d1-4760-bd45-74e692f0bcd5"
      },
      "execution_count": null,
      "outputs": [
        {
          "output_type": "stream",
          "name": "stdout",
          "text": [
            "JAVA\n",
            "java\n"
          ]
        }
      ]
    },
    {
      "cell_type": "markdown",
      "source": [
        "![화면 캡처 2023-03-15 111628.png](data:image/png;base64,iVBORw0KGgoAAAANSUhEUgAAAooAAAFcCAYAAABP+58jAAAAAXNSR0IArs4c6QAAAARnQU1BAACxjwv8YQUAAAAJcEhZcwAADsMAAA7DAcdvqGQAAC+sSURBVHhe7d1vjCVXeefx0/6DGS+Qf14ZFi/gGToIS2xmyJtNogzB0QBiV4qQeYEQgdgKYZJXiWS0L8BE2BBpZWdXSiIYsonHSZAlIggIaSWSkex4oiSKIk1GWmmC3JmJHTkSCHsMnsGenume3vvcrmf66TPPOXWqbtW9Vbe/H+no1j1/6py6fT31c9W93StbE2FibW0trK6uymZr1a6usc9zbQAAABiezoJiKgjGjyLuK7w6AAAALE4nQTEOefrcPsZ1wm4DAABgWDoPirotj3b76tWru57bx5ySPgAAAOjezEHRBjndlkctEhC16HPbL+bVAQAAYP46D4r6XB43Nzen5Xvf+960bqhuv/32agsAAADqhupxZnFg1JB45cqVqhYAAABjMlNQtOFQyHMpcntZQuLGxka4fPly1QoAAIAx6eyKorJhUYLipUuXqhYAAACMSSdBMb6yqF9YkaC4vr5e1QIAAGBMermiKLj1DAAAMG6dfpnFXlmUbbmyKAUAAADj0/kVRaHhUMKiXFkEAADA+PQSFIVeUbRXGQEAADAevQVFAAAAjFtvX2ZRXVxR3PjqV8P6/feHV97//vDDt7xlWmRb6jZPnKh6AQAAoEuN/4TfD//6r8MP/uRPwpVnnpk+v3kS2l730Y+GfYcPX/tMov5anAsXLoTz58+HH//xH5/2bWrzr/4qrD/4YNh67rmqxrdyxx3hls98Jtz4nvdUNc3wJ/wAAACuVxwUN7///fDd3/qt8P3HHqtqdvuRj30s3P5Hf9RZULw8CYhXHn20elbmpvvumwbGpgiKAAAA1yu+9fzd3/zNZEgUcpXxO7/6q9Wz2bQJiWJjMkbGLsJnWgTUZbBv375qa9i++qY3VVu+uvYuzXMuAABmURQU5Xbz9ydB0PqPv/3b02K9NOnzysmT1bN25HZzm5CoZKzsY57ahMQhBayxhD0AADBfRUHxB5kribELf/qn1VY765/9bLV1vRve/vZqK08+1zhPDy7oKuYQvPLKK9UWAABYNkVB8XL1xZUSV559ttpqTr7dvPXv/149u96rv/KVcNM991TP0uTLL/O+qtiEXsGTx/hqnq3z2vQxbqujY+Kxuh3Xq9J2S/umxgjblurTpQ/+279VW+XkFrEWq+S5N061WQsAAIvQ+tfjvPzUU9PSpc2///tqy7fyuteFW373d8MtjzwSwmtfW9X6Nv7yL6ut4dGrcPLoXZGTOglP+mhpvdeWYsfEY2VbH3U7ZseX0v5S4nXa/cVtKdLPK32RkCeBTksq9MXajgMAYIiKguKr3vKWamvH5X/912mJ3fzmN1dbzV09c6bayrvpgx8M+77yleyt6Kv//M/V1nKRcKWaBK2Y3U+dJn3ryHrjYygh/bzSFwl5bbQdBwDAEBUFxR/5lV+ptnb86KROSuy1H/1otdVck3B3w113ZW9Fl4bOvUACVd9X4Pqm649Ln+RqoJYm2o4DAGBoioLif/iFXwg/+rGPVc+2fe+zn50W60eqX7w9Vysr1QZy9ArcPAJWH3T9cemLhDx7C9mS5xoCtZ/KjQMAYGyKP6P4nx577LqwaElIvP2P/7h61k7pt5qFXDG89KEPTb8A42myr71EA9aiwmI89yJDK1f8AADIa/RlFgmLb37yyWlgvPVd75oW2X7TE0+E18/wuw+V3E4uIeFQQmLu9nLpvsYmDlklV9UWGcY8GhZL179oXqDUq4q5q4YEUQDA2DUKikJuQ2tglPKG48engbELN/7Mz1Rbvq2XXgrr998/LbKdc9N731ttDZMNS020CVl2jDe27Vra0DlkztL190XDnhf4vLaS4Nd2HAAAQ1T8t55j1bAp2dYy6996fvnnfi75uxTlKmHJl1RW3vjGcOvf/m31rN5Y/tZzHPCsVMhbdBjzxGsd4hoBAECLK4qxEydOhHPnzlXPZndL9GcBrdJvMuf2MWa5QCVtXhmiMawRAADUXFH8x3/8x/DYY4+FK1euhLvvvjt88IMfDDfddFP45je/Gb7xjW9UvXb7tV/7tfCOd7yj9RVFcfnBB1v/veeb77svvKrh314eyxVFAACAeUoGxZdeeil84QtfCB/60IfCbbfdFr74xS+GX/qlXwo/+ZM/OW2XYS+//HL4gz/4g/D2t789vP/975/Wz3rrWbUJi21CoiAoAgAAXC9561mC4q233joNUa95zWvCW9/61mnwE3K78B/+4R/C7/zO70zD5bPPPht+//d/P/zLv/zLNCR2QQLfq//wD6efN6wjfaRvm5AIAAAAXzIoXr58eXp1UN14443TRwmJEgpPnz4dfv3Xf30aIt/73veGX/zFXwx//ud/Hr761a/u+qLLLG58z3umX0qRECh/gcX+bkTZljppkz7SFwAAAN1J3np+7rnnwl/8xV+Ej3/849NvqX79618Pb3rTm8JP//RPT9s1DMqXWfbv3x/uvPPOTr71vAjcegYAALhe9jOKv/d7vzf9Assdd9xx7TOK3/72t5NfZBESKn/jN34jvOENbyAoAgAAjFj2W8//9E//FB599NHp1UH7rWdRDZuSbS178YriZ6LPRj744IPVFgAAwHhlg2JONWxKQ6KUvRYUJSTGwdCrAwAAGJuZf+E2AAAAlhNBcUZcOQQAAMuKoNgxbjsDAIBlQVDsECERAAAsE4JiRwiJAABg2RAUO0BIBAAAy4igOCNCIgAAWFYERQAAALj4hdsTs/7CbQ9XGQEAwNgRFCf4W88AAADX49YzAAAAXARFAAAAuAiKAAAAcBEUAQAA4CIoAgAAwEVQBAAAgIugOCL7/ue+amu3uD7VL1bXT9q9EvPqZpWaJ1WU3QYAALPh9yhOzPp7FONful36y7Yl1LzyP165bjsl1ccLR3X7EnVzeu1aF89ZMp/y1qt0P23WJprWAwCANK4ozkj/1rMtqb/W0gUJPHEREoK0zMMs88Vj4+d19JgBAEC/CIojY0NVk3AVk7AlY8caunJrl3rCJAAAsyMozqj0NrNlg0xXoUb3U7cv7aMBUwNX3biYjmk6blYyX104lva6PgAAoB5BsSNyu1lLXXi0Ic1uz0L3ldqPhjqvj9Y1CX46Jt5XE6VzKV2/0jUDAIB+EBQ7Mo/PKGowiktJWJM+df28PvFcXZP5dL+5eaTOW78dDwAAukVQHBkNc7b0xZtLSl9yc+Tm7XNNAADsZQTFObNXzOLtvug8paWpNkFN5tFx8thmXg+hEQCA7vB7FCdm+T2K3mcS6z6naEOS3S7RtH9O6b7qQlyb9cRz1z1XfawFAAD4uKKILA1suVIX3mJeCCzZzyxrabpGAABAUJyZfnnFltzVxL3OC4kAAGCYuPU8Meuf8Ju3kqtjJWGsNLTVzddH8EutbRFrAQBgryIoTowtKAIAAMwDt54BAADgIigCAADARVAEAACAi6AIAAAAF0ERAAAALr71PDGWbz3nfmWMrU/1i9X1S/0qmnhM6XxNePtMrUdo39Ra4rFdHUObcbnjUH2vxfZte+yero+tr3UuincM+ppJvX39bL9lOHYA40RQnOgyKDb5hdv2H/+SE0Gqjz25qJKTSt2cXrvWxXOWzKe89SrdT5u1ibpxKd641Dptv6bztV2fldpH3TGk1t3FmpqI57NrFLOus6RfPKenZC6VmjOuz60t1zc3DgD6xK3nDklI7JucMOIi5CSiZR5mmS8eGz+vo8dcIn6t4pJj12VL3bihkHWOYd12jfNaZzynV8bycwaAPhEUR8Y7obWhIWKsJ8Pc2qVe2+zr5BXLjuuLzKnz5MpYecdiCwBgXAiKHWl6y1lPml2dQHU/dfvSPhqSbHBpQsc0HTcrmS8OeDFpj/vY9abW7I3rg85j5/Pqxig+jrj0Td8fqZ+xZd8PXpnHelU837znB4AUguIC6AlAHu32LHRfqf3Yk1/cR+u0TwkdE++ridK5lK5f6Zrr6Dhbms69LOS4F3ns+rNoomTN2kf3rT/j1DjtmytN6Xy2eGybt+21AcCiEBQ70ORq4izk5GVPJlpKTmolJz+vTzxX12Q+3W9uHqnz1m/H96Vu/6k1x7RfXFJtHqmf5ZhlrPc6dsGuPVVsP8v2ideXW7Mdkxqnffqm89nisW22b64OABaFoDgy8UmkzxOJN5eUvuTmyM1btyZp17CgpW5ME7Kvkv1pv9IyNt4x5IrSn0dcX6JkjNdHnsfvCa8AwF5HUJxR06uJ9gQUb/dF5yktTdWdqD0yj47Tk3YXUmuReltiqXFD0tdr1iVZU10ZCn0vaEnVzVNqzkWsBQAEv0dxYpbfo5j6lTi58CgnS/2H326XaNo/p3RfdSf3NuuJ5657rtqspW6MSh2HXUvpOnPaHIOom7vJ89T2PNSt05rnOmfZf2psXO/1k7oSfR47AKRwRXFGEght0bploSe2XCk90SnvZFmyn1nW4vW1pVSTvp62x6DjrFTfrrTdt4zLlfg40N37EwC6RlDEXI0lKNhgEz+39fMgc7V5zWSMXe88XnedJ1diUmfXqaWONyZXlNcmJdVWInUM3vECwJhw63liLH/rWckJqE7JCar0RFY3Xx8nw9Ta2qyl5PUSbY6j9DW0+no9m6zF9vXGtTkuVXd8oqt1jk3qtS4x9mMHME4ExYmxBUUAAIB54NYzAAAAXARFAAAAuAiKAAAAcBEUAQAA4CIoAgAAwEVQBGawb9/1v9rEqwMAYIz49TgTs/x6nLvuuqva2u3MmTPV1nKTUPTKK/3/fjdvHq3zgpn2bdom6vapdH5Prg0AgLHgimIHJBTGpU4qpCzCkNbSloQyW+wxNWmTouL6ZXidAABogqCImdhgtZdIaMwdO8ESALAMCIoLoAFCHuMwYeu8Nn2M2+romHisbsf1qrTd0r6pMcK2pfoAAIDFIih2QD6naEsdvRIlj95VKb0a5V2V0nqvLcWOicfKtj7qdsyOL6X9pcTrtPuL2wAAwHAQFDsQfz6xJCy2JeFKzRK07H7qNOlbR0Oi6mrfsl9b7H6btElRcX2XrwMAAGNAUJxRyRdXFk0CjoadZSXHaIvVpM22x/XL/PoBAOAhKO4RNuwQeAAAQAmC4oz6vM3ch0VfHYvnJrQCADBcBMWRiUOWBK86Qwtj9sqmt/6hrddTF7ZTxwYAwJgQFGekX16xpeRzizYsNVEXsjx2jDe27Vra0DlkztL1i7pjaCvepxQAALCNP+E3Mcuf8JsnCTGpcJQKOF2Eqa7Fax3iGkt5P5PczwkAgDHhiuKI5MKHtHlliMawxlLe+sd+TAAAKILinG29eL7aCuHS8S+E8/95X/jB+/4r9UteDwDAGBEU5+zF//LGaZiQEHHp+BfDj578f+Hm9/x36pe8HgCAMeIzihPz/Iziy//rc+HS//78dFtCxA13vnW6Tf1y1wMAMEYExYmxfJkFAABgnrj1DAAAABdBEQAAAC6CIgAAAFwERQAAALgIigAAAHARFAEAAOAiKAIAAMBFUAQAAICLoAgAAADXXP4yy6FDh6qeAAAAGAuuKAIAAMBFUAQAAICLoAgAAAAXQREAAAAugiIAAABcBEUAAAC4CIoAAABwERQBAADgIigCAADARVAEAACAi6AIAAAAF0ERAAAALoIiAAAAXARFAAAAuAiKAAAAcK1sTcjG2tpaWF1dnVaWqIZNybaWzc3NsLGxEdbX18OFCxfC+fPnw6FDh6qe4/LIykq1tdv9k+Ok7Xq00RajjbYYbbTFlqVtWREUAQAA4OLWMwAAAFwERQAAALgIigAAAHARFAEAAOAiKAIAAMBFUAQAAICLoAgAAAAXQREAAAAugiIAAABcBEUAAAC4CIoAgKWyf//+agvo3l57fxEUC6T+CHhfvPkWsQavAFgsOUnFZVH6mHvWfcr4c+fOVc8wRLmfcduffx/vxRR5f81zvkUjKM4gF5yGFKraruX+ra3rCoDFkpOUBiG7jflbhrCwlwJPE7wuOwiKA0QgA4Dm5OROcMY8yPtsr4RJgmINuRonwS2+KqfP5bFJmyht93hjcvuwj6l+tpTSvt64XJvI1euj1w6gnp685DE+kWldXK9S7bY+bhN19V6bqGtXde117Bypfdk+ltbH7bod15fIjdU6r02k2my9bUvVC33utZXQcfHYVP0i5NZi22y7bsf1e9ZW5emnn662yly9evVa2dzc3NrY2Ni6cuXK1qVLl7YuXry49cILL2w988wzW6dOnapGjNPD1Uukj5ZXp+ramo6Nx6S2VV27yI1LjVHSnttvrk3FfXLjAOx25513Vlu7Sb3XFteVPs/tSx5te2pblD6v65eT6hvvOzdHalvVtZeQcXX7Vrn59HluXGqM8saWSO2nZP+5OXNtOSXz2Od1/b32WEmfZcAVxQVpc3vZjvGucnZNr+zZYuWOwWuT8XXHkNsngDLe7dfcLVm5ahK3l97Ctf1kW6/AdDGf169r8Ryyrcfg6Wo9TfdT+prNQ24ti1qTp+lahrT2ISEoZthg44WaZSDHZIslxxwXAOMlJ3gtTdhxTca2GaNkzKJP3DJ/2/W3pfM1nbftuD4MZR0itZZF/GzHiqBYIxWilgVhENgb5IQoJ0ctTdhxpeNnmW9IJ29d/7xChX3NtJRoO65rs/zcu1a3Fq2f1892rAiKNQhQADBf9gQ+FENcE7rBzzaPoDgi9qqmbKfC6yxXP/u8cirrLT0GAP2JT4jeSTJ30rRt8bbsKxbvq3S+pifvNif7eIxs6zE03VcfdA2lr5nqc+2la+lzDU2VrLcJGa/vk2W3It9okY21tbWwuro6rSxRDZuSbS2bm5thY2MjrK+vhwsXLoTz58+HQ4cOVT3HJQ4yXrDR4OMFnlRbXUBKzSN1uX0q7Wf7lIwT2h7XK9se70vl2kRuLblxAHakTlS5E5ieHO2J3vbVOpGqF9qmc3n7Erbe62P3G+/T8upScuPjR0vqRKpelY7L8eZXpfMJ25YaF8/lza1j4/o6dWuROm/f3hpUri0nNS63Fn2u4vFxfys13zIiKAIAlspeOolj/vba+4tbzwCApUJIRJ/22vuLoAgAAAAXQREAAAAugiIAAABcBEUAAAC4CIoAAABwERQBAADgIijOaGXlxWqrX/OaJ7aoeUvJ+rxSxxsjxYqfC6/Ok9qfLTl17Z7cmDb7E/E4eW5LV+JffDsG733o/1Zb9Zr0BYAhISgOTJcn37Fpc+xbWz92XSmVGzvLz0HGevuz80jp8med21fbeeJxfR8DAGB4CIoNyEkxPjHKyXKZje34NMzMatl/rl3z/ttoos9fYCtX88Z2RW+MawawnAiKhTSAxAHCOzlqnXfyrOuvj6l+tsS8ets/bivhjcntU5/n2izbXx+9fkOTWmfqOEqCZ26ftsSkLrX/VFtuf8IblzsGaZOS2l8d79az1NnShoStv3zgv02LPtcAlgpitk/Ma/P6psbHdH9alK65dD8A0BeCYg09meZOkh4d0+TkqXPouJjWa7H7zc2XGjOL3D5za0mRvvqo203pvKWkvy2ldB4p8TidX9tTdB8qtU9b77W3Ee+z6f6kvxYZb+n+mu4zRa40amkSFjV4aUC0NIB5QUzrm7a1YfeX2q/WdTEfALRBUMzQE2F8Mixhx+jJM94WOscs4n3Ec6RIH6/Mqs1acuL1aanjjZGiZG222LYc6auajFPS3+4jfm6368RjrVRb3f5z+xTSpkX6xnJt82ADWBM6Ttng5rXNi8xl1wIA80RQzNCT3aJOeH3TE3pchsZbo5Q63hgp2rYIdSHMo+/BLt+LXe/P0v0u6jXWUDWGYKXrzK1X2+YZTgFAERRraLjo64S6qJPpshnDa9l2jfoetEXk9lfSZvelZn0d7b4XaSxX4XSdtlgaEON6AJgXgmIhOfHJSVDKrHRfWJx5v/4aoLqm70k9Hntcubac1LjceO2/6IAYk4ClV+TGRNdMQASwaATFBuQkWHoitCfV1Am0q5Oq7KdkvnkpXYvtNyZdv9bezy9H22WcLVqnj6k2K56rdFzM9h+a0ityGiqVDWpeW0qurY6OLV0zAPSNoNgTOWnKSVhKkxOoHddE2/n6kFqLrffWadv7Fq9FSryeFDu2dIywc2lRqX3aeq+9DW8u2a7Tx1qGRgOhlDiopdpsvTcuJR7XZCwAzMvK1oRsrK2thdXV1WlliWrYlGxr2dzcDBsbG2F9fT1cuHAhnD9/Phw6dKjquTfkTqDSJpbtBKuWMTwAALBXERQTNNA1EQcku4+64Dh2uWPH3sX/NADAuBEUAQAA4OIzigAAAHARFAEAAOAiKAIAAMBFUERjj6ysVFu7xfWpfrG6ftLulZhXN6vUPKmi7DYAAGNFUFwSKx9f2VWa6DLgaGDqOijdv7W1q6hZ5rNj45ITryN+nlO3bwAAhoSguAQkGG79n61dpWlYbCoOVhqAmoSmLswyXzw2fl5HjxkAgGVFUEQrNlQ1CVcxCVsydqyhK7d2qSdMAgDGjKC4BOQKYhs2yHQVanQ/dfvSPhowNXDVjYvpmKbjZiXz1YVjaa/rAwDAkBEUl4j9jGJJeLQhzW7PQveV2o+GOq+P1jUJfjom3lcTpXMpXb/SNQMAsGwIiktkXp9R1GAUl5KwJn3q+nl94rm6JvPpfnPzSJ23fjseAIBlQVBEKxrmbOmLN5eUvuTmyM3b55oAAFgE/tbzkqq7/Zy7+tVV4ImvvjW94jaP4OWtMfd8Vl3vDwCAPhEUl4AXCks+p2hDS9MA02XgKd2X9Mtps5547rrnqo+1AAAwNNx6xihoYMuVuvAW80JgyX5mWUvTNQIAsEgExSWgX16xpe5q4l7nhUQAALAbt57RWsnVsZIwVhra6ubrI/il1raItQAAMG8ERQAAALi49QwAAAAXQREAAAAugiIAAABcBEUAAAC4+DILGst9E9jWp/rF6vqlvmEcjymdrwlvn6n1CO2bWks8tqtjaDMudxyq77XYvm2P3dP1sfW1zkXxjkFfM6m3r5/ttwzHDqAZguISavp7FO0//iUnglQfe3JRJSeVujm9dq2L5yyZT3nrVbqfNmsTdeNSvHGpddp+Tedruz4rtY+6Y0itu4s1NRHPZ9coZl1nSb94Tk/JXCo1Z1yfW1uub24cgOXEreclIyFxHuSEERchJxEt8zDLfPHY+HkdPeYS8WsVlxy7Llvqxg2FrHMM67ZrnNc64zm9MpafM4DlRFBEK94JrQ0NEWM9GebWLvXaZl8nr1h2XF9kTp0nV8bKOxZbAABlCIpLpM0tZz1pdnUC1f3U7Uv7aEiywaUJHdN03KxkvjjgxaQ97mPXm1qzN64POo+dz6sbo/g44tI3fX+kfsaWfT94ZR7rVfF8854fwPAQFPcwPQHIo92ehe4rtR978ov7aJ32KaFj4n01UTqX0vUrXXMdHWdL07mXhRz3Io9dfxZNlKxZ++i+9WecGqd9c6Upnc8Wj23ztr02AHsPX2ZZEvZqYpMri3IC0JOR3a7jnTjisU32l5M6SXU1n46zj5bdZ24O2+b1K6kr3b+wz2VbpcYr27eEtz+dO16TiOtyz1Pbs5D9NBGvTZWsWem43Pq9Pt6+ZpHaX1xfN2/pfgAsP4Likph3UCwx75NK2/l0nDd+1n3GpN5qMl/cZp/nxvVB5/Pmza1T2Oep7UXIzd/nOmV/dUrnS60trq87htL9AFh+3HpeAk0/myjkH3wp3nZfdJ7S0lSbE5jMo+Pksc28ntRapN6WWGrckPT1mnVJ1lRXhkLfC1pSdfOUmnMRawGwWFxRXAISFD114VFOlvoPv90u0bR/Tum+6k7ubdYTz133XLVZS90YlToOu5bSdea0OQZRN3eT56nteahbpzXPdc6y/9TYuN7rJ3Ul+jx2AAM0CXdTTz/9dLVV5urVq9fKJBxuTcLh1pUrV7YuXbq0dfHixa0XXnhh65lnntk6depUNQLzEn712o816+GdH/+u7RJN++eU7KurPlaqv633+rRdS9txqm2bp+1aUuNsfdwn9zw3TqXq68i4XIl5dcq25fp1YZb9p8bG9V6/knlnWRuAceLWM/akWa7azJOsU0v83NbPg8zV5jWTMXa983jddZ5ciUmdXaeWOt6YXFFem5RUW4nUMXjHCwAluPWM1uQEVKfkBFV6Iqubr4+TYWptbdZS8nqJNsdR+hpafb2eTdZi+3rj2hyXqjs+0dU6xyb1WpcY+7EDaIagCAAAABe3ngEAAOAiKAIAAMBFUAQAAICLoAgAAAAXQREAAAAugiKwBFZWXqy2dnh1AAA0wa/HWQJt/4TfMtm/f384d+5c9aw/3jxaJ48x7du0TdTtU0kg3Nr6serZbrk2AADqcEVxSUgojEuJVEhZhCGtpS0JcbbYY2rSJkXF9cvwOgEAxoGgOCByZTB1dRB5NljtJXVXDKWNW9AAgLYIigOiVwLnFRb1ypQ8xlepbJ3Xpo9xWx0dE4/V7bhelbZb2jc1Rti2VB8AAPYqguIAaVhsEhi1f5NxehVOb2nG9DanPlpa77Wl2DHxWNnWR92O2fGltL+UeJ12f3EbAACY5Iut6lspfJnleqnAlbvqN0ubR/qn2pTXp2Sc0LAU0/r40bZZqf1YdX1y7W3GxnX2eUl/T26cPMbsfLFcm6jbpyj5sgpfaAEAtMUVxQwJWl7pq82SoFca9kr6DIEGn1QwWgZyjLZYTdpse1y/zK8fAGBYCIoDpAFxLAGwCRt2CDwAAAwbQXFAmlxFtGTM2Cz66lg8N6EVAIDrERQHZExXEeOQJcGrztDCmL2y6a1/DL9Wpu7X3/D5RADALAiKS0DCpV6NbHpV0oalJupClseO8ca2XUsbOofMWbp+UXcMbcX7lAIAwKLxrWc0JiEmFY5SAaeLMNW1eK1DXGMp78ohVxMBALMiKAIAAMDFrWcAAAC4CIoAAABwERQBAADgIigCAADARVAEAACAi6AIAAAAF0ERAAAALoIiAAAAXARFAAAAuAiKAAAAcBEUAQAA4CIoAgAAwEVQBAAAgIugCAAAABdBEQAAAC6CIgAAAFwERQAAALgIigAAAHARFAEAAOAiKAIAAMBFUAQAAICLoAgAAAAXQREAAAAugiIAAABcBMUCj6ysVFvz4c23iDV4ZYz2799fbc1Hl/OV7Gvex+cZwhrGynvthvh6lq5T6+QxLqppm5RUW8yrA9AeQXEGueA0pFDVdi33b21dV/aKvXyy4UTry70uQ3rNhrSWc+fO7Sp2bU3apKi4fkjHCywjguIA7aVA1gQnBJ89iWJ8+PkBGDKCYg25GifBLb4qp8/lsUmbKG33eGNy+7CPqX62lNK+3rhcm8jV66PX3lbqRCzB0xal23G9qmtve+JP7U/UtXl0TGqs16bbcX0JHeONTdUL2+a1e0rG5NpSUvvU503bRGm7xxuT24d9TPWzpYmxBFqCN9CxrcrTTz9dbZW5evXqtbK5ubm1sbGxdeXKla1Lly5tXbx4ceuFF17YeuaZZ7ZOnTpVjRinh6uXSB8tr07VtTUdG49Jbau6dpEblxqjpD2331ybivvkxnXtzjvvrLZ22DqvXUlbrr2N1NzxXN68beri9lxbidx8Tefy6mK5fYq6OTxN9hmra2s6Nh6T2lZ17aJuXBu5fXbZpnLjAPSDK4oL0ub2sh3jXeXsml7Zs8XKHYPXJuPrjiG3z741uRLR5VULubJj9yfb9mpPrq2NeD4RP+9S033Pupa61zNlSK+BaHMMQyNrtsUeU5M2KSqub/PaAihHUMywwcYLNctAjskWS445LstCT7xSlpU9mS76OFPrGNrPIbXOZWGPbx7HKD9fW6wmbbY9rl/WnxUwFATFGqkQtSzGFAa7PiHYE80ynmzsyVTLIshrm1uD1i/651C3zmVgj2+ZjxNAdwiKNcYQoDAbPWEuY1gcE34OADA8BMURsVc1ZTsVXme5+tnnlVNZb+kxeLq8+jGkMBKHI72ypXJtTeh+vDAWP+/LPOatez1LzOv1yCk9hlnWOoTjBDBsK/KNFtlYW1sLq6ur08oS1bAp2dayubkZNjY2wvr6erhw4UI4f/58OHToUNVzXOIg4wUbDT5e4Em11QWk1DxSl9un0n62T8k4oe1xvbLt8b5Urk3k1pIb17X4JBmfiLXdq28aPEp48+lcqbWI1Hp0jIr72PZUm7dfj7cGW2f3F+9bn6uSOeP54ucinqeEHeONz+0z1Sb1uTV47VqX26fSfrZPyTgRt7eR2me8JquuzSP9vXG5fQGYHUERGCk9oXKSBAD0hVvPwEhJQCQkAgD6RFAEAACAi6AIAAAAF0ERAAAALoIiAAAAXARFAAAAuAiKAAAAcBEUAQAA4CIoAgAAwEVQBAAAgIugCAAAABdBEQAAAC6CIgAAAFwERQAAALgIigAAAHARFAEAAOAiKBba2tqiUDotAAAMHUGxRu6kbk/6FEqueHJtAAAMAUExwTuJa13cFtdTKFpUql54dQAADAFB0ZE6kdty9erVa8Vrp1Ck1L1PrPg5AACLtjI5OU3PTmtra2F1dXVaWcKe1GRby+bmZtjY2Ajr6+vhwoUL4fz58+HQoUNVz+GLjyv3KOw24FlZWam2drZTj8JuAwCwSATFiB6XfdRin+s2UMIGwnjbPrePAAAsGkHRSB1T3W1Duw1YNvRpKLTlhhtu2PVc2W0AABaFoGjoMdnjsSER6JKGQy8s6iMAAIvEl1kqXhDULyFI8AW6Ju8rfY/F+B8TAMAQEBQjevVQT94ERfRFg6KQR33vAQAwFATFDDl56610oGvyvpL3l4ZFAACGhqCYoFcVpVy5cqWqBboj7yt9j3ElEQAwRARFhz1pyxUfKUDX4vcWYREAMDQERSM+UctzKQRF9EHeV/oes+LnAAAsCkExwZ7AOXGjD/b9xXsMADBEBMVIfMLmBI4+8X4DAAwZQREAAAAugmKB2qs8px4Od91113b5xNfC89PK0+FhrZuWhyc1xne/Fo7edTR87bvV86maMVH70a9vz/T8149e21Ze3Q67n+01SP+debXszH/6kcnzR3avZmp6HDtjHj61XS39dXuy9/C1T+ys93rb7al5d/azQ+un64rnj9a08zO5/ji31ySvR/xab9u9f/PzkjnMfsV1a5U+3mtW4eohAGDoCIqzkjDwpf3h5Jkz4YyUT4Tw1LXwd294XOvPfDIcrGrF8393IoSfD+HE38XhaWfMyc+fDcc0XE3Dz7Gw/0nd35nwufCUG27yJJTZ/RwNYbKG2z5wbPv5kw+Fw/c9XrXpmk+HE2uHw+FHT+yeTwLyu8+Fo9V6pBx5dnd42p7vcDj3iTPh2Aduq+qs7fYT7zt5bR9nntwfjlWh7OAvPxTOfinep6znoXDvO7ef3fvlnfk/WdWFn3/o2s/k8dUHwnET4A5/fmcuf03bJPh9OOhrIeVoOPfuKgze/q5wJJwLz213ndh+jc4+sfMKTX/GB+6ongEAMD4ExVn9+7lwcvVAuBY33nlPuOf2ajvpdDj+qQOTgHk0HPjWU1EI2nHbzx4J4ex2FDn9Zw+EA18+tmvft33gnl3hs8xz4dzfHAgHru3nYLgnE5bE818/Fs6+73Phc5PgeuJa4JoEvC+dDQ89uTsAH5ysye7t9CPbIfFagIudOh4eWH18d2C7/Z5w7MsHtkP0NJCdMOFb1/OuXfPkHLz73nD22dSrnDAJ5scmYfTk/buOLnxyEqS3w+Bt4cDq8Z3X49SJyZqOhiNrO2H6ubMhHPnZ0lUCADA8BMVZvfPe8NDahxO3VY+HD+ttS3ubchIqjt93ZBI7DoYjq7tDkLVzRer5cHbt3nAkFbYmTn7qcHV7dLsc/tTJqiV2MNw7CXwfjm6bpj0fnvrWduCR4LpzxWwSOCcR7l2ZUHx2EoSPHTiZDokTzz97Ntx7txN337g/hGmIvi286332yqusZxKyTbA8/hE97vhW/rbTTxwPB96809++Vt5t7anJ/wAEL4zePgnZ1ZVVCaDHq9fj+WflNTo4CY9nw9npGk6HE4/aQA4AwPgQFGd2W7jnS3Ib+NNO8DC3nr+0c6Xt9BNnw0O/vB2ODt59IDzwZxq+xE64/PRkr9tX2uQq4HZrir2dKuXk5w9XLdeb3mZ+MIRPyzyZz9BNffepcGL16PaVTLm6t3ZsO4x9dxKIph3yTmaumIrnzqYC7UR1pfa2DxwNBz51fPtK3XQ9ErJ37Nx6Nldc/+aBcLh6HU/cvfuKpn2tUiFWAmzSz+8P0xvK7zwS7l07Ozm+7TAtoVB+ntNQK6/P9H8GAAAYL4JiR/QzfkeeyFylEnJL89GT4YF3b4eYuz5yPIRdn/2rwuWTD1VX1MTBcOQ+vVLVEbm9K/PcfSIbFuWW98lHP7y91rsOhwf+5qS5JWw/o3e9A584Fk6+70Q4nNm/vSq3i1zRu/b5Pjn+7du801vw3hXImH5G8cuJ/deY3vb3Qq4EwGsfNaiuCJ8y4XUSHuXjBKf/7kTZOgEAGDCC4qxOPbwrGN5xIH0lT0xvJ0dX/x6vQtAukyD3uUnI+nR1S3t65fHdu2+tnn7E/6Zu3unwsA1ub9wf0iuW26f2CzmTci3Ayi3hs+HDu74t/Hz42iO7b2lLgH48pG7NT8hVuUkQ3RWu5Ys7Hwm7bi9vB8qHd32Jpcg7PzmdPxvePdMg/MC113/b5LV794lwpLoaLO44EMK5J86ZUHhH2B9OhGPfCmH/G6sqAABGiqA4q3feG/Z/qbo6OCmHzx41tzPNZxQn5eFTO5/3s6Yh6Lpv9krI+lw48q3D2yFnEnjOPHkknNArkZNy4u7dXyQpczDce+DYtX1Mv7W86wsbxrXPUhpVgJJvEU+von45mGP8dAi/vPvLLOLg/Senx+FfuTwYPnnm5K7XcPub1NGxTT8Letz9EsvOZxQnxZnj4P2Ph/AR//OLO+zPSvpuf6Tg6Fn72U/5tnj0hSL53OajZ00o3P5M5eSIs5/fBABgDFa2ql/mtra2FlZXV6eVJezvgJNtLfL3azc2NsL6+nq4cOFCOH/+fDh06FDVc7jsMehxXLlyJVy6dClcvHgxvP71r696At34zne+E17zmteEV7/61eHmm28ON954Y1hZWdlVAABYJK4oFuCEjT7wvgIADB1BEQAAAC6CYiS+ysNVH/SJ9xsAYMgIigmcsDFPvN8AAENEUDRSV3c4iaMPqfcX7zcAwFAQFB32RC3bnLjRh/i9xfsMADA0BMUEPYnHJ3OgK7zHAABDR1DM0BP4DTfwMqF78r4iJAIAhoxfuF2Jj+fq1avT47h8+XJ45ZVXwksvvRReeOGFaZHjkuOTdmXHA8IGwJtuuinccsst4bWvfW34iZ/4iWl53eteF/bt2xde9apXTds1OCoCJABg0VoHRaHhSB61jDUoCns8EhT1WOSvs7z88svT45EiwVH+aov0UToWUDboSQiUv74iwVDCopRbb711+ldZJCTKX2WxQZGQCAAYgs6DooQnCVEaFF988cVw8GDzv0i8CHo8Qo5Dryrq8UhglEd5LiFS2DGAR0OfhEEJi3JlUQKiPMpzvZooRREUAQBDQFCM6DHp1UK9qqhFnkvRdu0PpGjokyAoYVGKhEMt8lzbBSERADAUvQbFixcvTm89jzEoCjkWPaa4KNsf8Njgp1cObZF2eVQERQDAUPQSFPVzfRIU5YriT/3UT037jYUel4iPzdYBTUgA1BCoAdHWCbsNAMCidRYU9dF+AeSHP/zh9Iri2IKi0GMS8XHGUvVAKvhpPSERADBknQdFueqmt54lKMoVxXe84x3T9jHSY/Pk2gArFwIJiACAoerkN0nHJzp5rsV+9mqM9Dg89jgplFzx5NoAABiClatXr27JyWqWK4pCtvWKotx6lquK8rsHf/CDH4S3ve1tVS8AAACMxUy3noWGRX20QVE+pyi/IkfCotyCli+3SHjUXzOjXw5Rug8AAAAsXmdBUci2hD95lD99J0WCoQREKfKZRfnsooZEGxTtfgAAALB4nQdFKfaqogRDubIof/ZOHu3VRDtWxM8BAACwODMHRWEDngZAeZSgKMFQrizKtj7XdmXHAwAAYBg6D4qyrUWuHEqxAVGea399BAAAwPB0EhSFDX2yba8sStGAaIsVPwcAAMBidRYUhQ17sq23l3XbtmsbAAAAhqnToChsGNRtGwq1zvYDAADA8HQeFIUNgXEgJCACAACMQy9BUREKAQAAxqvXP8Ssf8uWv2cLAAAwPr0GRcuGxlQBAADAcPR66xkAAADjNbcrigAAABgXgiIAAABcBEUAAAA4Qvj/0PAj171OHu4AAAAASUVORK5CYII=)"
      ],
      "metadata": {
        "id": "AL6Lv37hDgSv"
      }
    },
    {
      "cell_type": "markdown",
      "source": [
        "- 참조 : https://docs.python.org/3/library/string.html"
      ],
      "metadata": {
        "id": "LzebMrgSEgGQ"
      }
    },
    {
      "cell_type": "code",
      "source": [
        "tmp_string = \"BMW-BENZ-TESLA-KIA\"\n",
        "print(tmp_string.split(sep = '-'))"
      ],
      "metadata": {
        "colab": {
          "base_uri": "https://localhost:8080/"
        },
        "id": "Qx5WkcKeD-Oq",
        "outputId": "fa190f7f-73dd-41de-cc16-05fca999ae5d"
      },
      "execution_count": null,
      "outputs": [
        {
          "output_type": "stream",
          "name": "stdout",
          "text": [
            "['BMW', 'BENZ', 'TESLA', 'KIA']\n"
          ]
        }
      ]
    },
    {
      "cell_type": "markdown",
      "source": [
        "## 리스트\n",
        "- 자바의 배열"
      ],
      "metadata": {
        "id": "tYOZXi5dFsU4"
      }
    },
    {
      "cell_type": "code",
      "source": [
        "a = []\n",
        "a_func = list() # list() 함수로도 빈 리스트 생성 \n",
        "b = [1]\n",
        "c = ['Apple']\n",
        "d = [1, 2, ['apple']]\n",
        "\n",
        "print(a)\n",
        "print(a_func)\n",
        "print(b)\n",
        "print(c)\n",
        "print(d)"
      ],
      "metadata": {
        "colab": {
          "base_uri": "https://localhost:8080/"
        },
        "id": "8pjd9Nv3F627",
        "outputId": "0dac3a7d-dc0f-4c68-f625-1dc165253400"
      },
      "execution_count": null,
      "outputs": [
        {
          "output_type": "stream",
          "name": "stdout",
          "text": [
            "[]\n",
            "[]\n",
            "[1]\n",
            "['Apple']\n",
            "[1, 2, ['apple']]\n"
          ]
        }
      ]
    },
    {
      "cell_type": "code",
      "source": [
        "a = [5, 3, 1, 4, 6, 7]\n",
        "print(a)"
      ],
      "metadata": {
        "colab": {
          "base_uri": "https://localhost:8080/"
        },
        "id": "R_ujXpkjHNuf",
        "outputId": "55bdc38e-324e-458d-9e92-40dcc0f26100"
      },
      "execution_count": null,
      "outputs": [
        {
          "output_type": "stream",
          "name": "stdout",
          "text": [
            "[5, 3, 1, 4, 6, 7]\n"
          ]
        }
      ]
    },
    {
      "cell_type": "code",
      "source": [
        "a[0:4]"
      ],
      "metadata": {
        "colab": {
          "base_uri": "https://localhost:8080/"
        },
        "id": "kOTUDJPWHW-H",
        "outputId": "1f48dfc3-8597-44f9-f0d4-1744dd89bff6"
      },
      "execution_count": null,
      "outputs": [
        {
          "output_type": "execute_result",
          "data": {
            "text/plain": [
              "[5, 3, 1, 4]"
            ]
          },
          "metadata": {},
          "execution_count": 17
        }
      ]
    },
    {
      "cell_type": "markdown",
      "source": [
        "### 중첩리스트(Nested List)\n",
        "- 리스트내의 또 다른 리스트"
      ],
      "metadata": {
        "id": "Un7b-NKWHmVr"
      }
    },
    {
      "cell_type": "code",
      "source": [
        "a = [['apple', 'banana', 'cherry'], 1]\n",
        "print(a)"
      ],
      "metadata": {
        "colab": {
          "base_uri": "https://localhost:8080/"
        },
        "id": "jxLcHUa7Hv3O",
        "outputId": "503d6558-0a1b-42a0-f046-b1a2317cdd76"
      },
      "execution_count": null,
      "outputs": [
        {
          "output_type": "stream",
          "name": "stdout",
          "text": [
            "[['apple', 'banana', 'cherry'], 1]\n"
          ]
        }
      ]
    },
    {
      "cell_type": "code",
      "source": [
        "# cherry 글자에서 알파벳 e 만 가져오기\n",
        "temp = a[0]\n",
        "temp[2]"
      ],
      "metadata": {
        "colab": {
          "base_uri": "https://localhost:8080/",
          "height": 35
        },
        "id": "2wnSF_psJlaQ",
        "outputId": "7d141c0d-8d82-409a-8fb0-73aa62a7eab6"
      },
      "execution_count": null,
      "outputs": [
        {
          "output_type": "execute_result",
          "data": {
            "text/plain": [
              "'cherry'"
            ],
            "application/vnd.google.colaboratory.intrinsic+json": {
              "type": "string"
            }
          },
          "metadata": {},
          "execution_count": 43
        }
      ]
    },
    {
      "cell_type": "code",
      "source": [
        "# cherry 글자에서 알파벳 e만 가져오기\n",
        "temp = a[0]\n",
        "temp2 = temp[2]\n",
        "temp2[2]"
      ],
      "metadata": {
        "colab": {
          "base_uri": "https://localhost:8080/",
          "height": 35
        },
        "id": "3N2vao2eH5LR",
        "outputId": "fe72f2ed-b8f9-44cc-9e0c-7177ea6f3a3d"
      },
      "execution_count": null,
      "outputs": [
        {
          "output_type": "execute_result",
          "data": {
            "text/plain": [
              "'e'"
            ],
            "application/vnd.google.colaboratory.intrinsic+json": {
              "type": "string"
            }
          },
          "metadata": {},
          "execution_count": 41
        }
      ]
    },
    {
      "cell_type": "code",
      "source": [
        "print(a[0][2][2])"
      ],
      "metadata": {
        "colab": {
          "base_uri": "https://localhost:8080/"
        },
        "id": "fYRvuZsrJt3I",
        "outputId": "d94f3c3f-a4b9-41da-f2d9-6aeb11127bf0"
      },
      "execution_count": null,
      "outputs": [
        {
          "output_type": "stream",
          "name": "stdout",
          "text": [
            "e\n"
          ]
        }
      ]
    },
    {
      "cell_type": "markdown",
      "source": [
        "### 리스트 연결 연산자\n",
        "- 덧셈, 곱셈"
      ],
      "metadata": {
        "id": "MQ6kuXf9nQlH"
      }
    },
    {
      "cell_type": "code",
      "source": [
        "a = ['alice', 'bob', 'cat']\n",
        "b = ['apple', 'banana', 'cherry']\n",
        "\n",
        "c = a + b\n",
        "print(c)"
      ],
      "metadata": {
        "colab": {
          "base_uri": "https://localhost:8080/"
        },
        "id": "vZI1UU-MnS5k",
        "outputId": "50c08964-20bb-4036-9233-a87af837f910"
      },
      "execution_count": 1,
      "outputs": [
        {
          "output_type": "stream",
          "name": "stdout",
          "text": [
            "['alice', 'bob', 'cat', 'apple', 'banana', 'cherry']\n"
          ]
        }
      ]
    },
    {
      "cell_type": "code",
      "source": [
        "a = ['a', 'b', 'c']\n",
        "b = a * 3\n",
        "print(b)"
      ],
      "metadata": {
        "colab": {
          "base_uri": "https://localhost:8080/"
        },
        "id": "SORTClCWoR1n",
        "outputId": "0e8a5088-3c53-492a-99d2-f7be34a90125"
      },
      "execution_count": 2,
      "outputs": [
        {
          "output_type": "stream",
          "name": "stdout",
          "text": [
            "['a', 'b', 'c', 'a', 'b', 'c', 'a', 'b', 'c']\n"
          ]
        }
      ]
    },
    {
      "cell_type": "code",
      "source": [
        "c = a * 0\n",
        "print(c)"
      ],
      "metadata": {
        "colab": {
          "base_uri": "https://localhost:8080/"
        },
        "id": "kAmP8elYojkz",
        "outputId": "adb41ebb-8479-49ab-c5a9-28ed1b287ecc"
      },
      "execution_count": 3,
      "outputs": [
        {
          "output_type": "stream",
          "name": "stdout",
          "text": [
            "[]\n"
          ]
        }
      ]
    },
    {
      "cell_type": "markdown",
      "source": [
        "### 리스트 값 수정\n",
        "- 참조 : https://docs.python.org/3/tutorial/datastructures.html"
      ],
      "metadata": {
        "id": "9usfzLvWpI6X"
      }
    },
    {
      "cell_type": "code",
      "source": [
        "a = [1, 1, 1]\n",
        "a[1] = \"b\" # 숫자, 문자, None 가능\n",
        "\n",
        "print(a)"
      ],
      "metadata": {
        "colab": {
          "base_uri": "https://localhost:8080/"
        },
        "id": "vV_4cO1NpKZs",
        "outputId": "16b26d03-1d91-48df-a92b-70ffdb4110dd"
      },
      "execution_count": 4,
      "outputs": [
        {
          "output_type": "stream",
          "name": "stdout",
          "text": [
            "[1, 'b', 1]\n"
          ]
        }
      ]
    },
    {
      "cell_type": "markdown",
      "source": [
        "### 리스트 값 추가하기\n",
        "- append 메서드 사용 (기억)\n",
        "- 반복문 사용 시, 매우 자주 활용 됨\n",
        "\n",
        "- 참조 : https://python-reference.readthedocs.io/en/latest/docs/list/append.html"
      ],
      "metadata": {
        "id": "_XNUdY1gprmA"
      }
    },
    {
      "cell_type": "code",
      "source": [
        "a = [100, 200, 300]\n",
        "\n",
        "a.append(400)\n",
        "a.append(500)\n",
        "a.append(600)\n",
        "\n",
        "print(a)"
      ],
      "metadata": {
        "colab": {
          "base_uri": "https://localhost:8080/"
        },
        "id": "7Jc6UpKHpt-O",
        "outputId": "d102b612-bc4d-45ae-8d73-4a72238c4205"
      },
      "execution_count": 5,
      "outputs": [
        {
          "output_type": "stream",
          "name": "stdout",
          "text": [
            "[100, 200, 300, 400]\n"
          ]
        }
      ]
    },
    {
      "cell_type": "code",
      "source": [
        "a = [100, 200, 300]\n",
        "b = [400, 500, 600]\n",
        "\n",
        "a.append(b)\n",
        "\n",
        "print(a)"
      ],
      "metadata": {
        "colab": {
          "base_uri": "https://localhost:8080/"
        },
        "id": "Z6WFDUPGqqjY",
        "outputId": "1a08ab37-0f0e-4635-8833-bd17fce3362a"
      },
      "execution_count": 6,
      "outputs": [
        {
          "output_type": "stream",
          "name": "stdout",
          "text": [
            "[100, 200, 300, [400, 500, 600]]\n"
          ]
        }
      ]
    },
    {
      "cell_type": "markdown",
      "source": [
        "### extend() 함수 사용\n",
        "- 여러 개의 요소를 추가하고 싶다면 사용\n",
        "- 참조 : https://python-reference.readthedocs.io/en/latest/docs/list/extend.html"
      ],
      "metadata": {
        "id": "eh8igBgHq3ix"
      }
    },
    {
      "cell_type": "code",
      "source": [
        "a = [100, 200, 300]\n",
        "b = [400, 500, 600]\n",
        "\n",
        "a.extend(b)\n",
        "\n",
        "print(a)"
      ],
      "metadata": {
        "colab": {
          "base_uri": "https://localhost:8080/"
        },
        "id": "GMEXj37dq7wU",
        "outputId": "dd9ba27d-9760-4097-fc2f-89706d6043a2"
      },
      "execution_count": 7,
      "outputs": [
        {
          "output_type": "stream",
          "name": "stdout",
          "text": [
            "[100, 200, 300, 400, 500, 600]\n"
          ]
        }
      ]
    },
    {
      "cell_type": "markdown",
      "source": [
        "### insert\n",
        "- 특정한 위치에 값을 추가"
      ],
      "metadata": {
        "id": "mTw-t-DarPh5"
      }
    },
    {
      "cell_type": "code",
      "source": [
        "a = [1, 1, 1, 1, 1, 1, 1]\n",
        "a.insert(1, 100)\n",
        "\n",
        "print(a)"
      ],
      "metadata": {
        "colab": {
          "base_uri": "https://localhost:8080/"
        },
        "id": "gUGIBo4WrVIJ",
        "outputId": "fdc938cb-881c-4a89-8f0c-c5b3ab1675d7"
      },
      "execution_count": 8,
      "outputs": [
        {
          "output_type": "stream",
          "name": "stdout",
          "text": [
            "[1, 100, 1, 1, 1, 1, 1, 1]\n"
          ]
        }
      ]
    },
    {
      "cell_type": "code",
      "source": [
        "a = [1, 1, 1, 1, 1, 1, 1]\n",
        "a1 = a.insert(1, 100)\n",
        "\n",
        "print(a1)"
      ],
      "metadata": {
        "colab": {
          "base_uri": "https://localhost:8080/"
        },
        "id": "pybzp4gZrvhj",
        "outputId": "53cab568-eedb-4647-e210-82741895b341"
      },
      "execution_count": 10,
      "outputs": [
        {
          "output_type": "stream",
          "name": "stdout",
          "text": [
            "None\n"
          ]
        }
      ]
    },
    {
      "cell_type": "markdown",
      "source": [
        "### 리스트의 값을 삭제\n",
        "- remove() 함수"
      ],
      "metadata": {
        "id": "w2LWqnCIsfwI"
      }
    },
    {
      "cell_type": "code",
      "source": [
        "a = [5, 4, 7, 2, 1]\n",
        "a.remove(7) # 숫자는 인덱스 번호 아님, value 값\n",
        "a"
      ],
      "metadata": {
        "colab": {
          "base_uri": "https://localhost:8080/"
        },
        "id": "wWfgJf7usjFo",
        "outputId": "549a91d8-c317-4c93-91bd-02e1572d8e8a"
      },
      "execution_count": 12,
      "outputs": [
        {
          "output_type": "execute_result",
          "data": {
            "text/plain": [
              "[5, 4, 2, 1]"
            ]
          },
          "metadata": {},
          "execution_count": 12
        }
      ]
    },
    {
      "cell_type": "markdown",
      "source": [
        "- pop 함수"
      ],
      "metadata": {
        "id": "VgY-Dzr9s7fx"
      }
    },
    {
      "cell_type": "code",
      "source": [
        "a = [5, 4, 7, 2, 1]\n",
        "a2 = a.pop(4) # 제거한 값이 어떤 값인지를 저장해서 표시\n",
        "\n",
        "print(a2)\n",
        "print(a) # 값을 지우고 난 나머지들을 출력"
      ],
      "metadata": {
        "colab": {
          "base_uri": "https://localhost:8080/"
        },
        "id": "CHbk_Jtis-R7",
        "outputId": "2207a584-6cc2-4623-a3f6-51ed1453d2b7"
      },
      "execution_count": 15,
      "outputs": [
        {
          "output_type": "stream",
          "name": "stdout",
          "text": [
            "1\n",
            "[5, 4, 7, 2]\n"
          ]
        }
      ]
    },
    {
      "cell_type": "markdown",
      "source": [
        "- 참조 : https://www.programiz.com/python-programming/methods/list/pop"
      ],
      "metadata": {
        "id": "EbEsEh-Nt34I"
      }
    },
    {
      "cell_type": "markdown",
      "source": [
        "## 그 외 유용한 메서드\n",
        "- clear 함수"
      ],
      "metadata": {
        "id": "P9yUgOdyvO_F"
      }
    },
    {
      "cell_type": "code",
      "source": [
        "a = [0, 1, 2, 3]\n",
        "print(a)\n",
        "\n",
        "a.clear()\n",
        "print(a)"
      ],
      "metadata": {
        "colab": {
          "base_uri": "https://localhost:8080/"
        },
        "id": "S7ORs7uRvdtB",
        "outputId": "cfbacca4-5993-4960-8f3a-e6d1762ac204"
      },
      "execution_count": 16,
      "outputs": [
        {
          "output_type": "stream",
          "name": "stdout",
          "text": [
            "[0, 1, 2, 3]\n",
            "[]\n"
          ]
        }
      ]
    },
    {
      "cell_type": "code",
      "source": [
        "a = [1, 4, 5, 2, 3]\n",
        "a.sort()\n",
        "print(a)"
      ],
      "metadata": {
        "colab": {
          "base_uri": "https://localhost:8080/"
        },
        "id": "hbRKtuCzvq-L",
        "outputId": "b4c580c0-55b8-4536-f8d9-8edc71b30427"
      },
      "execution_count": 18,
      "outputs": [
        {
          "output_type": "stream",
          "name": "stdout",
          "text": [
            "[1, 2, 3, 4, 5]\n"
          ]
        }
      ]
    },
    {
      "cell_type": "code",
      "source": [
        "# 내림차순으로 정렬\n",
        "\n",
        "a = [1, 4, 5, 2, 3]\n",
        "a.sort(reverse = True)\n",
        "print(a)"
      ],
      "metadata": {
        "colab": {
          "base_uri": "https://localhost:8080/"
        },
        "id": "YJCoRYuxv24Q",
        "outputId": "128b3112-e55a-4a15-975d-d288710ca24d"
      },
      "execution_count": 19,
      "outputs": [
        {
          "output_type": "stream",
          "name": "stdout",
          "text": [
            "[5, 4, 3, 2, 1]\n"
          ]
        }
      ]
    },
    {
      "cell_type": "markdown",
      "source": [
        "- 참조 : https://blockdmask.tistory.com/564"
      ],
      "metadata": {
        "id": "ZSZkHHx4waX8"
      }
    }
  ]
}