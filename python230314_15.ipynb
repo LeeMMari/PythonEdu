{
  "nbformat": 4,
  "nbformat_minor": 0,
  "metadata": {
    "colab": {
      "provenance": [],
      "toc_visible": true
    },
    "kernelspec": {
      "name": "python3",
      "display_name": "Python 3"
    },
    "language_info": {
      "name": "python"
    }
  },
  "cells": [
    {
      "cell_type": "markdown",
      "source": [
        "# 파이썬 기초 문법\n",
        "- 주석처리\n",
        "- 여러 줄 주석처리 시,\n",
        "  + 함수, 클래스 작성할 때 쓰인다. (예 - Docstring)"
      ],
      "metadata": {
        "id": "VZIOEL8lG1s9"
      }
    },
    {
      "cell_type": "code",
      "source": [
        "# 이 코드는 무슨무슨 코드임 (주석)\n",
        "\n",
        "'''\n",
        "여러줄 주석 처리\n",
        "'''\n",
        "\n",
        "\"\"\"\n",
        "여러줄 주석 처리\n",
        "\"\"\"\n",
        "\n",
        "print(\"Hello World\")"
      ],
      "metadata": {
        "colab": {
          "base_uri": "https://localhost:8080/"
        },
        "id": "j5cX2hb1fBDb",
        "outputId": "1b3b48c7-9523-4319-dc2b-2e278375fe49"
      },
      "execution_count": null,
      "outputs": [
        {
          "output_type": "stream",
          "name": "stdout",
          "text": [
            "Hello World\n"
          ]
        }
      ]
    },
    {
      "cell_type": "code",
      "source": [
        "1+1"
      ],
      "metadata": {
        "colab": {
          "base_uri": "https://localhost:8080/"
        },
        "id": "2wQCa5ZRKJsz",
        "outputId": "7ca1cdbe-3b1c-47c2-8794-167624f7d02d"
      },
      "execution_count": null,
      "outputs": [
        {
          "output_type": "execute_result",
          "data": {
            "text/plain": [
              "2"
            ]
          },
          "metadata": {},
          "execution_count": 70
        }
      ]
    },
    {
      "cell_type": "markdown",
      "source": [
        "## 변수의 종류 (Scala 자료형)\n",
        "- 크게 4가지 존재 :  int, float, bool, None\n",
        "- 스칼라의 의미 : 더 이상 나누어지지 않는 것 (가장 작은 단위)"
      ],
      "metadata": {
        "id": "XaLKABI9hQhs"
      }
    },
    {
      "cell_type": "markdown",
      "source": [
        "### int형 예제"
      ],
      "metadata": {
        "id": "GvMeHbfOhl_u"
      }
    },
    {
      "cell_type": "code",
      "source": [
        "temp_int = 1\n",
        "print(temp_int)\n",
        "print(type(temp_int))  #어떤 class 인지 알고싶을때"
      ],
      "metadata": {
        "colab": {
          "base_uri": "https://localhost:8080/"
        },
        "id": "DK6ZEGwOhP_s",
        "outputId": "7e4ef350-97c4-4d0e-e704-2146884b8f9d"
      },
      "execution_count": null,
      "outputs": [
        {
          "output_type": "stream",
          "name": "stdout",
          "text": [
            "1\n",
            "<class 'int'>\n"
          ]
        }
      ]
    },
    {
      "cell_type": "markdown",
      "source": [
        "- 문자열"
      ],
      "metadata": {
        "id": "OeZOMlMCi7eG"
      }
    },
    {
      "cell_type": "code",
      "source": [
        "temp_int = '1'\n",
        "print(temp_int)\n",
        "print(type(temp_int))"
      ],
      "metadata": {
        "colab": {
          "base_uri": "https://localhost:8080/"
        },
        "id": "bcBoMnpbi9JL",
        "outputId": "7e68da73-d417-4033-fa5f-b29ed7cdaaf0"
      },
      "execution_count": null,
      "outputs": [
        {
          "output_type": "stream",
          "name": "stdout",
          "text": [
            "1\n",
            "<class 'str'>\n"
          ]
        }
      ]
    },
    {
      "cell_type": "markdown",
      "source": [
        "### float 형 예제\n",
        "- 실수형"
      ],
      "metadata": {
        "id": "Vdd04nGKje7S"
      }
    },
    {
      "cell_type": "code",
      "source": [
        "num_float = 0.2\n",
        "print(num_float)\n",
        "print(type(num_float))"
      ],
      "metadata": {
        "colab": {
          "base_uri": "https://localhost:8080/"
        },
        "id": "sK_LwZS0jl4G",
        "outputId": "23c35776-448f-4600-a597-55f5bedd5e08"
      },
      "execution_count": null,
      "outputs": [
        {
          "output_type": "stream",
          "name": "stdout",
          "text": [
            "0.2\n",
            "<class 'float'>\n"
          ]
        }
      ]
    },
    {
      "cell_type": "markdown",
      "source": [
        "### Bool 형\n",
        "- 참, 거짓"
      ],
      "metadata": {
        "id": "yuAkEsYDkGzj"
      }
    },
    {
      "cell_type": "code",
      "source": [
        "temp_bool = True   #bool 은 첫글자 대문자\n",
        "temp_bool = False\n",
        "#temp_bool 을 여러 개 쓰면 제일 밑에 있는 코드가 실행\n",
        "print(type(temp_bool))"
      ],
      "metadata": {
        "colab": {
          "base_uri": "https://localhost:8080/"
        },
        "id": "hRAGYa6bkKWS",
        "outputId": "e6e4e444-a889-46f1-8bed-b60e29b97cc9"
      },
      "execution_count": null,
      "outputs": [
        {
          "output_type": "stream",
          "name": "stdout",
          "text": [
            "<class 'bool'>\n"
          ]
        }
      ]
    },
    {
      "cell_type": "markdown",
      "source": [
        "### None 자료형\n",
        "- Null 을 나타내는 자료형\n",
        "  + 데이터분석에서 가장 처리하기 까다로운 자료형"
      ],
      "metadata": {
        "id": "_SL9ufw2k6PC"
      }
    },
    {
      "cell_type": "code",
      "source": [
        "temp_none = None\n",
        "print(type(temp_none))"
      ],
      "metadata": {
        "colab": {
          "base_uri": "https://localhost:8080/"
        },
        "id": "wvOGi6hllU8-",
        "outputId": "cacafec9-76f7-4459-8e81-9b9487d21e0d"
      },
      "execution_count": null,
      "outputs": [
        {
          "output_type": "stream",
          "name": "stdout",
          "text": [
            "<class 'NoneType'>\n"
          ]
        }
      ]
    },
    {
      "cell_type": "markdown",
      "source": [
        "## 사칙연산\n",
        "- 정수형 사칙연산"
      ],
      "metadata": {
        "id": "Ra_pJWAlnHvN"
      }
    },
    {
      "cell_type": "code",
      "source": [
        "a = 6\n",
        "b = 2\n",
        "\n",
        "print(a + b) # 덧셈\n",
        "print(a - b) # 뺄셈\n",
        "print(a * b) # 곱셈\n",
        "print(a / b) # 나누기 (무조건 실수형으로 변환)\n",
        "print(a // b) # 몫\n",
        "print(a ** b) # 제곱\n",
        "print(a % b) # 나머지"
      ],
      "metadata": {
        "colab": {
          "base_uri": "https://localhost:8080/"
        },
        "id": "TO4RVcEHnLrR",
        "outputId": "6a31ad66-8b02-40dc-e27c-296299dafb75"
      },
      "execution_count": null,
      "outputs": [
        {
          "output_type": "stream",
          "name": "stdout",
          "text": [
            "8\n",
            "4\n",
            "12\n",
            "3.0\n",
            "3\n",
            "36\n",
            "0\n"
          ]
        }
      ]
    },
    {
      "cell_type": "markdown",
      "source": [
        "### 실수형 사칙연산"
      ],
      "metadata": {
        "id": "euRWzjJGrnx7"
      }
    },
    {
      "cell_type": "code",
      "source": [
        "a = 6.0\n",
        "b = 2.0\n",
        "\n",
        "print(a + b) # 덧셈\n",
        "print(a - b) # 뺄셈\n",
        "print(a * b) # 곱셈\n",
        "print(a / b) # 나누기 (무조건 실수형으로 변환)\n",
        "print(a // b) # 몫\n",
        "print(a ** b) # 제곱\n",
        "print(a % b) # 나머지"
      ],
      "metadata": {
        "colab": {
          "base_uri": "https://localhost:8080/"
        },
        "id": "L4qXHy59rqRm",
        "outputId": "ee6180cb-a779-4844-d9c6-ed6d5153c1e9"
      },
      "execution_count": null,
      "outputs": [
        {
          "output_type": "stream",
          "name": "stdout",
          "text": [
            "8.0\n",
            "4.0\n",
            "12.0\n",
            "3.0\n",
            "3.0\n",
            "36.0\n",
            "0.0\n"
          ]
        }
      ]
    },
    {
      "cell_type": "markdown",
      "source": [
        "## 논리형 연산자\n",
        "- AND 조건, OR 조건이 있음"
      ],
      "metadata": {
        "id": "4kNVFSoAsHJm"
      }
    },
    {
      "cell_type": "code",
      "source": [
        "print(True and True)\n",
        "print(True and False)\n",
        "print(False and True)\n",
        "print(False and False)"
      ],
      "metadata": {
        "colab": {
          "base_uri": "https://localhost:8080/"
        },
        "id": "4k_o1DmytBEN",
        "outputId": "bd996912-a870-4de4-b523-e90880de0450"
      },
      "execution_count": null,
      "outputs": [
        {
          "output_type": "stream",
          "name": "stdout",
          "text": [
            "True\n",
            "False\n",
            "False\n",
            "False\n"
          ]
        }
      ]
    },
    {
      "cell_type": "code",
      "source": [
        "print(True or True)\n",
        "print(True or False)\n",
        "print(False or True)\n",
        "print(False or False)"
      ],
      "metadata": {
        "colab": {
          "base_uri": "https://localhost:8080/"
        },
        "id": "_GZN_sZ4tS9d",
        "outputId": "91f2cd22-2726-4fad-bf2a-70b19b9b63c4"
      },
      "execution_count": null,
      "outputs": [
        {
          "output_type": "stream",
          "name": "stdout",
          "text": [
            "True\n",
            "True\n",
            "True\n",
            "False\n"
          ]
        }
      ]
    },
    {
      "cell_type": "markdown",
      "source": [
        "### 비교 연산자\n",
        "- 비교 연산자는 부등호를 의미함\n",
        "- 왼쪽이 기준 값"
      ],
      "metadata": {
        "id": "00polDnRtqBa"
      }
    },
    {
      "cell_type": "code",
      "source": [
        "print(4 > 3)\n",
        "print(3 > 4)\n",
        "print(3 >= 4)\n",
        "print(3 <= 4)"
      ],
      "metadata": {
        "colab": {
          "base_uri": "https://localhost:8080/"
        },
        "id": "ug7Uh_ootwab",
        "outputId": "06e4f590-01cb-416f-9e19-984d328b636a"
      },
      "execution_count": null,
      "outputs": [
        {
          "output_type": "stream",
          "name": "stdout",
          "text": [
            "True\n",
            "False\n",
            "False\n",
            "True\n"
          ]
        }
      ]
    },
    {
      "cell_type": "markdown",
      "source": [
        "## input()\n",
        "- print() : 출력\n",
        "- input() : 입력"
      ],
      "metadata": {
        "id": "0-NViGlyuIYM"
      }
    },
    {
      "cell_type": "code",
      "source": [
        "var = input(\"값을 입력해주세요!! \")\n",
        "print(var)\n",
        "\n",
        "var = int(var)\n",
        "print(type(var))"
      ],
      "metadata": {
        "colab": {
          "base_uri": "https://localhost:8080/"
        },
        "id": "2yb666LIuRJY",
        "outputId": "af670b24-28c5-4dda-da6c-d423c1d9c311"
      },
      "execution_count": null,
      "outputs": [
        {
          "output_type": "stream",
          "name": "stdout",
          "text": [
            "값을 입력해주세요!! 5\n",
            "5\n",
            "<class 'int'>\n"
          ]
        }
      ]
    },
    {
      "cell_type": "code",
      "source": [
        "num1 = int(input(\"값을 입력해주세요!! \"))\n",
        "num2 = int(input(\"값을 입력해주세요!! \"))\n",
        "\n",
        "result = int(num1) + int(num2)\n",
        "print(result)"
      ],
      "metadata": {
        "colab": {
          "base_uri": "https://localhost:8080/"
        },
        "id": "M1PhPLIPvRGG",
        "outputId": "50dfe64a-861f-41e6-a417-99cb73bf2f4e"
      },
      "execution_count": null,
      "outputs": [
        {
          "output_type": "stream",
          "name": "stdout",
          "text": [
            "값을 입력해주세요!! 10\n",
            "값을 입력해주세요!! 20\n",
            "30\n"
          ]
        }
      ]
    },
    {
      "cell_type": "markdown",
      "source": [
        "## String\n",
        "- 매우 중요함!!!!!!!!!!!!\n",
        "- "
      ],
      "metadata": {
        "id": "Cbqve9lB0U3c"
      }
    },
    {
      "cell_type": "markdown",
      "source": [
        "### String 연산자"
      ],
      "metadata": {
        "id": "uOHMgTb37Cla"
      }
    },
    {
      "cell_type": "code",
      "source": [
        "str1 = \"Hello \"\n",
        "str2 = \"World\"\n",
        "\n",
        "print(str1 + str2)"
      ],
      "metadata": {
        "colab": {
          "base_uri": "https://localhost:8080/"
        },
        "id": "EVrv2-HE6CKC",
        "outputId": "28e89774-226b-40b5-e5f9-ba7b866eea8c"
      },
      "execution_count": null,
      "outputs": [
        {
          "output_type": "stream",
          "name": "stdout",
          "text": [
            "Hello World\n"
          ]
        }
      ]
    },
    {
      "cell_type": "code",
      "source": [
        "str1 = \"Hello \"\n",
        "str2 = \"World\"\n",
        "\n",
        "result = str1 + str2\n",
        "print(result)"
      ],
      "metadata": {
        "colab": {
          "base_uri": "https://localhost:8080/"
        },
        "id": "Uws4_lTI6xSG",
        "outputId": "c119711e-3ce9-4b47-c37d-5918337309f2"
      },
      "execution_count": null,
      "outputs": [
        {
          "output_type": "stream",
          "name": "stdout",
          "text": [
            "Hello World\n"
          ]
        }
      ]
    },
    {
      "cell_type": "code",
      "source": [
        "str1 = \"55\"\n",
        "str2 = \"1000\"\n",
        "print(int(str1) + int(str2))"
      ],
      "metadata": {
        "colab": {
          "base_uri": "https://localhost:8080/"
        },
        "id": "H3xPbKlS6aJz",
        "outputId": "77bfa474-8788-4f66-90c3-c75bf82a5bc5"
      },
      "execution_count": null,
      "outputs": [
        {
          "output_type": "stream",
          "name": "stdout",
          "text": [
            "1055\n"
          ]
        }
      ]
    },
    {
      "cell_type": "markdown",
      "source": [
        "- 곱셈 연산자 사용"
      ],
      "metadata": {
        "id": "r2_j5oB16-u-"
      }
    },
    {
      "cell_type": "code",
      "source": [
        "greeting = \"Hello World \"\n",
        "print(greeting * 3)"
      ],
      "metadata": {
        "colab": {
          "base_uri": "https://localhost:8080/"
        },
        "id": "_odCfZYb7MJ6",
        "outputId": "9442ffb4-967f-4774-d405-4368cd91305c"
      },
      "execution_count": null,
      "outputs": [
        {
          "output_type": "stream",
          "name": "stdout",
          "text": [
            "Hello World Hello World Hello World \n"
          ]
        }
      ]
    },
    {
      "cell_type": "markdown",
      "source": [
        "### Indexing\n",
        "- 중요!!\n",
        "- 0번째부터 시작"
      ],
      "metadata": {
        "id": "YTb7vmZ27aup"
      }
    },
    {
      "cell_type": "code",
      "source": [
        "greeting = \"Hello World!\"\n",
        "print(greeting[-4])"
      ],
      "metadata": {
        "colab": {
          "base_uri": "https://localhost:8080/"
        },
        "id": "SU-uV-Kl7fE6",
        "outputId": "08f7d1e7-22d2-4030-e124-2091b36bae42"
      },
      "execution_count": null,
      "outputs": [
        {
          "output_type": "stream",
          "name": "stdout",
          "text": [
            "r\n"
          ]
        }
      ]
    },
    {
      "cell_type": "markdown",
      "source": [
        "### 슬라이싱\n",
        "- 자름"
      ],
      "metadata": {
        "id": "FnSBdLUH8eo2"
      }
    },
    {
      "cell_type": "code",
      "source": [
        "greeting = \"Hello World!\"\n",
        "print(greeting[0:5]) # H e l l o \n",
        "                     # 0 1 2 3 4\n",
        "print(greeting[:])\n",
        "print(greeting[6:])\n",
        "print(greeting[3:8])\n",
        "print(greeting[5:-1])\n",
        "print(greeting[0:9:2])"
      ],
      "metadata": {
        "colab": {
          "base_uri": "https://localhost:8080/"
        },
        "id": "GAXJGdEW8t8z",
        "outputId": "18389dbf-7eca-4644-811f-ae0915138769"
      },
      "execution_count": null,
      "outputs": [
        {
          "output_type": "stream",
          "name": "stdout",
          "text": [
            "Hello\n",
            "Hello World!\n",
            "World!\n",
            "lo Wo\n",
            " World\n",
            "HloWr\n"
          ]
        }
      ]
    },
    {
      "cell_type": "code",
      "source": [
        "greeting = \"Hello World!!!!!\"\n",
        "greeting[13]      # error - String index out of range : Hello World = 11글자인데\n",
        "                                # 13을 입력할 경우 error 난다.\n",
        "                                # 해결 : Hello World 의 글자수 늘리거나\n",
        "                                # greeting[13]을 11 이하로 맞게 줄인다."
      ],
      "metadata": {
        "colab": {
          "base_uri": "https://localhost:8080/",
          "height": 35
        },
        "id": "3q6HudWP-xLa",
        "outputId": "cc12933f-b1f1-4daf-f230-23ab5290ff9a"
      },
      "execution_count": null,
      "outputs": [
        {
          "output_type": "execute_result",
          "data": {
            "text/plain": [
              "'!'"
            ],
            "application/vnd.google.colaboratory.intrinsic+json": {
              "type": "string"
            }
          },
          "metadata": {},
          "execution_count": 1
        }
      ]
    },
    {
      "cell_type": "markdown",
      "source": [
        "### 문자열의 함수들\n",
        "- 공식문서!"
      ],
      "metadata": {
        "id": "I2Ug9o0__yTi"
      }
    },
    {
      "cell_type": "code",
      "source": [
        "tmp_string = 'Java'\n",
        "\n",
        "# 변수명 저장!\n",
        "# 변수명 저장함과 동시에, 클래스로 바뀜\n",
        "print(tmp_string.upper())\n",
        "print(tmp_string.lower())"
      ],
      "metadata": {
        "colab": {
          "base_uri": "https://localhost:8080/"
        },
        "id": "THP5PWoNBQY_",
        "outputId": "ef5fa8a3-60d1-4760-bd45-74e692f0bcd5"
      },
      "execution_count": null,
      "outputs": [
        {
          "output_type": "stream",
          "name": "stdout",
          "text": [
            "JAVA\n",
            "java\n"
          ]
        }
      ]
    },
    {
      "cell_type": "markdown",
      "source": [
        "![화면 캡처 2023-03-15 111628.png](data:image/png;base64,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)"
      ],
      "metadata": {
        "id": "AL6Lv37hDgSv"
      }
    },
    {
      "cell_type": "markdown",
      "source": [
        "- 참조 : https://docs.python.org/3/library/string.html"
      ],
      "metadata": {
        "id": "LzebMrgSEgGQ"
      }
    },
    {
      "cell_type": "code",
      "source": [
        "tmp_string = \"BMW-BENZ-TESLA-KIA\"\n",
        "print(tmp_string.split(sep = '-'))"
      ],
      "metadata": {
        "colab": {
          "base_uri": "https://localhost:8080/"
        },
        "id": "Qx5WkcKeD-Oq",
        "outputId": "fa190f7f-73dd-41de-cc16-05fca999ae5d"
      },
      "execution_count": null,
      "outputs": [
        {
          "output_type": "stream",
          "name": "stdout",
          "text": [
            "['BMW', 'BENZ', 'TESLA', 'KIA']\n"
          ]
        }
      ]
    },
    {
      "cell_type": "markdown",
      "source": [
        "## 리스트\n",
        "- 자바의 배열"
      ],
      "metadata": {
        "id": "tYOZXi5dFsU4"
      }
    },
    {
      "cell_type": "code",
      "source": [
        "a = []\n",
        "a_func = list() # list() 함수로도 빈 리스트 생성 \n",
        "b = [1]\n",
        "c = ['Apple']\n",
        "d = [1, 2, ['apple']]\n",
        "\n",
        "print(a)\n",
        "print(a_func)\n",
        "print(b)\n",
        "print(c)\n",
        "print(d)"
      ],
      "metadata": {
        "colab": {
          "base_uri": "https://localhost:8080/"
        },
        "id": "8pjd9Nv3F627",
        "outputId": "0dac3a7d-dc0f-4c68-f625-1dc165253400"
      },
      "execution_count": null,
      "outputs": [
        {
          "output_type": "stream",
          "name": "stdout",
          "text": [
            "[]\n",
            "[]\n",
            "[1]\n",
            "['Apple']\n",
            "[1, 2, ['apple']]\n"
          ]
        }
      ]
    },
    {
      "cell_type": "code",
      "source": [
        "a = [5, 3, 1, 4, 6, 7]\n",
        "print(a)"
      ],
      "metadata": {
        "colab": {
          "base_uri": "https://localhost:8080/"
        },
        "id": "R_ujXpkjHNuf",
        "outputId": "55bdc38e-324e-458d-9e92-40dcc0f26100"
      },
      "execution_count": null,
      "outputs": [
        {
          "output_type": "stream",
          "name": "stdout",
          "text": [
            "[5, 3, 1, 4, 6, 7]\n"
          ]
        }
      ]
    },
    {
      "cell_type": "code",
      "source": [
        "a[0:4]"
      ],
      "metadata": {
        "colab": {
          "base_uri": "https://localhost:8080/"
        },
        "id": "kOTUDJPWHW-H",
        "outputId": "1f48dfc3-8597-44f9-f0d4-1744dd89bff6"
      },
      "execution_count": null,
      "outputs": [
        {
          "output_type": "execute_result",
          "data": {
            "text/plain": [
              "[5, 3, 1, 4]"
            ]
          },
          "metadata": {},
          "execution_count": 17
        }
      ]
    },
    {
      "cell_type": "markdown",
      "source": [
        "### 중첩리스트(Nested List)\n",
        "- 리스트내의 또 다른 리스트"
      ],
      "metadata": {
        "id": "Un7b-NKWHmVr"
      }
    },
    {
      "cell_type": "code",
      "source": [
        "a = [['apple', 'banana', 'cherry'], 1]\n",
        "print(a)"
      ],
      "metadata": {
        "colab": {
          "base_uri": "https://localhost:8080/"
        },
        "id": "jxLcHUa7Hv3O",
        "outputId": "503d6558-0a1b-42a0-f046-b1a2317cdd76"
      },
      "execution_count": null,
      "outputs": [
        {
          "output_type": "stream",
          "name": "stdout",
          "text": [
            "[['apple', 'banana', 'cherry'], 1]\n"
          ]
        }
      ]
    },
    {
      "cell_type": "code",
      "source": [
        "# cherry 글자에서 알파벳 e 만 가져오기\n",
        "temp = a[0]\n",
        "temp[2]"
      ],
      "metadata": {
        "colab": {
          "base_uri": "https://localhost:8080/",
          "height": 35
        },
        "id": "2wnSF_psJlaQ",
        "outputId": "7d141c0d-8d82-409a-8fb0-73aa62a7eab6"
      },
      "execution_count": null,
      "outputs": [
        {
          "output_type": "execute_result",
          "data": {
            "text/plain": [
              "'cherry'"
            ],
            "application/vnd.google.colaboratory.intrinsic+json": {
              "type": "string"
            }
          },
          "metadata": {},
          "execution_count": 43
        }
      ]
    },
    {
      "cell_type": "code",
      "source": [
        "# cherry 글자에서 알파벳 e만 가져오기\n",
        "temp = a[0]\n",
        "temp2 = temp[2]\n",
        "temp2[2]"
      ],
      "metadata": {
        "colab": {
          "base_uri": "https://localhost:8080/",
          "height": 35
        },
        "id": "3N2vao2eH5LR",
        "outputId": "fe72f2ed-b8f9-44cc-9e0c-7177ea6f3a3d"
      },
      "execution_count": null,
      "outputs": [
        {
          "output_type": "execute_result",
          "data": {
            "text/plain": [
              "'e'"
            ],
            "application/vnd.google.colaboratory.intrinsic+json": {
              "type": "string"
            }
          },
          "metadata": {},
          "execution_count": 41
        }
      ]
    },
    {
      "cell_type": "code",
      "source": [
        "print(a[0][2][2])"
      ],
      "metadata": {
        "colab": {
          "base_uri": "https://localhost:8080/"
        },
        "id": "fYRvuZsrJt3I",
        "outputId": "d94f3c3f-a4b9-41da-f2d9-6aeb11127bf0"
      },
      "execution_count": null,
      "outputs": [
        {
          "output_type": "stream",
          "name": "stdout",
          "text": [
            "e\n"
          ]
        }
      ]
    },
    {
      "cell_type": "markdown",
      "source": [
        "### 리스트 연결 연산자\n",
        "- 덧셈, 곱셈"
      ],
      "metadata": {
        "id": "MQ6kuXf9nQlH"
      }
    },
    {
      "cell_type": "code",
      "source": [
        "a = ['alice', 'bob', 'cat']\n",
        "b = ['apple', 'banana', 'cherry']\n",
        "\n",
        "c = a + b\n",
        "print(c)"
      ],
      "metadata": {
        "colab": {
          "base_uri": "https://localhost:8080/"
        },
        "id": "vZI1UU-MnS5k",
        "outputId": "50c08964-20bb-4036-9233-a87af837f910"
      },
      "execution_count": 1,
      "outputs": [
        {
          "output_type": "stream",
          "name": "stdout",
          "text": [
            "['alice', 'bob', 'cat', 'apple', 'banana', 'cherry']\n"
          ]
        }
      ]
    },
    {
      "cell_type": "code",
      "source": [
        "a = ['a', 'b', 'c']\n",
        "b = a * 3\n",
        "print(b)"
      ],
      "metadata": {
        "colab": {
          "base_uri": "https://localhost:8080/"
        },
        "id": "SORTClCWoR1n",
        "outputId": "0e8a5088-3c53-492a-99d2-f7be34a90125"
      },
      "execution_count": 2,
      "outputs": [
        {
          "output_type": "stream",
          "name": "stdout",
          "text": [
            "['a', 'b', 'c', 'a', 'b', 'c', 'a', 'b', 'c']\n"
          ]
        }
      ]
    },
    {
      "cell_type": "code",
      "source": [
        "c = a * 0\n",
        "print(c)"
      ],
      "metadata": {
        "colab": {
          "base_uri": "https://localhost:8080/"
        },
        "id": "kAmP8elYojkz",
        "outputId": "adb41ebb-8479-49ab-c5a9-28ed1b287ecc"
      },
      "execution_count": 3,
      "outputs": [
        {
          "output_type": "stream",
          "name": "stdout",
          "text": [
            "[]\n"
          ]
        }
      ]
    },
    {
      "cell_type": "markdown",
      "source": [
        "### 리스트 값 수정\n",
        "- 참조 : https://docs.python.org/3/tutorial/datastructures.html"
      ],
      "metadata": {
        "id": "9usfzLvWpI6X"
      }
    },
    {
      "cell_type": "code",
      "source": [
        "a = [1, 1, 1]\n",
        "a[1] = \"b\" # 숫자, 문자, None 가능\n",
        "\n",
        "print(a)"
      ],
      "metadata": {
        "colab": {
          "base_uri": "https://localhost:8080/"
        },
        "id": "vV_4cO1NpKZs",
        "outputId": "16b26d03-1d91-48df-a92b-70ffdb4110dd"
      },
      "execution_count": 4,
      "outputs": [
        {
          "output_type": "stream",
          "name": "stdout",
          "text": [
            "[1, 'b', 1]\n"
          ]
        }
      ]
    },
    {
      "cell_type": "markdown",
      "source": [
        "### 리스트 값 추가하기\n",
        "- append 메서드 사용 (기억)\n",
        "- 반복문 사용 시, 매우 자주 활용 됨\n",
        "\n",
        "- 참조 : https://python-reference.readthedocs.io/en/latest/docs/list/append.html"
      ],
      "metadata": {
        "id": "_XNUdY1gprmA"
      }
    },
    {
      "cell_type": "code",
      "source": [
        "a = [100, 200, 300]\n",
        "\n",
        "a.append(400)\n",
        "a.append(500)\n",
        "a.append(600)\n",
        "\n",
        "print(a)"
      ],
      "metadata": {
        "colab": {
          "base_uri": "https://localhost:8080/"
        },
        "id": "7Jc6UpKHpt-O",
        "outputId": "d102b612-bc4d-45ae-8d73-4a72238c4205"
      },
      "execution_count": 5,
      "outputs": [
        {
          "output_type": "stream",
          "name": "stdout",
          "text": [
            "[100, 200, 300, 400]\n"
          ]
        }
      ]
    },
    {
      "cell_type": "code",
      "source": [
        "a = [100, 200, 300]\n",
        "b = [400, 500, 600]\n",
        "\n",
        "a.append(b)\n",
        "\n",
        "print(a)"
      ],
      "metadata": {
        "colab": {
          "base_uri": "https://localhost:8080/"
        },
        "id": "Z6WFDUPGqqjY",
        "outputId": "1a08ab37-0f0e-4635-8833-bd17fce3362a"
      },
      "execution_count": 6,
      "outputs": [
        {
          "output_type": "stream",
          "name": "stdout",
          "text": [
            "[100, 200, 300, [400, 500, 600]]\n"
          ]
        }
      ]
    },
    {
      "cell_type": "markdown",
      "source": [
        "### extend() 함수 사용\n",
        "- 여러 개의 요소를 추가하고 싶다면 사용\n",
        "- 참조 : https://python-reference.readthedocs.io/en/latest/docs/list/extend.html"
      ],
      "metadata": {
        "id": "eh8igBgHq3ix"
      }
    },
    {
      "cell_type": "code",
      "source": [
        "a = [100, 200, 300]\n",
        "b = [400, 500, 600]\n",
        "\n",
        "a.extend(b)\n",
        "\n",
        "print(a)"
      ],
      "metadata": {
        "colab": {
          "base_uri": "https://localhost:8080/"
        },
        "id": "GMEXj37dq7wU",
        "outputId": "dd9ba27d-9760-4097-fc2f-89706d6043a2"
      },
      "execution_count": 7,
      "outputs": [
        {
          "output_type": "stream",
          "name": "stdout",
          "text": [
            "[100, 200, 300, 400, 500, 600]\n"
          ]
        }
      ]
    },
    {
      "cell_type": "markdown",
      "source": [
        "### insert\n",
        "- 특정한 위치에 값을 추가"
      ],
      "metadata": {
        "id": "mTw-t-DarPh5"
      }
    },
    {
      "cell_type": "code",
      "source": [
        "a = [1, 1, 1, 1, 1, 1, 1]\n",
        "a.insert(1, 100)\n",
        "\n",
        "print(a)"
      ],
      "metadata": {
        "colab": {
          "base_uri": "https://localhost:8080/"
        },
        "id": "gUGIBo4WrVIJ",
        "outputId": "fdc938cb-881c-4a89-8f0c-c5b3ab1675d7"
      },
      "execution_count": 8,
      "outputs": [
        {
          "output_type": "stream",
          "name": "stdout",
          "text": [
            "[1, 100, 1, 1, 1, 1, 1, 1]\n"
          ]
        }
      ]
    },
    {
      "cell_type": "code",
      "source": [
        "a = [1, 1, 1, 1, 1, 1, 1]\n",
        "a1 = a.insert(1, 100)\n",
        "\n",
        "print(a1)"
      ],
      "metadata": {
        "colab": {
          "base_uri": "https://localhost:8080/"
        },
        "id": "pybzp4gZrvhj",
        "outputId": "53cab568-eedb-4647-e210-82741895b341"
      },
      "execution_count": 10,
      "outputs": [
        {
          "output_type": "stream",
          "name": "stdout",
          "text": [
            "None\n"
          ]
        }
      ]
    },
    {
      "cell_type": "markdown",
      "source": [
        "### 리스트의 값을 삭제\n",
        "- remove() 함수"
      ],
      "metadata": {
        "id": "w2LWqnCIsfwI"
      }
    },
    {
      "cell_type": "code",
      "source": [
        "a = [5, 4, 7, 2, 1]\n",
        "a.remove(7) # 숫자는 인덱스 번호 아님, value 값\n",
        "a"
      ],
      "metadata": {
        "colab": {
          "base_uri": "https://localhost:8080/"
        },
        "id": "wWfgJf7usjFo",
        "outputId": "549a91d8-c317-4c93-91bd-02e1572d8e8a"
      },
      "execution_count": 12,
      "outputs": [
        {
          "output_type": "execute_result",
          "data": {
            "text/plain": [
              "[5, 4, 2, 1]"
            ]
          },
          "metadata": {},
          "execution_count": 12
        }
      ]
    },
    {
      "cell_type": "markdown",
      "source": [
        "- pop 함수"
      ],
      "metadata": {
        "id": "VgY-Dzr9s7fx"
      }
    },
    {
      "cell_type": "code",
      "source": [
        "a = [5, 4, 7, 2, 1]\n",
        "a2 = a.pop(4) # 제거한 값이 어떤 값인지를 저장해서 표시\n",
        "\n",
        "print(a2)\n",
        "print(a) # 값을 지우고 난 나머지들을 출력"
      ],
      "metadata": {
        "colab": {
          "base_uri": "https://localhost:8080/"
        },
        "id": "CHbk_Jtis-R7",
        "outputId": "2207a584-6cc2-4623-a3f6-51ed1453d2b7"
      },
      "execution_count": 15,
      "outputs": [
        {
          "output_type": "stream",
          "name": "stdout",
          "text": [
            "1\n",
            "[5, 4, 7, 2]\n"
          ]
        }
      ]
    },
    {
      "cell_type": "markdown",
      "source": [
        "- 참조 : https://www.programiz.com/python-programming/methods/list/pop"
      ],
      "metadata": {
        "id": "EbEsEh-Nt34I"
      }
    },
    {
      "cell_type": "markdown",
      "source": [
        "## 그 외 유용한 메서드\n",
        "- clear 함수"
      ],
      "metadata": {
        "id": "P9yUgOdyvO_F"
      }
    },
    {
      "cell_type": "code",
      "source": [
        "a = [0, 1, 2, 3]\n",
        "print(a)\n",
        "\n",
        "a.clear()\n",
        "print(a)"
      ],
      "metadata": {
        "colab": {
          "base_uri": "https://localhost:8080/"
        },
        "id": "S7ORs7uRvdtB",
        "outputId": "cfbacca4-5993-4960-8f3a-e6d1762ac204"
      },
      "execution_count": 16,
      "outputs": [
        {
          "output_type": "stream",
          "name": "stdout",
          "text": [
            "[0, 1, 2, 3]\n",
            "[]\n"
          ]
        }
      ]
    },
    {
      "cell_type": "code",
      "source": [
        "a = [1, 4, 5, 2, 3]\n",
        "a.sort()\n",
        "print(a)"
      ],
      "metadata": {
        "colab": {
          "base_uri": "https://localhost:8080/"
        },
        "id": "hbRKtuCzvq-L",
        "outputId": "b4c580c0-55b8-4536-f8d9-8edc71b30427"
      },
      "execution_count": 18,
      "outputs": [
        {
          "output_type": "stream",
          "name": "stdout",
          "text": [
            "[1, 2, 3, 4, 5]\n"
          ]
        }
      ]
    },
    {
      "cell_type": "code",
      "source": [
        "# 내림차순으로 정렬\n",
        "\n",
        "a = [1, 4, 5, 2, 3]\n",
        "a.sort(reverse = True)\n",
        "print(a)"
      ],
      "metadata": {
        "colab": {
          "base_uri": "https://localhost:8080/"
        },
        "id": "YJCoRYuxv24Q",
        "outputId": "128b3112-e55a-4a15-975d-d288710ca24d"
      },
      "execution_count": 19,
      "outputs": [
        {
          "output_type": "stream",
          "name": "stdout",
          "text": [
            "[5, 4, 3, 2, 1]\n"
          ]
        }
      ]
    },
    {
      "cell_type": "markdown",
      "source": [
        "- 참조 : https://blockdmask.tistory.com/564"
      ],
      "metadata": {
        "id": "ZSZkHHx4waX8"
      }
    },
    {
      "cell_type": "markdown",
      "source": [
        "## 튜플"
      ],
      "metadata": {
        "id": "4itudzPP05gm"
      }
    },
    {
      "cell_type": "code",
      "source": [
        "tuple01 = (0)\n",
        "tuple02 = (0, )\n",
        "tuple03 = 0,1,2\n",
        "\n",
        "print(tuple01)\n",
        "print(tuple02)\n",
        "print(tuple03)\n",
        "\n",
        "print(type(tuple01))\n",
        "print(type(tuple02))\n",
        "print(type(tuple03))"
      ],
      "metadata": {
        "colab": {
          "base_uri": "https://localhost:8080/"
        },
        "id": "rDZsZB0X1JYV",
        "outputId": "f1ea6250-103f-4ed3-81a3-78afb6d1b885"
      },
      "execution_count": 21,
      "outputs": [
        {
          "output_type": "stream",
          "name": "stdout",
          "text": [
            "0\n",
            "(0,)\n",
            "(0, 1, 2)\n",
            "<class 'int'>\n",
            "<class 'tuple'>\n",
            "<class 'tuple'>\n"
          ]
        }
      ]
    },
    {
      "cell_type": "code",
      "source": [
        "# packing\n",
        "my_tuple = 3, 2, \"A\"\n",
        "print(my_tuple)\n",
        "\n",
        "# Unpacking\n",
        "a, b, c = my_tuple\n",
        "\n",
        "print(a)\n",
        "print(b)\n",
        "print(c)"
      ],
      "metadata": {
        "colab": {
          "base_uri": "https://localhost:8080/"
        },
        "id": "f1Mc9G3L1z2D",
        "outputId": "68bac8f5-2022-4c4e-c90b-2a2581dfced3"
      },
      "execution_count": 23,
      "outputs": [
        {
          "output_type": "stream",
          "name": "stdout",
          "text": [
            "(3, 2, 'A')\n",
            "3\n",
            "2\n",
            "A\n"
          ]
        }
      ]
    },
    {
      "cell_type": "markdown",
      "source": [
        "### 수정 삭제 안됨"
      ],
      "metadata": {
        "id": "qgYAqRqb2UZi"
      }
    },
    {
      "cell_type": "code",
      "source": [
        "a = [0, 1, 2, 3, 4, 5, \"a\"]\n",
        "del a[6]\n",
        "a"
      ],
      "metadata": {
        "colab": {
          "base_uri": "https://localhost:8080/"
        },
        "id": "tC9VAGgv22ml",
        "outputId": "f89c6f14-edd9-4955-d276-3a6b7c19f344"
      },
      "execution_count": 29,
      "outputs": [
        {
          "output_type": "execute_result",
          "data": {
            "text/plain": [
              "[0, 1, 2, 3, 4, 5]"
            ]
          },
          "metadata": {},
          "execution_count": 29
        }
      ]
    },
    {
      "cell_type": "code",
      "source": [
        "a = (0, 1, 2, 3, 4, 5, \"a\")\n",
        "# print(a[6])\n",
        "del a[6]\n",
        "a"
      ],
      "metadata": {
        "colab": {
          "base_uri": "https://localhost:8080/",
          "height": 229
        },
        "id": "sE4WDfQJ2gbD",
        "outputId": "3297abb7-3e2f-4179-d90c-1e4727af3cf8"
      },
      "execution_count": 32,
      "outputs": [
        {
          "output_type": "error",
          "ename": "TypeError",
          "evalue": "ignored",
          "traceback": [
            "\u001b[0;31m---------------------------------------------------------------------------\u001b[0m",
            "\u001b[0;31mTypeError\u001b[0m                                 Traceback (most recent call last)",
            "\u001b[0;32m<ipython-input-32-d4df9963fe88>\u001b[0m in \u001b[0;36m<module>\u001b[0;34m\u001b[0m\n\u001b[1;32m      1\u001b[0m \u001b[0ma\u001b[0m \u001b[0;34m=\u001b[0m \u001b[0;34m(\u001b[0m\u001b[0;36m0\u001b[0m\u001b[0;34m,\u001b[0m \u001b[0;36m1\u001b[0m\u001b[0;34m,\u001b[0m \u001b[0;36m2\u001b[0m\u001b[0;34m,\u001b[0m \u001b[0;36m3\u001b[0m\u001b[0;34m,\u001b[0m \u001b[0;36m4\u001b[0m\u001b[0;34m,\u001b[0m \u001b[0;36m5\u001b[0m\u001b[0;34m,\u001b[0m \u001b[0;34m\"a\"\u001b[0m\u001b[0;34m)\u001b[0m\u001b[0;34m\u001b[0m\u001b[0;34m\u001b[0m\u001b[0m\n\u001b[1;32m      2\u001b[0m \u001b[0;31m# print(a[6])\u001b[0m\u001b[0;34m\u001b[0m\u001b[0;34m\u001b[0m\u001b[0m\n\u001b[0;32m----> 3\u001b[0;31m \u001b[0;32mdel\u001b[0m \u001b[0ma\u001b[0m\u001b[0;34m[\u001b[0m\u001b[0;36m6\u001b[0m\u001b[0;34m]\u001b[0m\u001b[0;34m\u001b[0m\u001b[0;34m\u001b[0m\u001b[0m\n\u001b[0m\u001b[1;32m      4\u001b[0m \u001b[0ma\u001b[0m\u001b[0;34m\u001b[0m\u001b[0;34m\u001b[0m\u001b[0m\n",
            "\u001b[0;31mTypeError\u001b[0m: 'tuple' object doesn't support item deletion"
          ]
        }
      ]
    },
    {
      "cell_type": "markdown",
      "source": [
        "- 수정"
      ],
      "metadata": {
        "id": "CCYG-p-f3aTD"
      }
    },
    {
      "cell_type": "code",
      "source": [
        "a = [1, 1, 1, 'a']\n",
        "a[3] = 1\n",
        "a"
      ],
      "metadata": {
        "colab": {
          "base_uri": "https://localhost:8080/"
        },
        "id": "UspdMz7R3bbZ",
        "outputId": "b0b2a4aa-b579-4308-b1b4-0f0b37f098fc"
      },
      "execution_count": 33,
      "outputs": [
        {
          "output_type": "execute_result",
          "data": {
            "text/plain": [
              "[1, 1, 1, 1]"
            ]
          },
          "metadata": {},
          "execution_count": 33
        }
      ]
    },
    {
      "cell_type": "code",
      "source": [
        "a = (1, 1, 1, 'a')\n",
        "a[3] = 1\n",
        "a"
      ],
      "metadata": {
        "colab": {
          "base_uri": "https://localhost:8080/",
          "height": 211
        },
        "id": "qbzSEdDI3kbL",
        "outputId": "7af23d4d-b949-437f-eef4-7b60b6157f5a"
      },
      "execution_count": 34,
      "outputs": [
        {
          "output_type": "error",
          "ename": "TypeError",
          "evalue": "ignored",
          "traceback": [
            "\u001b[0;31m---------------------------------------------------------------------------\u001b[0m",
            "\u001b[0;31mTypeError\u001b[0m                                 Traceback (most recent call last)",
            "\u001b[0;32m<ipython-input-34-25aa4c4c82a9>\u001b[0m in \u001b[0;36m<module>\u001b[0;34m\u001b[0m\n\u001b[1;32m      1\u001b[0m \u001b[0ma\u001b[0m \u001b[0;34m=\u001b[0m \u001b[0;34m(\u001b[0m\u001b[0;36m1\u001b[0m\u001b[0;34m,\u001b[0m \u001b[0;36m1\u001b[0m\u001b[0;34m,\u001b[0m \u001b[0;36m1\u001b[0m\u001b[0;34m,\u001b[0m \u001b[0;34m'a'\u001b[0m\u001b[0;34m)\u001b[0m\u001b[0;34m\u001b[0m\u001b[0;34m\u001b[0m\u001b[0m\n\u001b[0;32m----> 2\u001b[0;31m \u001b[0ma\u001b[0m\u001b[0;34m[\u001b[0m\u001b[0;36m3\u001b[0m\u001b[0;34m]\u001b[0m \u001b[0;34m=\u001b[0m \u001b[0;36m1\u001b[0m\u001b[0;34m\u001b[0m\u001b[0;34m\u001b[0m\u001b[0m\n\u001b[0m\u001b[1;32m      3\u001b[0m \u001b[0ma\u001b[0m\u001b[0;34m\u001b[0m\u001b[0;34m\u001b[0m\u001b[0m\n",
            "\u001b[0;31mTypeError\u001b[0m: 'tuple' object does not support item assignment"
          ]
        }
      ]
    },
    {
      "cell_type": "markdown",
      "source": [
        "- 참고 : https://data-make.tistory.com/105"
      ],
      "metadata": {
        "id": "T5tTB3gX3o5j"
      }
    },
    {
      "cell_type": "markdown",
      "source": [
        "### 슬라이싱, 인덱싱\n",
        "- 각자 실습"
      ],
      "metadata": {
        "id": "4mc63S234GOz"
      }
    },
    {
      "cell_type": "markdown",
      "source": [
        "### 더하기 및 곱셈 연산자 사용"
      ],
      "metadata": {
        "id": "b0Hun6Mz4M5P"
      }
    },
    {
      "cell_type": "code",
      "source": [
        "t1 = (0, 1, 2, 3, 4)\n",
        "t2 = ('a', 'b', 'c')\n",
        "\n",
        "print(t1 + t2)\n",
        "print(t1 * 3)\n",
        "print(t1 * 0)\n",
        "\n",
        "# 리스트와 같다."
      ],
      "metadata": {
        "colab": {
          "base_uri": "https://localhost:8080/"
        },
        "id": "dkstTFMY4Ah7",
        "outputId": "e896277b-46da-44b6-f992-012aa7253f33"
      },
      "execution_count": 35,
      "outputs": [
        {
          "output_type": "stream",
          "name": "stdout",
          "text": [
            "(0, 1, 2, 3, 4, 'a', 'b', 'c')\n",
            "(0, 1, 2, 3, 4, 0, 1, 2, 3, 4, 0, 1, 2, 3, 4)\n",
            "()\n"
          ]
        }
      ]
    },
    {
      "cell_type": "markdown",
      "source": [
        "## 딕셔너리\n",
        "- "
      ],
      "metadata": {
        "id": "rpb5_xsg4ifr"
      }
    },
    {
      "cell_type": "code",
      "source": [
        "temp_dict = {\n",
        "    \"a\" : [0, 1, 2, 3],\n",
        "    \"b\" : \"휴먼\",\n",
        "    \"c\" : 100\n",
        "}\n",
        "\n",
        "temp_dict"
      ],
      "metadata": {
        "colab": {
          "base_uri": "https://localhost:8080/"
        },
        "id": "9fa1lD3N5RyD",
        "outputId": "a1380a41-fef5-481d-ae0d-a092b346d490"
      },
      "execution_count": 36,
      "outputs": [
        {
          "output_type": "execute_result",
          "data": {
            "text/plain": [
              "{'a': [0, 1, 2, 3], 'b': '휴먼', 'c': 100}"
            ]
          },
          "metadata": {},
          "execution_count": 36
        }
      ]
    },
    {
      "cell_type": "code",
      "source": [
        "temp_dict['c']"
      ],
      "metadata": {
        "colab": {
          "base_uri": "https://localhost:8080/"
        },
        "id": "UZGqR8MX5yyz",
        "outputId": "98dde114-3e58-4ea1-d884-a4f8d03606a2"
      },
      "execution_count": 39,
      "outputs": [
        {
          "output_type": "execute_result",
          "data": {
            "text/plain": [
              "100"
            ]
          },
          "metadata": {},
          "execution_count": 39
        }
      ]
    },
    {
      "cell_type": "code",
      "source": [
        "temp_dict['d']"
      ],
      "metadata": {
        "colab": {
          "base_uri": "https://localhost:8080/",
          "height": 174
        },
        "id": "s06xuk2j6Ck7",
        "outputId": "c3ba133a-226c-4881-bf38-ab78e2072a71"
      },
      "execution_count": 40,
      "outputs": [
        {
          "output_type": "error",
          "ename": "KeyError",
          "evalue": "ignored",
          "traceback": [
            "\u001b[0;31m---------------------------------------------------------------------------\u001b[0m",
            "\u001b[0;31mKeyError\u001b[0m                                  Traceback (most recent call last)",
            "\u001b[0;32m<ipython-input-40-bb93225c332d>\u001b[0m in \u001b[0;36m<module>\u001b[0;34m\u001b[0m\n\u001b[0;32m----> 1\u001b[0;31m \u001b[0mtemp_dict\u001b[0m\u001b[0;34m[\u001b[0m\u001b[0;34m'd'\u001b[0m\u001b[0;34m]\u001b[0m\u001b[0;34m\u001b[0m\u001b[0;34m\u001b[0m\u001b[0m\n\u001b[0m",
            "\u001b[0;31mKeyError\u001b[0m: 'd'"
          ]
        }
      ]
    },
    {
      "cell_type": "code",
      "source": [
        "print(type(temp_dict.keys()))\n",
        "\n",
        "# 리스트로 변환\n",
        "result = list(temp_dict.keys())\n",
        "print(result)\n",
        "print(type(result))"
      ],
      "metadata": {
        "colab": {
          "base_uri": "https://localhost:8080/"
        },
        "id": "AlJHdQJc7Kcl",
        "outputId": "41751d0c-f408-464c-d5e3-26b9a1399b64"
      },
      "execution_count": 43,
      "outputs": [
        {
          "output_type": "stream",
          "name": "stdout",
          "text": [
            "<class 'dict_keys'>\n",
            "['a', 'b', 'c']\n",
            "<class 'list'>\n"
          ]
        }
      ]
    },
    {
      "cell_type": "code",
      "source": [
        "print(type(temp_dict.keys()))\n",
        "result = temp_dict.keys()\n",
        "result.append(\"d\")\n",
        "print(result)\n",
        "\n",
        "# 리스트로 변환\n",
        "result = list(temp_dict.keys())\n",
        "print(result)\n",
        "print(type(result))"
      ],
      "metadata": {
        "colab": {
          "base_uri": "https://localhost:8080/",
          "height": 266
        },
        "id": "OxSW3isO8F9z",
        "outputId": "93682e9e-0394-4297-8707-1cb18be72a4d"
      },
      "execution_count": 44,
      "outputs": [
        {
          "output_type": "stream",
          "name": "stdout",
          "text": [
            "<class 'dict_keys'>\n"
          ]
        },
        {
          "output_type": "error",
          "ename": "AttributeError",
          "evalue": "ignored",
          "traceback": [
            "\u001b[0;31m---------------------------------------------------------------------------\u001b[0m",
            "\u001b[0;31mAttributeError\u001b[0m                            Traceback (most recent call last)",
            "\u001b[0;32m<ipython-input-44-d70b1ba141ad>\u001b[0m in \u001b[0;36m<module>\u001b[0;34m\u001b[0m\n\u001b[1;32m      1\u001b[0m \u001b[0mprint\u001b[0m\u001b[0;34m(\u001b[0m\u001b[0mtype\u001b[0m\u001b[0;34m(\u001b[0m\u001b[0mtemp_dict\u001b[0m\u001b[0;34m.\u001b[0m\u001b[0mkeys\u001b[0m\u001b[0;34m(\u001b[0m\u001b[0;34m)\u001b[0m\u001b[0;34m)\u001b[0m\u001b[0;34m)\u001b[0m\u001b[0;34m\u001b[0m\u001b[0;34m\u001b[0m\u001b[0m\n\u001b[1;32m      2\u001b[0m \u001b[0mresult\u001b[0m \u001b[0;34m=\u001b[0m \u001b[0mtemp_dict\u001b[0m\u001b[0;34m.\u001b[0m\u001b[0mkeys\u001b[0m\u001b[0;34m(\u001b[0m\u001b[0;34m)\u001b[0m\u001b[0;34m\u001b[0m\u001b[0;34m\u001b[0m\u001b[0m\n\u001b[0;32m----> 3\u001b[0;31m \u001b[0mresult\u001b[0m\u001b[0;34m.\u001b[0m\u001b[0mappend\u001b[0m\u001b[0;34m(\u001b[0m\u001b[0;34m\"d\"\u001b[0m\u001b[0;34m)\u001b[0m\u001b[0;34m\u001b[0m\u001b[0;34m\u001b[0m\u001b[0m\n\u001b[0m\u001b[1;32m      4\u001b[0m \u001b[0mprint\u001b[0m\u001b[0;34m(\u001b[0m\u001b[0mresult\u001b[0m\u001b[0;34m)\u001b[0m\u001b[0;34m\u001b[0m\u001b[0;34m\u001b[0m\u001b[0m\n\u001b[1;32m      5\u001b[0m \u001b[0;34m\u001b[0m\u001b[0m\n",
            "\u001b[0;31mAttributeError\u001b[0m: 'dict_keys' object has no attribute 'append'"
          ]
        }
      ]
    },
    {
      "cell_type": "code",
      "source": [
        "result = temp_dict.values()\n",
        "print(type(result))\n",
        "print(result)"
      ],
      "metadata": {
        "colab": {
          "base_uri": "https://localhost:8080/"
        },
        "id": "yw-85wD08W0X",
        "outputId": "984b9837-092e-4bc5-d64f-82a36b0927c6"
      },
      "execution_count": 47,
      "outputs": [
        {
          "output_type": "stream",
          "name": "stdout",
          "text": [
            "<class 'dict_values'>\n",
            "dict_values([[0, 1, 2, 3], '휴먼', 100])\n"
          ]
        }
      ]
    },
    {
      "cell_type": "code",
      "source": [
        "a = {'name' : '휴먼' , 'age' : 50, 'job' : '학생'}\n",
        "result = list(a.items())\n",
        "print(result)\n",
        "print(result[0][1])"
      ],
      "metadata": {
        "colab": {
          "base_uri": "https://localhost:8080/"
        },
        "id": "3toFGQqF8s3s",
        "outputId": "1f738b0a-933c-4dd6-977e-a842427732a6"
      },
      "execution_count": 51,
      "outputs": [
        {
          "output_type": "stream",
          "name": "stdout",
          "text": [
            "[('name', '휴먼'), ('age', 50), ('job', '학생')]\n",
            "휴먼\n"
          ]
        }
      ]
    },
    {
      "cell_type": "markdown",
      "source": [
        "![image.png](data:image/png;base64,iVBORw0KGgoAAAANSUhEUgAABEAAAAJMCAYAAAD67dMOAAAAAXNSR0IArs4c6QAAAARnQU1BAACxjwv8YQUAAAAJcEhZcwAADsMAAA7DAcdvqGQAAP+lSURBVHhe7L0FgB1Hdu7/3XuHmUEjZmYmS2Zar2F3jWs7i1nIJi/wkmxg95+8vHBespDNkpfZzCRLsi1mZhhpRsPMc+lfX/XtmTujEcuSdfX9pJqm6urq6u5bp06dOuUJh8JhCCGEEEIIIYQQQsQw3shSCCGEEEIIIYQQImaRAkQIIYQQQgghhBAxjxQgQgghhBBCCCGEiHmkABFCCCGEEEIIIUTMIwWIEEIIIYQQQgghYh4pQIQQQgghhBBCCBHzSAEihBBCCCGEEEKImEcKECGEEEIIIYQQQsQ8UoAIIYQQQgghhBAi5pECRAghhBBCCCGEEDGPFCBCCCGEEEIIIYSIeaQAEUIIIYQQQgghRMwjBYgQQgghhBBCCCFiHilAhBBCCCGEEEIIEfNIASKEEEIIIYQQQoiYRwoQIYQQQgghhBBCxDxSgAghhBBCCCGEECLmkQJEfOCEI0shhBBCCCGEEOJqIQWI+EAJe8wfE6QEEUIIIYQQQghxNZECRFwxepQgXHHDgEhdIoQQQgghhBDi8uIJh8JXt7UZiiytpYCbFW649N3H6CETj1s+u+c8sGYI5yZgruXxeOA1lzy/My4EkyiL2nO+OqfIfYdMTnjTXPCGzZLFNGBR9Ssru+nu6rms2RGOJHjeeTlPop9lhCAvY0KIlzXbXPcEnSh23a4wJk+OzrAhHBdZuU7oeaiXB+crOTeX+bJCCCGEEEII8aHkQ2QBMlAr7Mz7Lneb7YNtA15K6ud77nnG69F3fYB3HJU0VxmoZwvy2vwfCjvZYOghesNd7xNBCCGEEEIIIYS4aD48FiCgWYBrmRAxdejTAHZ6s0NmH40iyLnsA8Lm1hi8Jr1QKITurm7TEA8hJSXFMcaI6iDnlaItQC6vZihyH/aikVWz4vbQu9mIyo4hcg6LhDds/p/NAiTU0YTm6nIcP1mOVm+BOc2HgqIcDCrJR3JCvC0rJ6praWGw5XwZcfNkcI1uzFO15Rz2N6G9vgzVx0+iMZxvjschNTUFeXk5KCjMNbF4spsAl0zgQ6SfuxLIAkQIIYQQQgghPjA+RAoQP4KBTrS3taO1M4jOzi6EwyHExcUhKTERKalpSE5ONm1273krQILBILo6O9HW3mHTbW5qNo3CMAoKCpCQkIj09DTEx8fbuCwEv7keFSA+03D8IBQg4VAIgUA3urq64Df3HTRXcZr5znF7W5Gn4TEFk2DuOyEuAT6PuVNz8GwKkO7aUuxb/w5+88yrOOUdjaA3EYuXz8WtdyxCQU4mUiLDTmyBuydfbgVIBJt6JF+ByKq3swwVu1fhzd88i51tQ9EdjsPYMWOxePF8zJoz1ca97pECRAghhBBCCCE+MD4ECpAgwsEgOrvaUVtdgaMHD+NwWRUqKioRDPitkiI/Px/DR47BiBEjkJmXi/jEBHi9AFUXfZt4vBXT0je31N3tR3NjM8rLK3DApHnq1Ck0tzRbhUpRUTEKC4swfvx4FBQVISEpCXE+DwLhELwfoAIkFAigsdbc45HjqGvugN/DOwiba1FNwHsx8cx/3hPX88y95uYWICMjB0nMY2q8ue+IhYqTZE8BtJ86hDd/93P8rz/9B5QFixBMTMGnvvA4/uiPP4PhQ4qsAsTek7WyiZx8KQqQUABBfzeCIa+1NqGVR1y8D15Tjq5pDa/i6reoANm16mn8y5//DZ7fF0C7H7j77nvxxS99AbfeuhQ87bpnQE3EQAUzULzTsVZGUVEjj+U0pAARQgghhBBCXA9cXQVI2LTKA9XorqrAWyvex8+fex1r1m1CeyBkGtam6WyyZhv83jh447Ox7JbbccfHH8TcpQuRn+VBrmniuYoKO9zFNMq9KAe6O7B1w048/ZvX8Nzzb6DeH4A/GEQoZJqEphHo85n0vOmYNWMOln/sE1h4120YVZKGLHQjzjQafWFzvCfly4FTxIHONhxd8yL+8Z//B+/u2I/WSOM2uqfeKkEiS6/Xi/wh4zBj/o245bZbMWvxLGRlJCDDRE9xn1rkVH/ZXqz6zc/wR3/27ziECQjEpeGJLz2EL/3ZJzGiJAuZJr5jQOKUq8NFKkBMOaP1GE7u2oGK+mS0eAcjLsGHkdOLkZOTgYT4+J47sooas+HpKMPud57Gv//F3+DpA2GrAFl272N44st/iNtvmoC8SP6uay6nJsI849AZ3uH+ihApQIQQQgghhBDXA76vf+3rX4+sX3GosOiuOIxnf/kz/PJ3L2Dt5l2oratHW2cnOru60NXVaYewdHR0orU9hKqqahwtr0CzP4Sx4yYiK8HcQKQxx6ErtG7whBrw7jtv4te/eBZvvPYeKiqq0NTVgU6TDoeeMHR0dKG9PYA6c60DJr3q9i6MGDUWBakexHmp+vCYf5fXBoTQYqL+6E68/tpK7Dl8HI3t7SYf7c4QHbveFgnOeltbGxob21F2ohK7d+zEzkNHkZVTiMLsbKTFR/IXuf9wczVKd+/AG2+tQx2KEPIkYdqcKZizaBqyMpKQZOJ4bdxodctF3mMoCDSX45c/+CF++ptX8co7m7Frxy5MnTsBOTlZfRQgXNoGt78Z1cf3Yt3bK7GvzmyGgGHjp2PKvIUYNSIXaSbK5S/xa4zeB3PpmEIfaAhMf+UHuZyXFUIIIYQQQogPK1dJAdJpGtEt6GqpxepXXsVvnn4R67YdQ1WTF774DIyeOBGTp8/ElAljMbIkF6lJ8WhtakFHcwNqa82yIx5FRcMwckgWvHG0GwhbS4NwwI/aw9vxu588jdfe3IbDp7qAJJPe1CmYt/gGLFiwADOmTcaIoUPgaaxBV3Mjqmta0dTsQUZqLiaOG4yEhATTEDf5+ACahaFAN+pO7MaKVetxtKIdwdRi5Awdi+VL5mGayeOkyRMxydz7+HHjMLw4GymJXgTa29FaW436ijIcP1ljEvEhNycH+UX5QByH6/Q2YD2JKcgeMgpzlt2AG5bNxrIbZmD8qEHISIxznKDaiJdBAULLncYqvPiL32DF+7uxr6wZ7e1duO2+G1Fg8sUydI0KXOsCGp2EkYj0vMEYN3sJltywxORxCaZPHovCrBQkMG7PWc6Saqjriv63a8vMxS2TCBFNBveeVko2qrOXf6MD/7hp2u2opRBCCCGEEELEMldHARJuhb+rGpXHD+I73/oxNm7dj6rWeCTljMbUmfNxzwN345bbb8MNC2dg5sThGDyoAN2tLWhvaURLUwhtbYnwhzyYPns4klKTEOfx2ga+v7MDe1a8gud/+wZ2Hm5GV3IxCoaNxccff8ikeT9uu+UmLJ4/GxPHjUFyQzmaqyrQ2BhGS1sSOtv9WHLjLKSkpSDe66R3uVuGVIDUntyFFe9swNEKP7zZYzBixnz84WcexLJlS7Bw/nzMmzcXc2bPwtTxQzC0OA+ZCfHwdLShrbEOjc1B1FTVIi0nG0PHjkJ6RnJEcWCCVX6MxJxlS6OUHyXISIhDfKSVfJoCxJQbN+wUtaEgAsGAXdJRLCN7aDLCyP0DLUCaqvHeK69j99FaNIQykJ6Whbs+cSuKigoQb/Ls4o24HAmZnCZnl2DivKVYHKX8KMqOKD+oKbHpcxkJ7lQyBjuLT3c3AoGAXSfW6ucywDQZ7IxBdC5zEUTnj+mQC8+fc14PfC5mF/3ZMH0qhHqSjFyDf/ucZcrMieIsGd8tWsJZlIg9nfv5nO0eIYQQQgghhIhtrpoFSHNdObatW48f/fAZ1Na3IJyah0nzl+F//9X/xkMfvxlTTON49KghGD9xPGbMmY3BeZk4dOAgyqva0NTpQU1jLabPG4P8/FykJyZZh6hdHe1Y8+rvsG7zbpQ3hZBWOBxLb70Ff/SHn8ak8SNQnJ+N4oJ8DBlcgpHZadi9bReOnmpBUzAZftOov+m2ucjJzUJyfJxN73K3DK0FSOkerFy5AccqO+DLLMaoyZPw+UfvxqQJYzBs6FAMNWH48GEYO3EM5s+bh4ljxiDO5G3fnj1o9CegqaEBiWmpKB4+FKNGDkGySZfZDFOB0dWJtpYWtHcF0dXlt41cn7WQcSI5jWfTkA4HzbEQ/KZh3d7WhgaTZnVVtQ11dXVoMWl0+02j2z2JSgGzDAX98He1o72lGZ01FVj1xlvYU1qLplASUlOScdNdi5GRkYagabV3dgcQMMtEr886lg2Z/AX9HejuaEVre5ed5YeKF6857hvIA6o5FuruRld7u8lPM2pq61BWVoba2lqT33o7LIrpB0Jh0+anI1ZnyuP+IeA312pvQVurCZ1OnswB8yy6zL5WNDY0oaKiwg6vampuNXkCgmHnfq0Cw4keFZiuuVqI5cdZi1rR1NRk8leL8vJymz/ONsQhXMyb1dV4zf1HEujNm0nDPIfuzg5Tni3oaDPl2hk0JW6uyaFhXa0mnUbU1TfhlMlfU1MrgjatOAQ6m025tFqrmw5zjt+UdVwcHZ7yGibrkWB1HWZfyDzLLvOc21ta0WLei85O826YvMWdqeyFEEIIIYQQIga5Ok5QA5Uo3/8eXvjhT/H3T21AY0sniqcvxm2PP46vfOFjGJ0Qx9EdpinIrJmGYrALXRWb8K3/+3f4+YtbsKMCSM/Nx5P//D185M5ZmF6YjnwTt62pHr/6pz/BL379BraV+ZA39WY88ZUv4g8+PgMZqQlsWtoA0/gNHNuMv/nin+E3K4/gZIizwhTj6099HfMXTMKwzDSkmUuzQUknrJeOU8R+0/g/vPq3+Ou//U+8vb0ewZLpmH7LMvz0//sUhhRmW/8jvVcL2sZroLMGR3a9j9/94Mf45q/eRXNbJ9LGLsDyRz6Fv/3qkxgX58yG468vw4HN7+K5F19HlW8KElIysWT5TCxZNh0pibQCMfdiGvTeUAs8/kZ0m8bw7m378d677+GN9zZgx4HjJhX3VfBg3LQ5WHLzXVi4cAHGTxuHtOR4+E/txdENb2H16jVoasnA6pXvYd/JE2gJBZGSkopb7vkosrKz0R2XC1/GYEwYOxKfv2+OKfskeLrKUXVwLVa99AbePZVrp+mdO2cWlt+wCMOG5UfNAkMlQADhQADdJ45i0/p1eHn1OqzasgNlZaecKOY+CoeMw9Q5N2DJDUsx68ZFyM1KQpYvhLSee3Ao378R2997BZt37MXxpOmYNmsBlo7LRUZ7GV5/820898p6VNRUozUAJGTmYfTEybjj/idNutMxujgLGf09swbbzCvZioA/gBMHDpnyexevrViDzTsPoLOr00ah4mTY2BmYu+R2LFq8CLMXTkF6WgJSPGEk2eyFTKQWhILd2PHOe9j8+krUN3WiMmkBPvbgbRhT0oTje1/B08++hGfXlKOtww/4ijF57t347B9/Een7/xsnD+9GWcMwdHhnoWRwAR79/fnWIsi16GC2fXyHgkFUH96BXWvfxNoNO1Aeno38oqG4YekMLJw/1jw3KqeYaVusUe+fEEIIIYQQQsQWV8cCxDTAyw5sxSu/ewbbj3eaBlgcJs5dhBvuuhOTxhUj00TpbXeyJx6Ii2tBU/kJHDhWjUPlTfDGxSN7whxMmDgMQ7JTkWoa+F0dHdj9/uvYuecIKpq9SCkcjanz5mDhxCIkxUd59TCNQm/DCax+9W3sPl6PpnAa0lPTcPPHb8OQwfnITIxHIuN5nWtfrlYhLUAaSvdi5cr1OFrZgXBmEQpHDsf9y2cgMy3ZKih6L2XWPF54vV1I8HQirrsbK9bsQlt7OzqRisziUVh0w2IMMhmlsqirqQa7Nq7HD37wK2zZV42yihoMGW4azVPHIjGBs9rwdkz6XS2oOLIHz/32t/i+ifvemg04cPg4qusb0Nra2hPq6ppw+OAxbNm0BaVVDSgoLkJCdyN2rnkXP/7pi9hz6DgqamvQ4e9GwDS0g6EAaqrrcfTYcRw+cgpl5Y3wh0O4c+lUpCQlwhMwz/zgZjzz81/g9Q1l2G+umZ2djUkTx6GwMDvqvkNoaqjHxnXr8MP/92948aXXsW7rDhw5WYbGxibrGJaWGw2N7Th5ogq7d+3C5gP7kZCajsLsLGQl9Q6/IVXH92HdqhX43bPvYvuhKgR98Sjbvw2rX3kGb769FoeOnUB9QwOa2jrQ2NxurWAOmPenqc2PnMx0DCnM6jMsJtBq7nHnZvzyRz/GD576Fd5ZuQa79x9CRU2NLTfmj8v6ujYcPVqOXdt3oLq5FXkFhcjNzECiTSpsHkaXeQ27sf39dXjj2ZewdstubDzYjqLi0Ti8933zfL6H1WsO41hlPZpbWtAZl4OhU2fhEw/MQ0bTPrzywmq8+e4x7DxYj6qKakybOwRZ2emIjzigZaA6LWi+ie1r38FLT/8Wq1Zvx7Yj7RhUMgJTpozG0KG5MJ+R86pFHkDvcxBCCCGEEEKI2KK3ZXcl6fajq74FVSdr4A96EfImm8ZbDgYVZFtrhgEbYYlxyBlUiHTTyIOn2zS4O1FaWmpnTKGlhPkPn8+HwYNLkJacDG+4A22Nx3Bo91pUN3XZHv7usB+hcDu6g604fKoKpW2daDFJx2ekIGfMUAzNT0d2vM8Z/mKw+WCPfV+jgksi7AmaYPLLRE2mXcefZ7yM14ekzByUjB2P4kQPcsy5cR2d6KhtQXN1tx3KYKMF/Qi2tqCuvBanyupQXtmEplZnmAlT9oVbTZm0oLL0KN57YzV+86uXsWrDfuw53oA2TxKKR4/GnKVLsWTebEwdNxKJCOD4ob3Ys30L2lva4KUPCm8ifMk5yMwtRHFmHLLiQqas6PA0yzSgs5GWlY3M7GzkZyahJD2I4pQg4kzL2plVx4PuLj/qqmtRbRrsVWXVqG1qRhOCME/QPj9rGNFkjm1ehZf+57t4+o21WL3zGI7WtMOblo8JsxZg8Q0LMW3mJOSk+dBSdgBHtq7BqhdewXO/eA7rNu1FdSdMeu4MKB6EAmGT/05UlNehuvQYtqx+By+/+g5e23gEJ7uTMWbqVEybMxujhxQgB60I153CwR2b8Oazz2L1e5twqK7dviM0kiCeUADNVeXYsHIF3lm7A9sPnkJzN5Bv3ruJ06diyvRxGD6yGAneDtQc24k9G1bh+V+9irff2YXj5Y0ImGwF7YvFYUgBdLWb51RXicrKU+aZbcHK95/Gs6+9jtVbT6AZaRgzfiImT5mKubPHY/7UIgzPicewYUPMaxFCbcMRlJ5ah/3H3seWo40obwvSvbDNa4hDbPyN8LfXYN/hUqzaVor9FS0oa69C8vBMZJZkIZ6Obky5u9+buxRCCCGEEEKIWOTqKEACIQTbu9HR5Der8XY4RHxCgh2qYZ2P9octM5PT5Kx0JKQmmG06hexCXX2tdTzpwt7vCdOmY+SIEmSmhNBUexhb33sVr69cg637jprGYhlKTx7Atp2b8Mybq7G7sg7NcXHIHFKMWbcswciiLGTG+3rywEa5bZhfRqwChK1O20R3mukRdcjAeOLgS05HSn4hBqfEIc8HJAaCCLb50d5ABYgTLS4cRGIwgAQqEZBsmtfJpiHs3kkI3lArutuqsGvLRrz2wpvYvv0IWkIpyB02CbOX3Yp7H3kEn/zsZ/DpTz2Oxx99EB+561YsmDcL0yaPww2L5qIoPxtpmbkYM3UuHvrkw/jkx+7ChMEFSPYlmutlIyWlGLfccTcefOhBfPKRe/HY/cvxkSXTkJqcaIcRcWiGl85qaYUS9sET8iDg9aItzuMoQJhvUwj1R/dgz2u/w4YXXsGJhgBCWYMwauZC3PLRT+ChJz+NT3/u9/D4k4/igXtuwpLpw1CY4kdXVS3WvPYWVryzDvvK69FmrhO2r7bXpGmuG+a8Pib9UDfKD+5DXVM3cicuxPJPPIpHPvUpPPZ7n8LD992BW2aMxOC0sCm1LpTu24G1G7dg05FTaDYPyX0+PvN+pGWmWse8OYNHY9ysxVh250dw/8MP4ZEnn8DjTzyEBx/+KJabex9VnAKfvwlHdh8zeduKPQdPojtk3n2bXsi+C150m2dngscUgK8Sm7e/iJO1pzBs6mLc8fFP4JFPPo7HHjfpPngXbp03Dhk+L7ILCzB2QgmKioBg+ASauo9i46FalLV2WwWI83aZv8E2NDWcxNGyKhys6kKzNwFpw3NQMMV8HyWZ8LlmViY/rgWIEEIIIYQQQsQqV2cITGcDyvbvwpsvr8bJ7lSETcNs/PRpmLFgForz05BiovTVzJjGYdg0bOtqsHHLAWwxDUpvXCJSR87A8mVzMLY4F6kmltdnmuI5SWitr8CpmgacqGxCdcUpbN+9B83N7Wisq8S+XZvx/PMv4pc/eQ61dU2IzxuMiYuW49OffgLjTaMwwTRwHYsFc8ke7Yez7fy5eNxpcN+xTlBNUzWjCIWjRuC+5TORkZYMH5UDkbi9+M2+bgQ6OrH5zVWoqKlHfTANmcMmYcnyG8y9JyDe3HeouQbHd+/E62+tQx0KEJeWibnzJ2Pu3AlISvAhPtSCmpOlePnp5/Hyy2+gM+RDZ2oB7n34YXzhy5/How89gNnTpmLWjKlYsHgJFi5ehhnTZ2PkyJG44dblyM5KQ3pKEoYOHYKZc+Zg+vhR2LZxLfYfr0GryU9BTgH+/Ot/jPvvuQ033rAIc+bMxJjRo5CQEOeUW7AFVaV7sXbFauyvSUIw5MX4mVMwc9FsFOZlm+cXMAXkx7rXnsULv/gFDpkGe60vHVMXLsGnP/c5fPmLnzHpzsasKROtc9gbFszEiOIsHDm8D6W1frQ1N8ObmIic4iJMmTSq5x2qKz+Cfds2YdO2g2gze+OTUrHwplvw2a/8Pr7wucewdM4sO+vOotkTMbwoBUcO7cGRGj+6AiY/qenIHlyCubMmID2SHnxBpKQmYGjxELSlFuMTjz6Gz3z6SXzsvnuwYP48LJw/C0uXLMHw4kK01zdg1+5D6PTmo8Mbh3FjizFt8jDzjsXBhw6Ezf0e2roVu9ZtRmVjJxp9ieg2r/rym27Cn/zpn+Czn/0MFi5chPnz52P6tGkYXFICzpbj8zWju6MZR45X48DRavPeJ8CfMhSzZ3P65BwkmfKmQsPn6ca+7ZvN+7YOO/cfhy8xHtNvvQO33LoU4wYVmDKnAo6RHaUJ4aMSQgghhBBCiFikr57hQ4tploVMkzaYalpqfX089IHTuqbk4fYHP4Uv/8HncP/N05Hsb7ROIJ9+6hv4P3/9t/iHv/8mXnh+NRo645GcMwy3ffQj+PwXH8S08RlWUWBn/viACJuku30edJtrBGxTk8Xv2IGYdm9PI7QvceZAsrn/JLNuGuVniHVWaF4RrkdTxV6UV59CeRfQEheP9InTMfWuGzFu8mhkm7JL4RSqHnMdbzJyc/MwZ+4M3P/A3ShJT7YKgHjmxRyDJ9E8i04kBYKID9HKJAnhcCKC5r5ogeDnJU2wt8cbY7aD5i5t4A6vyRKDz0RkJBPBexy1DWuw/vhhvFUWRKknHoGk0Zi97EnMnbcUJZlxSDGJeewApQQkZWdgwvwJeOyxe5Cf3IbUUA1OHjmBjdvK0NTB65vreIK8sAm8pg/huMFIG7kY85csx51zJiDfZN01gvBlZmLw5Mm47bZbkJTEO2hGfVsrShs70WC2mILFZ96TvEkYe8P9+NqffgX33jgfQ3MzEW9uIT7ghSeQhjhPLqaMGIvlk8cg35zCqYA7mjn7TRs6wgFbPsQXeZR+UwQB3pd3LGYs/yLuvP9zWDBrFuJN2fBunTt2go+3lRiHrLFDUVRciBJThvmdYRzffxBVp1rRbe6dTyQ+aN6w2iNo2L0BjSePIWji5WQU4hMLbsD07HykmuOBkMmJeQ0v4o0SQgghhBBCiGsOtj4//FBzYBUGbjgLHh8amptx9OhRnDh+hNPcIGinPG1GI51dNrago73TTina3NKKk+XlOFl5Cl0e03iNJO1YfpjGutnhBLN5jsteCH0bnOdKmMcdRcklYcqhtqYSjU2NCJgM+OITMGHKFJQUFSA1MT7qCvzrgdfnQ2JiAlJTUuDz0o8H9zrHbIGYMrJb9mYi+w225Nwb5C53PXLAjR9yD5i0nAFAAYRCnWhub0NdW7sdHuPLysPgETkoyE9GnMmAcwXnWh5zPDMrE+MnjENuegYSfB60NjWhqrwe9Y0wabkXjmBPjsPg4aMwfPhwZGWkRTnaNZh8JJl7LS4ujkwNa96bUMhOZUsVSi/mPfHFIz4pBVmZGdbBa9jvR0dTsw3tTa1m2Yautg47/axbrnynQiY9WwxMJoqefeE4TJw8A6NGj0NiAocWuXcbIXJi2BPC8BEjMGXcZAwrHIxQoBOdpaU4dazOvOPOkDBbpqEADh84hIqyKiTEJyInJxcjhw5DbmoK4s2D6J8PIYQQQgghhIhl2D778MNWs8c07DxdJtCcYGBCgQDqjuzFG08/h1dfXYP9pR0IxOdi2ITxWHr7Lfjoxx7A/fffj1tvvhETik0DOtyMsl17sfLZlVjxygZUtXSjPeTaWTiKD6v86Acbjm64EHgb3rDHNrzppcJNhfqdM6fF5jfvnXYDPHOADJ0PpiHf2tCEjlbaaCQiLi4FY4aNsI1hziJzwTiajAjOfYRMOrSUOPO9OA5RuWSckHn7Ql4vgtY0xpxX3YruhhZ0mucY9vmQVlKE1KIkxHN8U3/oTyQhBRlZechJjEcqpyvu7EJ3cxsCtAAZKBNx5s4zU5GYnmod5vaH+xIT6GPmLAUSMol3VqO78hC2rVuB3/70e/ivf/9n/MM//kOf8M/f+i5+s5LDkTwsemsFwlTdZ+0GllnP8zd/sjIykZaSauNa5YnZ1zeYvcECpCePxbgx4zBhQoE5z5RXRweOHz6Bqso6m04wEEJjRT1Kj9WjriGMlKwRGDlzOQaZMk1JiofPyymezXkseOfqQgghhBBCCBHTXBsKEDbQOPNLuB0hmu0PAHvYO9tbsWXFa3j1d89hw8YDaAnlYsTkhdbPxZNf+Dy++JU/wJe//GX8/uc+hUfunI3JJUnoPFWODa+tw9NPPYedh8tQ39kNv2kAn60hbxusbKFeBD7T4uXQB0cF4AR7HbcRfBp0mtplZ70JBExcZuxiMOf5200aXbxKEryeJORnZCMlPsGxhOD9nG+I5LtvYGN+AGVO1AZP5QtH5RJDyJQzh83Ysu42+6pbEGrqMHds9vm8SM3LgS89gYYRA2By7UmwvmBSzHWTTYpxgSDQHbTKhgExp/hN4EwsF0uwoxFVh7Zg1XM/xy+f+i7++//9K/793/4J//Lv/9on/Mf3f4xn3t2Eep5jgjdSTNHvFZfcdvdRadNX2dEvmDheD6dzLjTbgzBk6GBMmJjvWMf44nDw4CGUlp6Avztgw8kDx3CquhWtgVSkFU3ApMV3obAgC4nxPvhMgl4PFSBdJlUhhBBCCCGEiH2ujgLENHo5hMEXMT1wmsOmhXdat33flmpnR6dp2HXbvQw+kwY763luKNiFhroaPPf8yzhWXmEauT4MGjYSj3z6M/iz//W/8MA99+CGxYtww7IluOfee/An//vPsGD+RGRmeNFYX4WN76/Gu+9vRGV9Y8QCxDRc+Yd5GtCc4EKIvg93IImzjw1bi1lGx+rF3FsggM62drS0dZj2PRUiTgqcXaUXs96zGUnMbkcu4G7bCzr7OEWu8+9CMQn1aIDchIl9in1xD7tRLO4duKVg1s2DDEeCxWbT/DmvzEUu4CZ2mXDeLTdRR1XRUlmB9195HV/9q7/HUz99Htv3l6M7FI+srGxkZ+f0hsxMpCcn9bXZce/NYm4skn7PNfoc7wcPMfCLZaJxQH5hPkaMGIr0JA7LCeHI4QM4evgQmlua0dXdhd37D+BUcyu6klOQM6QE06ZOQEZqPOKpMLH/mFjvT8BZri6EEEIIIYQQ1zxO6+dKtXzc7m7OSpKbjKwhKUj0+REf7AS6/Ah1O5OXckbQnrh2XIUJAcDf3I5wexfizHaix4ui7FSk2Rk1WhDqOIaWk9uxZX8jKlqCptGXh+yRMzB72c3ISkhCmmlvuu5TPT5z/SFFmLloJkaNSjPXOwy//wjWlVbgmEm/zVyOIw044wZnJmEIh4PWwoHBaZw7afWsDxBcSxFnk8oBL3zBODstqyfkgyeQgDizHR8KwBcyN2sVEgbeMuOzQRww129pRLC2BkfMfVUEgfawOceXgsz0lEibOWynVvV7PdahppNKCEFvGH6fCdwTZ/LuC5h4flOU3WZfFxr95l45LauTxPmHHuzFI0uvuWKCCc4rxb92jY11rpgoLAs+SpNL67Mj3hz0mozH82BConlmafDHJzqXMWURaO+E1x/scRY6ILaAk82Kc10+twCvebkwybMs4Wk1oQX7D+7Ce2s2oqY5Di2eMfAOuxU3PvBFfP1r/4B//qf/6An/+Bd/gs/fsQQl5m6YHec94MCnuEgRBs0+3pt5l807QI8fnvh455kT3o5bdpHyc/JiiDyH1OwcDB8/HLOnZCEhXI5A+VZUHd+BY1VlqGpvwW837cPe+mZ4cuIwbHwSJk9NRXy8o6QKm1IPh+lU2LxDJg89ijghhBBCCCGEiFEclwxXmrh4JGdlYvCQEvjivAiG/KiqrsCJEyciEfrBxpk/gBPHjqOmutpmmf4aSgYVIyU5yWzT0Wkn2loa0dUdQMA0nr2mQZ2alYG8/GTr1DK6/Ug8cT7kFeYhM4MOJvwIBrtQVlmB+s6Onlk62Fg/a7vwohqNTl6cNecBJJjyiPN54TWN39OMAIJBtDU04NCBA6bR3WD9Y3gSk5CUmYrMTFqBROIZTs9OlHWHSTczMxOpqZwgNmySDaCsvAztHR0XfhtnOMGx6zg7zqmM6TS6beAuc+PpJn9pGRmmkR5vHYY21tSgvbULnJF2IIIsm/Z2tLd3mPUQPEmJiEtPQeI53HhcED3phM271YHy8pM4Zt5D+i0JJabi9nvuxyeffBL33ncP7rjztp5w2y03YvqUyXZGFufs07FPp08Z2N3O/vPAE5+AgpJBWLhgLhISfPB3taLs5HHs3rsHx0+U4ujJk2jt7ETxoCKMGzcKKUnO+2VTp0aGz+CyFZQQQgghhBBCfLiJaj5fAdy2li8BqTnFGDlpGpLjgqaR2IoTpYewddtu1DYErQKCFg0hOjz1mAZ6uB0dlY3Yv+u4abS3I+jNgy+5CJNHDEZBarJj2WEach6fF3Fhv9kOwRvogr+jFe1tfvjDtIJgn7uBrT+GLqCpthVtrX6TrUT4TMgJJyI75EOyOc6C4QgM22KM5JsLBmuUYpa2IXmxeDtMOdQj7Gs0jf0gwqGwnbkkGHSCnbnWhO7WdpQePITXX38Tta1d6AjHI7MwB8PH5iI7yyQTeYLWwoDB2Yw0cs1xBtvITUJ2/lBkZ2YjBQHE+7twZO8+1FY1o9uZOCRyg6aUWO5hEwJ+hLs60W0S6jLHenxnWHMBaiVoGcFSNTE8fvPMfGYvLUEuEKbrTUJCTiHyc7NRkhyHtKB5D2rKUXO0Ek117eb5uVMHRwgH0dZUj6P79qC8owP1IfPsM9OQV5yOtAyTZFTUy0MA4e52k5d61NU2Ort8PowZMxLjx49ByeBBKCouQNGgHBOykZWTjoQEWsRcAKZYme3zznpcElILhmDUzHmmzDzIRjtqyo5h08aN2Lp1B6prTILhXEwYNhkLx05GttmkUQltQGjd5PFYOyMnLSGEEEIIIYSIca6sAoTYFl4cMnKKMGHGPORnxCPF14Xa8lJsXLcZ77y7A6WnTqGhrRltnU1obqlC2cnD2LxqHXZtL0V1Xdi0lYuRVTweM8YOQ2GaowCh1QCnRc1OS0AypzHtbEXtyRNYv24nyqpr0Goa/PSeQcuCrvZOVB8tx64tB3HqZINpFCYhKS4NEwuGYkhiMtJNeq7Tysgfp9Fo15w9bPZfcEM/Gk+7acDWI+xtQEdnB9pNnto7IqG9A42NTSgvP4Vtm7birVdXYMXqjWjp8iBk8jl8zDBMnzUSKakmGT7BSMZslqPWueoc5r8k5BePwKCCYuQkxCHB34lT+/Zhx6Z9OHqk3FpS2KljPUF0+zvQ3FiHk4cPYvuGdSivq0VrwO8okJgoQxyQkOQ15c4r0UFtF+qaWtDhD9hyCQVNOXd22aEs58Yk6E1EfFY+hg8djMkleUgPB+FpqsGutVuwc9sB1DS2ozPgzJ0TCATQXFODQ9t3YOUb76DclFmDyVBWUQFGjx2ENLdcLhvmqiY/caGA1feEqAGzu8OmrLoQCPaaqITCnWhprbP+OA4cPOiU2QXQYw1yPvgSkJBVhMKxkzGhMBOFCQE0nirF+jVrsPLtFWhuTkBq2jBMGj4Js4aNQKZJmwNwnHeC7zNL85LeYiGEEEIIIYS4ZrjyChBiWqfpGdmYPGUaJo0ZgYzUFIRaW3Bw8wZ88z//Ha+88jI2btqIXTt3YdOGjXjxhRfxze98HzsPnUBHyIuM7CxMnTUDY0ePQHpKMjwmvfjEFOQVlWDcOLMvLQWeQDdOHNqLH/3wu3hn5ds4cOgAysvLUXbyJPbv2Yu3nn8Jq1dtxYnyBnhNQzItLQvjx49CdmYarG9RE6wVgWnkhmmN4O9GZ0eHDW1dnfCHQrb5eKHQhwitW3huOBBEV1sbTpSW4uChQzhwwDSaTdi3bz82btyIl19+Gd/45nfx3ad+h4oGc17Yi5zcAkyfNg0zp025gIfHm/GhaNAQjBk1BkMKC01GguiuKMMrTz+D5599ATu278LJk+U4VX4Kh0xeNq1dh2d++Sv80z/9E1av24C6pubepjILJjkZOYXp5jlS/RRAd1crtm/ZhONHDqOyogonyipx9HgZugOOQsRVzJwZD1KS0zBp0mTMnj0LcXEeeP0dWPH6y3j2d89g7ZqtOHbslHmGFTh65Ag2rH4PL/7qeTzz3Hto7wwgLjEZY8eMwaypk5Dk61VWXR6YGqfdTUZ2Tg5yc3Od3aFuHD14CEcOHkZtTS3q6upw8sRJbN60Gc88/wJeeettcNLhC3lPLizfHiSa976kZAimmvvOzMxAY20tdpnrv/Pq6+aZBDBoyDAMH1mC3DzznVydr10IIYQQQgghPhRc2SYRW3c2pMGTOBSZQ6bjDz77IGaaBlpquAn+hr04tu4F/J+v/iV+76FH8cC9D+LRx76Er/3dN/Hq7mYcaktBa2IGisaNxt0fuw/DskyD1NxBIjKA+OFIKZiMRx+6B2OHFCMxXI/uxq04suZX+Js//EPcd/NtWDJvHhYuWog77v0o/ug/foxVxyvQ4E1FXN4olMxfhhtuGILC3ERbKN5wGHFh9vh3oru+Cke2b8Xqt97AyrffwtPr3sf+xnq0856iW7f9WrqekGmIM5j9DDzckBJEXUIYnWZ/Z3kNdjz/Kh5/8CHce9dHesL999yLzz7xafztX/0NXly5Bie649DkSUQoNRcL738EH/nIrZg/OAN5Jo/WQSjTNws73IXbBm5T6UBlSxA+hL2D4M2ahAVLb8B9d8y1FhbeQBnKtr6E7/3b3+D+B+7FwoXzMXfuItxy81145FOfw99981t4ff1mfPvHr2HjwSo09wyVMSWUnoOs0ROQVZhuyvoUOpv24hf//FV8+s7bsGzOnbjlrj/BX/zLMzje1EgXtT1+VQbGpBdOMyEdo8aOx+IbZ2P0qFRk+MoRV7sFK377bXzxyY/j9hvmYP7ceVi+7CZ88ot/jW8/vxll4VQEfQUYPus23HzjEtw6Md+US6inXIh95ZzVi4RvRA6QMAglw8dgzLhhJm0/vB0H8cpPvo7//YVH8cTjn8FXvvwnuPHGe/Hww7+Pb/70RWypbkWNufB521iYiNHP8JyEUs37VYjktGG4+ZaJKDLPwmfSiAuaNEJeBNNyMHTBMgyaPBEJSSbLNt1LLw0hhBBCCCGEuBZhy+4qYC7riUNCciomLVmMxz/1CSwzjdvkpHgEutrR2NCA2poaVFfVoKamDg2NzejoNo3auCTMXbQEDz/xkGkIj0ByYpy9ATudp0kvPikVkxctxCOf/CgWL5pu0ouDv6sNDXV1qK6sQsWpClRUVKCqqhr1Ta3oDASRVTIYi+64A7//pc9h+JASJCa4c8U4igs64igvO4HfPfMM/vbv/g/+zz/9E5576UWcqql2GrZue9JttA7YeO3d2eM/JGJZ0t3ejprqGpOnqqhQicqaCrQ2tyBg7js9PRuzTcP/i3/xl3jsyQcwddIIJMZ5rT+HHvpd123i9u42sb3xKBk9Grd89DZ88tHbkZWVilCgEy1NDaiuNuVTcQqnTBlVmrKqqa1FY3Mzuv0BJJpyZflyhEwPXh+mzZyFyZOmIDM11RSTH60mnVqT94pTlThxohKHjpSitr7BpMF5aM4Fn6QXiVnZmLJwPv7oD/8Ai+fOQXZaMjramlFXW41Kk7+KU6dM/ipRU9eA5vYueBOTMeOmW/H4557A8hsX2plxzlYuFw/fMR/GTpyEW25bjmkTihAfF0JHayOOHz+C9RvXY8XKd8x9l6Ghvgljx43BnffchjHjhiMuvk+Ozs6F5Nea1fgQH5+ECRPHojgvHYl8fU0adlrh1HSMnDAOxSXFTnSmzT9uEEIIIYQQQojrCN/XDZH1K47H60FCSipyCwYhN78QebnZyM/OQGZKFoId3QiEfEjNKsSosRMx2TS2b7jxRtxz7524edlcDC/IQJJp5LkNfcKhMImmMZ5TWIK8oiIUFeajpDAPWWmmge7vQnd3CHEJaSgZNAzjJk3F7HmLcOvtt+Mjd96MG+ZPNQ35ONB9iA8hE2xr0YaK0lK8+dYKvLHiHdSahrc3dzQWLpiPkUWF4ASsfRQgJDpTPXgQCgZQ13gUNaYxn5VZiJHDJ2HkyFEYOWqYs4wKw0cMx7Qp0zB3zlwsW7Ycd3/kbtx0282YPGYwclOTemYXcQl0dqC+vh6VDS0oGjkao8eWYNH8SZg6fhRS4uJMfKes4hISkZadh+Ihw5CTV4DBxYXIz8tFVk4O8vPzUFhYgJKSQRg7fjJmzV2MZTfegrvuuAUzJoxEQXoSEq3GiSl5kJKajcSkdKSZMs/MTENGbgEKCgpRXDQYI4ab/E8ejeWLpyI3IwOJ5pS2xhaUVTQgqXAkho8cilmzp2DqpDEYZJ55ok3RBJ8PyamZKCoZiez8wcgbVIy8ggLk5uUhx+SxyDzXQYMG2Xdi+uwFuGH5ctz/sXtw0+IZGDkoF0lxjkrMDU1NTagxZdLpSULRqHGYPHU85k0eYeP2IRxEoKvbxG9HWX0HSgYPwdgJkzFj6hTMN/eRYZJjyklJSUjLykVabj5ScnKRnZNuh55kmHvMys7C6MnTsOiGZfjIPbdj9qzJNuncnEKMHlWERXMnmucx0jyPePs8wqF4VJnyqGvpRqops0GjJpj3agbGjSpAth1adHbsK2fy5fGGzHNpxsGd23H4ZC0q2+geJBXDZyzGPffdhGnjipFhXhj6ePFacyR7uoHr3OCdCSGEEEIIIURs4wm7XiqjG/BXga6WWlSXHcH+fQdw9HAd9u7Zh6q2TiTnF2Lc+PEYOmoYxk+YgOHF+chJSYicdWa6W2tRV3EcR48ew6GDx7F37z6UV7cA8ZkYNmw4hk4Yg9Gjx2DsiCEYVJANX3wcujx0kwrEhUN2JhmHEA5t3IinfvxTPPPqG/AlpiJ33sP44z/9JJZPHWVn1rANSi7dMnQbmNaExMWDQKAL5RVrceToQTTXJwOBQueQN2qAiD2XzlqDyMrKQl5uHgoKClBQmA9vXE/L9TS6WxtRceIodu/Zi25fMnxxCeb+RmPMmDGIN/fWn3AwgLbaMhw5fAiHS0+hsq4J3ZHpYDh7SVZ+CQYNG4Phw4ZiSGG6naZ3INobanDq+CHsP3gIZXUd6OrmfC0JSE/LxfDhwzBj1nikZ6TCFw6grrIcu3bsQEuArjiBwqIijBgx3NxfvpNYFHwtA91dOHXqFI4dO2anSKZjWOIzeUnPKULRkFEYOnQIRg/ORZxVfJwOp00+bs4vO1WBTk8ysnJyMWHUUAwviZS9S6gbXe3NqCk/he0HjqPL70dcSgYKS4Zi8uRxSDXJu6Vvp99tbcGhQztw6PBB1NW2wO+nQ9gEZAwegdHjxmHUoGyEOuqwffsOdHV44fX6nOcxdiziIs8jZNI5cvgIDptn0NUVQNibbMpjlHk/i5GdxemKz4415DBLT7gbnqYd+PX/+zd877drsPpgG1Izs3HX7/8lPvWpuzB3zCBkmNeZswvFWae1xCzdGwpfgIWKEEIIIYQQQlyjfGgUIAh3mhZhl1kxrbJQmll6ETTtMgZmjbNpcJlg/py7b9zQkx7XI2d4uIy3Iwf8kTYffUVwlWl3e+jY1DQSGTgHLTH7Sndsx7vvrcOOA4dMWzER3SULcf8DSzBzRBEynVhOAgzROooeBUhP09msVjjLkDkzlOXsdg+zDe+uu+m5afKYm9xAhP0mPRPYo+9NMjvchM6ESSzUYRbmPr0JJnrfUg2a8+k/hMSbV+SMqdnrdpvzTQZNA95el/lk8fEkVy/BaXVDJtj8UYF1xhSjOPMNn3f+IjClbnNtLuPMn9NUQgOUH+d24dS/TJvvXd9rcEfExal9v8x7Zf52mEhcJoDTMZv0eFb4fJ6HuTxPNDAL545tkjX3zVM85j0PV23CD//5H/HUC1uwudyDvKJB+JN//W/ccfMUjMxLtVM728jWOQpxdzB/7kMSQgghhBBCiNjlw6MA6WmQcRFpkLFt5qz14Xwah33S63OGsz7QEXd2U6eZ7OAxjdhAVye6uzk9rNlvWqehuEQkJSci0es17Ulnnw0R3BlP+hiA9OCqcniPl7PhGX2x6Ls6G2c/xz169tQu5Lrnl+L5cqGpnT3+wPdxoef07olWygx89iUT7jahC6HuLjRufw9/99f/F8++X4HKxNEYPmU8fvWdP8aEsUORnJho4oWtxYi3/1QwH1DWhBBCCCGEEOLDxoeo65ctsYhSgKuRhpm7Gh3OD8aMpDfA2X23HHr3RR01rca4+HikpKYhKzvbDkvJSk9Bos932vkkukk8MLQ3of3B5S56N88D5epMnP2c80vt7Gn05XzjnR8XmtrZ47tH+8a40HN695x+7PLDty2M7u4ubNm0GScq6tAe8CArpwCz5y9ESVE+khLie/RzUTq6Dz5rQgghhBBCCPEh43K3wmMQthyplHHsQsJuK9JtQNpwbrWHEJedsN/8b0FbbTneWbMFpbUN6PZ5kVWcj2nz5yA1Lc2x+LCvp8e8wnyX7aoQQgghhBBCXHdIAXJOWERe04Zk47G35ei0I03L0io/pAARV4MAAp2NaKwoxe5DJ1DX2gGkpSBreBHGThsZcbbqajzcIIQQQgghhBDXJ1KACPEh4cJVaV74A2G0dnQjNy8fefn5KBw+FMMnDMPoEYmIO8usQUIIIYQQQghxvfEhcoJ69XGdl/YSNgXkOC0NU1fkcaaOcYvKEw45ViCWqGORdDQyRpwvfFU44wzxmo3IJEVnJWzeP06XzOmCm2pP4siRI6ho8SCtaAQWzJkIzqUkFYgQQgghhBBCOEgBEoUUIOJqwVeFChAu3amZzwW/XMb3eEJAqAVt7W1o6/YhnJCGzPRUJJmDUoAIIYQQQgghhIMUIFGcrgBhAVEBwuIxB6OnELXlJQWIuHw4b5rz+pzP2LReBYj56/FzD0LhOPNWOjMU8Y28bO/gAN+GEEIIIYQQQlxLSAESxcAKkEjBRGaBsas9ZcWVkAlRTVazeno8IS4/vQoQ/rG77I4P7L0b4PsQQgghhBBCiGsFKUCiueAGHgvNLbjz6bO/RPSMRBT27TN/ohUgVvnxQb0nUoAIIYQQQgghrmGkABFCCCGEEEIIIUTMc8UVIMFAEKEQh40IIYQQQgghhBBCXBmuuALE3+2XAkQIIYQQQgghhBBXlCvguEIIIYQQQgghhBDi6iIFiBBCCCGEEEIIIWIeKUCEEEIIIYQQQggR80gBIoQQQgghhBBCiJhHChAhhBBCCCGEEELEPFKACCGEEEIIIYQQIuaRAkQIIYQQQgghhBAxjxQgQgghhBBCCCGEiHmkABFCCCGEEEIIIUTMIwWIEEIIIYQQQgghYh4pQIQQQgghhBBCCBHzSAEihBBCCCGEEEKImEcKECGEEEIIIYQQQsQ8UoAIIYQQQgghhBAi5pECRAghhBBCCCGEEDGPFCBCCCGEEEIIIYSIeaQAEUIIIYQQQgghRMwjBYgQQgghhBBCCCFiHilAhBBCCCGEEEIIEfNIASKEEEIIIYQQQoiYRwoQIYQQQgghhBBCxDxSgAghhBBCCCGEECLmkQJECCGEEEIIIYQQMY8UIEIIIYQQQgghhIh5pAARQgghhBBCCCFEzCMFiBBCCCGEEEIIIWIeKUCEEEIIIYQQQggR80gBIoQQQgghhBBCiJhHChAhhBBCCCGEEELEPFKACCGEEEIIIYQQIuaRAkQIIYQQQgghhBAxjxQgQgghhBBCCCGEiHmkABFCCCGEEEIIIUTMIwWIEEIIIYQQQgghYh4pQIQQQgghhBBCCBHzSAEihBBCCCGEEEKImEcKECGEEEIIIYQQQsQ8UoAIIYQQQgghhBAi5pECRAghhBBCCCGEEDGPFCBCCCGEEEIIIYSIeaQAEUIIIYQQQgghRMwjBYgQQgghhBBCCCFiHilAhBBCCCGEEEIIEfNIASKEEEIIIYQQQoiYRwoQIYQQQgghhBBCxDxSgAghhBBCCCGEECLmkQJECCGEEEIIIYQQMY8UIEIIIYQQQgghhIh5pAARQgghhBBCCCFEzCMFiBBCCCGEEEIIIWIeKUCEEEIIIYQQQggR80gBIoQQQgghhBBCiJhHChAhhBBCCCGEEELEPFKACCGEEEIIIYQQIuaRAkQIIYQQQgghhBAxjxQgQgghhBBCCCGEiHmkABFCCCGEEEIIIUTMIwWIEEIIIYQQQgghYh4pQIQQQgghhBBCCBHzSAEihBBCCCGEEEKImEcKECGEEEIIIYQQQsQ8UoAIIYQQQgghhBAi5pECRAghhBBCCCGEEDGPFCBCCCGEEEIIIYSIeaQAEUIIIYQQQgghRMwjBYgQQgghhBBCCCFiHilAhBBCCCGEEEIIEfNIASKEEEIIIYQQQoiYRwoQIYQQQgghhBBCxDxSgAghhBBCCCHEBRCOhDNhj4fDZ40jhLjySAEihBBCCCGEEBcClRsmnIke5cdZ4gghrjxSgAghhBBCCCHEeeDxeGxwkHJDiGsNKUCEEEIIIYQQ4hxQ8RGfEI+Q+RcMBa1xh9c3cHPKa+IykJCJyCCEuPpIASKEEEIIIYQQ54DDWrq6u6zhh8/rg9frQTjkKDb4N1rFYYfAMES2hRAfDjzmw+z9aq8A/m4/QqFQZEsIIYQQQgghPrx0dnaiuaUZLS0tdjsvNw/pGenw+Xzo7u5GnC+O5iH2mDs4ZiCLD9ciRAhx9ZACRIhrFFa4jU2NqKmpQcAfQH5+PrKzs5GcnByJ0Rd+6q1trTh54iRaW1uRkpKCwsJC5ObmwuuVMZgQQgghri7BYBC1tbWoqqqy7YWsrCwUFhUiKTEpyu/GuaHCotrIRydOnEBCfDxGjRplZaSLlXcqqyqxb98+HDhwAOnpGZg2dSpGjR6F1NRUtLW1DZg/KUCE+HDi+7ohsn5FCAVDtiEmhLg06urqsHnLZvz2N7/FqtWr4YuLQ35eHjIzMyMxeuE319HRgT179uBHT/0Izz//PI4fP448E794UDHizLlCCCGEEFcTdu6sWbMGP/3pT7HayDYtrS0YPHgw0tPTL0h5cbLsJF555WX8y7/8C7Zv344xY8aguPji5R0qUlavWo2XXnwJHe3tVn4qKChAelq6VdrQEqS/AmSg1s6FKHGEEB8M6vYV4hrF7/ejsaERJ0+exKnycrPegC4jOLiwknUDlR/79+/HD37wAytY0AKEgsC06dMdgcLUxx5vb3wGIYQQQogrDZUUtKo4evQodu7chWNHj1klw5mgosF1MhoMhexy967deOONN1BZWYGc3BzbOZSQkOCccBHw+rQqofzU2NjY05nL/fHx8WeUm7jfdYYq6w8hPhxIASLENQorX5qHBgIBWwFzfSDrqqamJmzevBlPPfUUtm3bbk1Jb77lZixbtgxpaalSdgghhBDiQwE7ZTg0t6ioCF6fD6dOncLRY0etrHMmKMXYzhu7FUZ7W5u12Cg9XoqE+ATMmTPXpnkp8g7lK1fu6j+UX3KUENcWUoAIEcNQ+XHw4EGsXbsW69evZw2OefPm4eabbsbESRNtL0v/itut5M8HxrLxnc0eevYPcEwIIYQQYiA4lGTQoEEYM3aM7aSprq62ioy29vbTFA/RuEoQyh0cIlxWVoaGhgakpadhzOjRJq00J6IQ4rpHChAhYhAKADQfPXz4MN5//31s2LABXV1dmD17NpYuXYqJEydac1Cvhz8BvQoQnnch9Cg4+p3XR/HR/1gkCCGEEEJEQwsQOnUfNXKUXXII75GjR1F6/LhdPxtW9giFcbz0uB0eTIVJSUmJVagkJSVFYokzIdlMXC9IASJEjEEBgE7Ejh07Zv19vP3229Zr+ciRI/HYY49h+vTpSE1LRTDikNiajQ5gvsljHFpDs1N3mA33udh1E7hkoKARiMRx4/VP2z3mBqbpDt/pD49zvxvHjcdgz4/8E0IIIURsQJmBTt05S93IkaNsZ421ZF23zlp2nAt/wI/du3ej9ESpnUGGHT9UgiQmJvb090TLH9GB+6Ppv302XJnFlVHORXQezgc3PuUsLu21LjB/9I/iXtNNw80r/55PvoWIBaQAESLGoHNUTiG3c9dOrFy1CqcqKjB5ymQ8+eSTmDp1KjIzMuHz+qwzrv6VHbcDwYAVPmgxwnRoRspQfqrcpm2kE1sBUylCQSVk1ru6u+yUvOUmXntHh61Yw2FTsZo0bRyTLoN7NVa6HZ0dqKmtQXVNtXUqRlyFCdNnOu40vxWVFTZefUMDWtvajIATQDBgKnATmF+mJ4QQQojYYFBJie2w4fS1HAazbds2K5NQvjgbHo8XO3bsxJEjR1BQWIDbb78dCYmJ1p9InC/OKkEo31CZQvnCDdxm55ErT3BJOed8lAKM09nVibr6OptHV6Y5G4zDqX6rqqvOeU883t7ebtOmnEW/KLUmv0zjfJQgzB+d5PMeKyorbagyZcrzu/2990wogwkR63jMR+F8Oef+fi4L/m6/GitCXAaolFi1ahV++9vf2uEu9913n3VumpGRgU2bNuPXv/6V9aBOy4877rjDCAF3WCdgvqhp5Pj589PnmFuuB01l39rWipXvrER5ebmpYGtt2hwqw96THHP+8GHDMG78eDumluewt2Xvnr3YuGmjFSIWLFiI6dOmWa/rXipavB5rkupW0jynywgKW7dutc5ZaZY6a+YszJkzxwob9fX12H/ggLVaqTPXb25qtpU/lTKcb5+z19x8803Izy+wefL5vCZNm7BNXwghhBDXLpQX2OGya9cuPPPMM0ae+TXGG7njS1/6EhYvWmQtO/pD2cLOeGdkh7/6q69aGYKyzz/8wz8gPT3DNPZb7PT/hw4dtgqE5uYmqwAI+ANISExAdnY2iouKMWvWLIwYMQIpKSlWJnGn3t25cyeef/55vPzyy1Yp8/DDDxt5Z4EdpsN4x44fw/vvvW/SbcZoIx9xuHGKkVl4fn+VApUZHJ68bt06JCUn45OPPWan1B1oit5Dhw7ZaXw5rS/9unV0dNo0U1NTkJOTi0kTJ9rrMR/WyiUKKjw4HIiz6FRWVtptd7ZAyoKcynfsuHGYMnmynWqY5c79LEshYhnf1w2R9StCKGJ2L4S4NFjJsjLfs2ePFRRYidFUtNRUdq+++ir27t1rK7SbbroJy5cvt4oD9oxYIhp+90t0Kvgwqqtr8N677+I5U8lTQbFv3z7bi8LrHD92HIdNRcxxtezpYGWdmpJqzgpjz+49VmnCc+hxvbCoyAoonBqu5yKRa7LiP3bsKF579TVs2brF7qOwwbxS+bFu/Tq8/dZbeM8IB3v37sGB/QdsHngO88FKfOLECcjLzUOixvQKIYQQMQXFBsolVGhUVFTgwIH91jqDHTCUFais6A87StjAf/a557BmzftWRrn11tswf/4CxMX5jBxx1Mo3bxr5YsP69di/f79VktBXGjuLKF9wqA07adPT0608ZWWYCLTW4DmMk5OTgylTpmDIkCG2Y4YdQUzntddes7IXz6Oj+ZTk5DMqQN5Z+Q6ef+F5nCovx41GTqPMxM4ownYSrVvZufTW22/hrTffwpbNW8z1jTwUyS/lIspk7KiKj4u3+aDSxlWisCyYlzVr1+Ldd1dj06ZNVqbjOUetTHXMdnQFQ0HrI6XElCuvq6l6xfWAhsAIEQOwwmZvxj5T2a1etRobN260lenixYttGGaEBsLKzVpiuCGyj8NVaL2xYcN629Oye9cu2zPCypSKBvYSUBig2eievXuwYsUKI2CstUNUeO2k5CTEJ8Rb80yOvWXF2tLSYnUeHHNKk0pWqqxWme6uXbttpUwP7UyXwgQFHQoW76x4B+tNPmjySusQXpuBcZKTUxDw+60g5OSbY2I55rZ3eI0QQgghrm0oN1AGoS8Q+vBoNTIFG/6UM9zj0dAKg43+VatWWtli9OgxdtivlT+8XtvYp5KiqrLSyg5UGFC2YPpZmVlWvtm3fx9ef/116z+NipfztVinlStlmNqaWnseh8KwY+pscgllJDu8mEoIk/doqMw5UXoCr772Kt566y0cPnK4RzFDS1zKQwkJibbTaK2RxWgNTNmL9+1SVl6GLVu3WrmOip7Ozk47E44rU1GJRIUL75t5ZXH2L1MhYhVZgAhxjeJagLDSY0XKiqy0tNRq/Lu7urH0hqW49dZbMWbMGCQnJfcMc7FEKjlHiRCyld97772HX/z8F9YCg70By5bdgBtvvBGLFi/CvHnzTZhrlRU0wayoqLQ9GDS7zM7KRkpyiq1EqcCgcDJ48BAMGzbUmmcSt0eBypCqqkqsX7fO9sQMMfFuMNeZPHmyrbhXvLMCq1e/ayv/uXPn2mE9vP6s2bOsI7Pp02dYM9gpk6cg0/aWuKaakUrbXEfVtxBCCHHtEt1KoGLh1KkKa33BTpGxY8daucbbU/87uDPf/fo3v7bKAlq/3nLLrVaJQvln29at1o/Y8BEjcLM5dsPSG7Bg/gIbpk6bhoKCQjQ2Nto0GJ/xqHjhOhUDZ7MAofKF1rEc1kt5bKiRf+bNm4e0tPQBLUAoL9GiY8uWLUhISMDHP/5xZ4hyRE7jUOQXX3wRL730Eupq6+w933rbrdaad/78eUY+mtMzmx87nOgjjR1RQ4cOtQod5pfDh957710rE3Jo9G23327K4xYsXrLY5o3DjjmUZ9y4cXbGHd6T5CdxvSALECGucVjRU+nAynTjho3WcoKVJSs6Cgl27vtIrUYz0DhTwVprjIhSwu8PWOGCU+VyjOvw4cPx5O89iSef/D3cd9/9uPnmW6wihOGB+x/AsmXLbJo7tm+3ggIdoFJhMn7CeFvx0pKETrqYj46OdntNV0ih0oa9GsdLS+02hQsqQZKNgMJ74HCX9vY2WyE7fktYYd9q/ZfcdtttVqHD+6JzNAoNHNJDPyO2h4f3ZFMVQgghxLUK63OG5ORkFBUVmQb6SFu/03qjsqLCKgiiYacJO1H2c6hMV7cd/lJSMhhZWZn2OJ21z5g5E/d+9KP42Mc+hrvuvtsOO6GS5OabbzbyhZEzjIwxdcpUpKelWyUGr0WFyPlagVwuOMT4xIkTdugLHcBTHnrggQdshxCH9FAmY7jjjjtx77332s4i3nPp8VLr24TKFfpMa2xsstYl3KYz2Y985G4rQy1fttzIccuxfPmNZt9HrCKIspgrp7GjipbC0UooIWINKUCEiAFCYWdqM1pycHiIDaZCpFlmNNG9JS4UDKj4oCUJFQl0Yrpo0WKr1GDPCQUQ9rrQioS9C2PHjEWhES5oTkmfIex1oYCQk52D6dOm9/RIWCemtXU2D7wuQ1NTI44e49jVw8gvyMeYsWPs0hy0M79Yk1GuB5yZXXhthpQU5iHZ9rTQ8oNjXF0FjhBCCCFiDzrkzMhIt5YK7NhhY37X7l1WXomGsgMtNOgslHEmTZyEEcOH204SyhSUJ9hBw3SGDB6MVCPbUL6hHEMlBxUelJtc2YIWruywoVx1pWlsaMTmTZtx6OAh6x/thhtusI5ZiwqLevx8MHAIy+hRo60ChH5ROsy9lJWXo6m5yd4Lnc13dnRaeSoxMcla6rrynBvS0tNtWj63oyparOK2EDGKFCBCXOOwsmaPxbDhw2zlTgUETTE5ZRyHxNDnhquAoErfLqOgYHDw4AHb48DKLykp0Zp4rl3rjCt1wkrrsIvDY9jD4PF6rGDgehWnAzCOS50ydaqdt5/WHEePHLXjYHt6T0w+qSyhkFJTU+v06pj8cggNTVmzs7KsOWl8fALKy09ZAYBjW+mwi4JIKBS090oT0WhYX0sZIoQQQsQWHD7CRj8tU6kEoOzBYSh0/t7d7XSYECos6E9jz569VkaYMnUKhkb5PqNVQ0J8vDnfa2WWTZs3WWfr9Gf2+huv45VXXsFKI+ew44ZyChUqtG7tLy9dCWjJQj9utKbltL20duEwFg5TtrLYO+/YsHr1autIvrmlxSo56A+kLDJTTMDIZPRrwplhKFOdNPId09y9ZzcqjQzW3dVlLWyo8ImLj7PlzDulPzXKU1amklwlYhj5ABHiGsX1AcKKkd/UtOnTrEKBFRktMJpbmpGWnoaMjEykpabZiq4/PI89BW+8/gZ27Nhhx9qy4tu3b69VoGzbthVbGbY6gZUtlSNUgrCyzcvLtX5ABhUPss653GtziAvHo44YPgJDhg61AklXZ6cdMsMxr8ePl2LmzBlYvGgxigcNMsfjTCUdZ6fJZg9GTXW1nRufAg2FEVqRUOFCJQjjumNye0LkfoQQQggRG7B+Z33PWVVorbFjx05wenw68eSwDs4Ex04WyiRr163FihVvI7+gAB/72McxadIkex57fugsnYoPzqCyYeMGvPnmm1jPmWAO7Lczq9jZUcwxzqzS0tKKXJM+h55MGD+hR7a53D5AGJehvw8QOnr9zW9+gxMnT9jOIcpazJ8rh1EucwMtXg4fPmLOOWJlJTq/nzhxEgoKnKl5KSc21DfYez9VUWE7p1iOzA+vRR9wnLnPWXcsZWh1w3IXIpaRAkSIaxRXAcKeECoHZs+Zg2nTptuKmdOqscKkZQZNHzlshBUjK+JoWNlxTvj333/P9nzQbwfHjNop1kyFSmHABq6bwP2lJ0ptZcqKmYoPCgElg0qsEMCKnMqT0tITNn2Ow6UZKs0uT1U4Vh27du4y+fDgxuU3YrI5lxYrrGwpqGRmZNjKlxU5K38KJ1VV1XbMr+NTpMMOh6FCx1WCCCGEECI2odzCDhxaZFDeoQVpamqK7XyhhQM7cXbs3GGtIg4eOIhFixdbXxf0a0HYyKfsQItSTlP75huO8qPKyBS0kHWH3gYDQXR0dqCzs8sqI6gAodN1OhC9kgoQynV0gEo5i8NzKJOxY4nyF5fRgftovUuZiekUG5mMTuU5JCY1JdXKVbR+oeLj0KFDVp5jenQG29beZi1nqOBJMnKim0dahggR60gBIsQ1SrQChBX4xEmTrFfwkkGDbKVXUVlpewUaGxtsBU3/HRzzGa00cCxAuuyUb+wFoaKCDsHoHZzTx9EhmA1mfdrUac6+SKC/D3pPn2CumWeEkGSTtknQVqgcu8oKnsIJPalT+cI5+N99912rSGE+6byLw2BcyxQKCelpaaYCL0ZRcREK8guQk5tj02MvB8f9WodeRjhh5Z6QmABfxAGqEEIIIWITyips5LNzhdPMUr6gn7IxY0Zb5QaH6nI4S3xcPJ544gmrBKCzdsoHjLt+3Xo8/fTTdmgvlRULFy60vjMWmOXMGTOtMoPDZqjsoLIgNTUN48dfHQUIFRpvvPEGautqMXvWbCxcYPI4M5LHyf0C90XCtGnTMGP6dEycMMFagKSkpiA7JxuDjExVUFhg74PQooTKkJ07dpr1BltGqWmpSM9IN9fvO7OOELGKFCBCXKP0V4BMMJXeOFNZDy4psRp9WnbQeoIVHCvbxMQEazaamJhoK2TiKED8ViigH5C83Dw8+uijtveEwgHH3M4yFfDs2XPsNLS9y1m2Qh5vrlloKlYqTlyLDKZPRQVnlmHPDKfDpZXHmjXvY83aNVaBsXTpUsyfP99U0KmOcGDOY6D1B5U0FAQ45pdOUgvy8+0YVZptUvChE1XeH/2esIKn+aYQQgghYhPKKlQy1DfU4+jRY6isrLAdK1ReUFHw7rvvWetSKkWeePJJ25FCmYTQyuMHP/gB1m/YYGUOOhW99777cIORQyZPmWwdu48eMwZDhw5B2ckya3makBBvna5e7BAYdtLMmDHDyj5WNrI56YUdO+x44ux7dEIarQCh/ESfa5zFhVPX3nX3Xbhh2Q2YP2++7Zw6U6BMRjmQzl7jEygXeaxCiIoNzojjWoYwTyzP2hr6ajtiLYhzc3JRYM5LtOcJEfvICaoQMQQrT2r56Qtk+bJlmDd3LpISE7Fzxw7bo7B7zx4rDLi4iofMiJ8Qt5YeNWq07fmIDuPGMYyLhPEYY4QGChvsZeF1WaFyScGDggMVGezJoDUIx9ZSaKFChMdHjhzZqzRhPhhMPggtQugYddiwYVbA4PS7D37iQdx5x512qA0FEAoHdBRGCxAhhBBCxC5UQFDhwVlRaN3Q0dGJY0amoF8LLqmcYKPfdpoUFFirCsJhvrQQ4XARDicZMmQwlixdglkzZ2L0mNEYOnQYBg8ZYofLsIOInUkBP2ehC+NC5oGl/MJrUplBgYaOSOkkfqBZZLiPxxk4rKc/lI2YH6bHzquUlFSMGjnqNJmsf6ASZ5A5j0oeymP0mca8MD0qRcaY47TavfPOO3H33XdbpYk/EMC+vfvsrDpUKgV5jhDXAVKACBFjUKlADT/NIdnTwYqR88pzzCsdhO0/cMD2ULhwvKet/PPzrVUJnZ/S+zgFDAoBFDyix4RSiUElSnubM/1tRH1hj1EI4FRrVHCwp4EVPRUWW7ZuxcmTJ2yFTgGGvSY9yg9zjlV+WGuUbtuTwnR5XU59S0XI/AULsGz5Mjt0pqO9A3t270G3v7tHyBFCCCFEbEIZwSoGBpUYmWC4tcqg8oNO4PeYwGErtMqgY1TGszKFwfo56+y0sgV9gbCDiMoALulcnf7IGKelpRknT5x0/Gm0t9m44YgGxE3rbFBeYZ7y8vPMug9l5WVWsdBmZKVQRAlCpQQVLFTEUC4qP1Vu5Z3+uJYtVKYwHu+R90f/JEwjGm5zP2Wyjvb2Hn8mvCda3NuluU9nXxjZpowmTpiIhQsX2SE6xUVFdtpcOpyvq42atU+IGEcKECFiEFbGNKecMXOGtaCgJQUr0BeefwEvv/yydXgaMBWlG5c9A/QRwjG2HCu7Yf16HD92DM3soTDCA3shGDgMpaqyEgfN+XSm1WkqXlaY0eIBhQYqLdjDwvn2OdZ0/fp1Jr3j9jiFj+JBveapxBUMmEdOncvKnNdi4Nz2nR0d8Hq8VrAhHN5jK+pzyyVCCCGEiAEo17AjhA5QKS9s2LAeu3ftsrJKUVGhtWro3zFCmYSWDeyQ4bCPE6UnbCeQ6/CUzkZ37dqNt956yyobeIzKkYj+4zSlw0BQScKOJ+ufLD4epcdLsWnTJjtMmZYelGU47IXyzb79+/D2iretHDaQcoW+05YtW2Z9d3CIyrq1a23HFIfYUEZzZSMGykrcf/DQQee42WaKYSMfUenDa7a3t1krmJ5gzqPihcOVacGbmJBoLW+jZTIhYh35ABHiGoXWGjTrZIXt+gChUJCbkxOJATusJTMr0woEVZVV1mM4p8eNT4i307yxomVlzUqQ+6mk4PhWmm6yonXNOFmxlp86hT27d1t/IWvXrbPTyRUWOD0pTD+6Ik9OSbZjdemfhHPPs1eFTkspuLDXgVYpjgWIcw4tVDjudeOGjXa4TGlpqe2R4HWpiKGgQAsWhhoj9CxevBg33XiTdaIqhBBCiNjHaaSHwalwKS9QzqiorIDH67HWHx974GN2+C39idFylRIGh7Rwmn9aeFDOoWKAHSi1dXVWhtq9e5eVa1auXGmH1nZ2dNrhMOPGj7NyFWUcdhSdzQcIYScNp5ylDMN0qWBhDhqbGlFZVQlO/7979x57nc2bNqG6qtq2iSh/RfsAoRN7dvZw5ryTZSftzHv0f8Z8V9c4M/VRNmInFGUsKkeobKHMlp+Xb9Nhfik3bd6y2Q5vqa6ussoYNxw4sN/IZptsPnj9OXPnWv9utD4R4npAChAhrlGonGBFdjYFCCvB5KRkW4Enp6SYCvOwVYTQ1JEmnsOGDnN6ABITbSVOh1mcframusamvXXbVisYUPGwetUq6+BrFytTIwikmvOmTJ7c41jVVYBwyUBP444z1FNWQKFfEjo+nTFjph2jS2HBhT0ZVJJwerqVq1bi/ffet3P600EYl+s3rLezwDQ1Nlmnqh//+MesB3TmXQghhBCxD2UaKjQ4he3OnTvtMBJap9Lv2E033WQdjzKOiyuPBIJBK7dweC+VCnSYutE0/tcZ+WLL5i1WuVFUWGRkk0J0dLQjIz3DylPnqwDhNWhFQSUFlTJUblScqrCKCipfNqzfYJ2wcp3p0OKWHUccDkOFTbQCxE2L2zzOaX8pR1GxwhnxKBetW7cO69avM/ew0Q4JpgxFn2wjR4y0MhnT4LHXXn0Nb7z+hu2IsudEwiYjy9G6hJ1hnGlmyZIltgzdWfmEiHWkABHiGoXaflakrBhZkdK6gr43svtp8FmhsTeBnsDZ68HeCJpFspeBw1GsyaY5n5U4tf9UZtAxFytUXqO1rRVtrWbZ6jhP5ThXV5kx1QgA1su5uUav/YcDz6eJ6gEjLLBXhT5JaLlBT+RUykRDgYbKjUOHD1mlCU1SaeHimntSqGD+xoweY01Daf1B6xVV1kIIIcT1ARv2QSPHUDaorq5GS2sLcrJzsHDRQixftvw0q1DGp1KBcgqHffj93XYYCP1eUKaxM+QlJWK0kS3oOJ6dKrQA4fSxVAhweLA7Cww7dajQoNxVPKjYdsIMKhlk/Z4RxqFMwlnraPnB9Cm7uHIU5Rz69Rg/bpydCY9yF2UdKlPolDQ7Ozti4eKkxW0qR2jdwnxSbmNaHKJjh/BwaLCJRyf2kyZNshYwlAHdjiFa/LoylT3HlBXzZM8z5UJFCWf2u+nmm+y9yPpDXE94wq424grpJPzdfjnZEWIALlQxyJ6BQ4cPY8eO7baSnTp1qqlYx9tKjbDid+E3197Rbs0y3139rjWtpEAwdcpUq1BgJUs6TSVbceoUNmzcgPKy8h5zUY6djfPFWe/iebm51pHppMmTbI9Jf+UH74LbFBTeXrECP/vZz1BbU4N7PnoPPvaxj9keGkvU7fIaVJZsN/fCXg5aoNB8lFBRw8Bp2oaPGI5JEyfZKXL7Kz+kWBVCCCGufc5Wn9shs0Y+oUXq3n177VT4nLafw2tprTEQVCJwSAiHg3DoCJUZgUAQyclJtjNl7Nhx1qKDPsv2mTRpDTtm7FhMnjTJKkM441xZebmVt5gGh//OnDUTI4aPsAoSFypZaAHCdLZu2Wo7f6i04P1Q+VFQWGCn1qV1CdPhcGLuf+zRR1FYVHjatP7sCNq3b5+1gKXipb3NcXQaCoesXJSVmWUtRTismMoPOmF106B1MC12S48ftwoQlhvlLspOzDNn5Bs/Yby1cmE6Z0PylYg1pAAR4kMCv4sL/QxZ2dJckyQnp/QoBaiAcHsSXPipU9HAngTrKdz8s3PER3o3XNx4jMPAa1CZ4vr5YLq8jsecw+2eEDk/ZM7n9o7t263D1XdWrkRKcjI+8eAnrENWmn4OhL1uV9/ruvCavD6tU2iyeRqm4PS7IoQQQlz70Gmp2zwZCDop5UxwVpYx8SgbUEYYCMojVmYxS8an41PKQezYiTf7OX0uz00wsoVzrNPE9VoFA89JSnKG+Lrndnd3WYVInDmemJhg40XDvDFtOmuns3nKUxSQGC8xMcn6XWN6jhNWXsuZ4YbOSL2+0+emsJYrpu3E6zMtt1wotzHfTJfL/ue67S3mhZ1bXJqT7XlOXkyZmfzz+mdF8pWIQaQAEeIahp+v+wmzEjtXRdbzuUeWJFr54TJQvP5p999mzJ74Zrlm7Vr86le/wurVq+xwmcc/+ThmzZrV01sSnbbLQNd1OZ/7E0IIIURs019WuBD5gOdEyxj2PPvf03MsOq3o9ehzz3VNN567JNHnXGpaxD3nTOde7HlCxDqnt3yEENcMrLyowGA4n4qMcaLPGUj5QQaK5+5zQ3+4x+43FS1nauFUuUePHrHH6LuDDrrcaWzPhJt29HWjry+EEEKI65v+ssKFyAf9ZQyblpVgeo/ZfZEQjXvcjXM23PPd+P3PudS03PPOdu7FnidErCMFiBDikqFpJseq1lRXW18eW7duxeYtW9DQ0IhxY8fZ8amugy/2RPTvjRBCCCGEEEKIDxoNgRFCXDKciYYOWSsrKuyYVs49v3PnLjvu9q4778SdJgwbNuycFiBCCCGEEEII8UEhBYgQ4pJZtXoVnn32WWzftt3Oy8+flYKCAuv74+GHH8aM6TPO6KBMCCGEEEIIIa4EGgIjhLhkaPXBOfk59S2VnHl5+Zg7Zy5uu/U2q/zo7yVdCCGEEEIIIa40sgARQlwynPN+27ZtdihMWlqanVef090ycI56IYQQQgghhLjaSAEihLhk2trarBNUzlGflJRkfX0wyPJDCCGEEEII8WFBChAhhBBCCCGEEELEPPIBIoQQQgghhBBCiJhHChAhhBBCCCGEEELEPFKACCGEEEIIIYQQIuaRAkQIIYQQQgghhBAxjxQgQgghhBBCCCGEiHmkABFCCCGEEEIIIUTMIwWIEEIIIYQQQgghYh4pQIQQQgghhBBCCBHzSAEihBBCCCGEEEKImEcKECGEEEIIIYQQQsQ8UoAIIYQQQgghhBAi5pECRAghhBBCCCGEEDGPFCBCCCGEEEIIIYSIeaQAEUIIIYQQQgghRMwjBYgQQgghhBBCCCFiHilAhBBCCCGEEEIIEfNIASKEEEIIIYQQQoiYRwoQIYQQQgghhBBCxDxSgAghhBBCCCGEECLmkQJECCGEEEIIIYQQMY8nbLBrzt8PHH+3H6FQKLIlxJnxeDyRtcuD+6oLEWuc7VvRey+EELHHpchIqhdErCJ5SJwPUoCI64aQfvjENQ4r9uiqnduq0IUQQlwIkofEtY7kIXEpSAEiYh5XG8xX3a6fWTksxLVB1O+1KnwhhBDng+QhEXNIHhIXgRQg4kNJ/x+xi309bd0eqfCJN2pdiGuVPr13Zn2g7yP6TXeFXiGEENc+0TLS+cpHkodELCJ5SFwMUoCIKwp/eKIr7v7bhFs9r2XPsb5xzp++P3T2d+9ikxLiw4B5h/t9MoaBXmpPT0XPpap8IYT48DKQPDQQjNFXRjr3OQ6Sh0SMIXlIXCRSgIgrgn3NzI8OexzcV879MeK2G4LBIAImcN15T5z9l4Jzem8advsS0xTiqsCKO6rmdr+hvriVPIMXPp8PPq8X3qhALvW7EkIIcflwFSDRv+vcZqBsRJkoFA4hHDLyUWS/8zt+Yb/lzjkRzGqfbSGuEex3EiUCDSwPuTgKEBu4FVmPlos8DE5kcR0gBYj4wOCPS8/rxSV/bEwImudvf3gYfGyMedDW2oqWlhaUl5ejqqoKgWAAfr+/51x7PpPweuz7426fC0Zx8yBELOB+O1yytrbLyH4HHnPWvF4f8vLykJWViezsbORk5yA1LRVdXd3OcTcdg74TIYS4cvC3N/p3t/c33KwbWYfHgoGg+b3uwsmyk2hoaECrkZU62jvsPiHExREfH4/klGRkZmQiPz8fubm5SElJ6VGCuB1FInaRAkR8YERX7nZpflX4oxIMRhQgpoLv7u5GdXUNjh49gr1796K09ASam5psfL4nFAJ6tLMenhu0P07ECgvc6P/u9tt3hV5tIa4cp/1sR61FjhF+I3FxcVb5MW7sOEycNBGDBw9BVmamKnghhLiKRMtI/eUZdg61tbbhVMUpHDp0CDt37ERFRQU6Ojucc8x//rbb84QQ5w3bEbYtYb6dpKQkDBs2DBMmTMDo0aNRVFyM5ORkazUrYhspQMQHRnTlTnNNVtO+OB8CAceUs6urE5UVldi6dSs2b96MyqoqGzfHNNZKSkpQVFRktbQUBGjGzwYbz7XVvUnbygtu5R/9/nLXFXqfhbgahCMvuP3r/oRHloS/sy2tLaitrcXJk2Voa2tDRkY6Ro0ahWnTpmOiqeyzsrKQkJAgRYgQQlwFXBmJv9zWGs9auNLqI4C29nYcPXIEW7ZuwbZt21FfV2cba0XFRRhUPMj8nmcgNTW1VwaKJWLwlsSHB1pQ0ZqKCkVandPaPDsnG1OnTMWcOXOsIiQ1Lc1+kyJ2kQJEfGD0V4CQuIgChGacJ06UYvv2Hdiwfj0qKitNpV5sf3jGjB2DMWPGYOSIkYhPiHesPxjMb1Eo6KRjf5YoMPRsGHgoet3F3SdEDBL92lvMDppH1zfUo6ysDAcPHrI9iCdOnEBnZycGDSrGvHnzMGXKFBQXFVuh+rQ0hBBCfKD0KEBMYEeP18NOngCaW1qwc+dObNy4Afv27kNbexuGDBmC8ePHY+LEiRgxYoS16kszjbSYVIAI8QHS3t6Outo6HD9+HHv27MG+fftQWlpqh8BQLlqydCnGjR1rFYzsfBWxiRQg4gOjjwKEz9zU0/wx8fsDtjH2zjsrsHr1ajQ1NWPZsmVYbsL4CeORlZ1lzwFfE7duj67jmWT0+zpQ/X+F3mchrjh83yPvN/sO+YlRBraCMPe734O7NPv4vW3bug2rVq3CuvXrrILxIx/5iFWEFBUWWQWlejuEEOLK0VcB4li5dnV24vDhw/jRj3+EHTt2orCwEHfffTfmz59nLWNpni+EuDxQ4UgrkFUrV+HNN99ERWUF5s+bj3s++lHbIZsWq1ZWAr6vGyLrV4RQMOLAUsQ87o+GreBty8zZ19DQiE0bN+LNt95CRcUp3HrrLXjyySeseT4r954fm/6/OWab5qFc4SGuMe2IHUgfrMWJSef0I0LECObl5rdCs+meN93xKXwa7CnMy6cz1Cx0dHTgwP4D6OzqtA5SBw0a5FhZud+dEEKIDwxXdnFkIwf+BnO7qakRv/71r7Fu3Tqr8PioaYjdfPPNdkgwhyzqd1qIywe/O8pH48aNQ2JiIo4dPYZNmzfZIcOFBQVIT0+3vnZE7CEFiPjAiK6o3WqeHs137d6Nt996C62tLViwYAE+8YlP2Iqe/j7OWLn3vDK9Sg27ZAPQbvXjTPuFiBUu4AVnJc/KPSMzA3m5eVYJcuTIEfvNDRs+3FbyEqyFEOIKMIAMzN9oDg3esX0HfvGLX2D4iOG4/fbbsXDBQuTl55vfajk8FeKDgN8elYucJY/DYE6UnkBVZRVycnJsJxHlIxF7yPuduGI4M75UW38E1TU1dkzrkiVLMHzY8LOPs3NlBbPsX/2fSRyQmCBEX9iLwQrdjnE13112VjYOHTxknRBzRiYhhBBXHnYKclaKkydP4qWXXrJOq2fPmo15c+ehuLgY8ZrtRYgPnPyCfMyePdvKR03NzTh2/DhqTFuFTlJF7CEFiLhCeNBCx167dtqe56SkREyYMBHjx413jp6tcj+bluNcQQjRAxWN6RnpmDDRfHvjx6O+vh7r16+3Arcs84QQ4spD+YcOqo8cOYx33nkHI0eOdJxUDyq2juA5zFEI8cFCS5CCwgIsWboEOTnZVvnBmWIoH4nYQwoQcUVgBV9bU2sdDbGSz8/Px5gxo82PTaF1/nVOhYV7PDqQgfa7gQy0X0EhFsJFwkqeU03T5w7XDx86hOPHjltnYEIIIT5gBujwaWpqsqb3dfV11jl18aBBdojipf7eCyHOH9cfCOWj5uYmO5Nec3Nz5KiIJaQAER8Ybo+ya93RaCp4Tu3W1dll/RBkZmZZOcCa3zPqxXRAu+cNFIQQp0GlB8e0jhg5Ajm5ObZ3o7Ky0ppgCyGE+GChRMRZt9zA7draWjsbRXx8AkaPGWN7oH2+OGc2PE2cKMQVg4rHyZMm22mp6+rqrPW6iD2kABFXBFbwnR0dVpvKnuZBJYOQaxpfQogrj8frRUZ6hp11iXPi87uUAkQIIa4O7GWuNY0tDlPk7BNJSUky/BDiKsBvkLMuUU6ifMThaSL2kAJEXBk8HnT7/da8MxQKWU/LnJVCCHF1oFNUn9eHQDCAtnb5ABFCiKuCkY+6urrQ3tZmLWYpG1nH8K4GRJoQIa4Y/AYzMjKMfOS1kzcwiNhDChBxRWD9HQoG7fSbamgJcXWRPC2EEB88DQ0NaGlrQXxivA2HjxyOHOnFlY8CA1nh6cc6duCz7B9cBtonrgquEpL+CdlhyyBiDylAhBDiOoMVvPXNQ2ErbP5LKSmEEB8Y3/rWt/Dqq69GtoSIMJDSw92ncP5BiAtEChAhhLgekdAghBBXhA3rN+DwodOtP8T1RygURphGBefqd+BxhfMLQlwgUoAIIcT1RpTyg9YfsgARQgghPngcC0yuONs9qDEvxBVDChAhhLjekdAlhBBCfHBEFByu8iMcCtvZ14KBIELBkN1WX4QQVwYpQIQQsYuECSGEENcaqrsumGAwZGfTobN9v9//4bJsNFlhdhyLSw6DCcEf8KO7s9vmmdvmSCTyFYaXvUqXFuJqIQWIEEIIIYQQV5P+DXY1Ss+bkCk7TiNcerwUB/YfQG1tLboi05deqiKE53Mq1NbWNjQ1NZ13aG5uRpvJE608rI7BpOP4/wjD3+VHfW09TpadRG1Nrd3v4b/oYTHuMJmoQCVJR2cHmlua0djUiKZmc63zCZE8NdrgnNfS2oL2jnYEQ1GzDw1wzQ8kCHGV8ZgP0vlluEI/tP5uv9V0iusPekB/9LFHsWTxEvz+F34fS5YsQV5eXuSoEJcfK1S4421FH44dO4ZvfvtbWP3ee3jowQfxqcefRFpaWuSo+PBgKmfPRVbQYUmbQlxNOA1uXEIc1q9fj8LCQqQkp2D0qNGRo7289fZb+OEPn8LOnTvx4gsvYNTo0UhMTIDHG/l+r5CM/qGA9+rl1MC0lnDqcK/P4wwTMdtus8Wp2722jLhv5/Yd+MY3voHy8nJ8/BMfxy233ILBQ4bYdocty4sQBJhuwB/Atu3bsH37dpSdLHMUGlF54E+sm3b0Mi4uDsOHDcdNN9+EkpISu99iTq2vr8cPn3oKb775JpYuXYo//MpXkJGRYdOycNnvmfOatGzhOTt27EBjY6O9hqM4cU/shcoSZpPn8Z+z0ym/+Ph4ZGdnY+iQoVhsZPHi4mKThhPFvbZrleLz+pz9BqbHgwNdL1ZgGR88cBDf/u//RmJCAj7ykY9g0aJFkaMiVpAFiBBCXKdQlnGDEEKIywsbmmw0L1ywEIOKB9nhGQPS70e4T6P1OoR+MQjb2Rwq0tLcYq0pGNrb2+2ytbXVKgHq6+pQceoUysrLUFNbgyNHjlglSFNTM7o6u9DZ2WHPbzbb/QPT8vsDkYb9mTlRegLvv/8+Xnr5Jbz40otm+bINL75ktl98ES88/wKee+45PPvMs3jGhOeffx5vv/02tm3fbi1B+kPlAvN91OT1xIlSBIKBXuUHGSA/fCd4H5xR6LVXX8OrJrz88iv2+rweg82DCdznhpdseAkvvRBZmvDySy/jjTfewIEDB2xZnrEATtt9/b6TIrbwfd0QWb8iuBpccf1x6NAhPPvssxg2dBhmz5mNYcOGISUlJXL0+qWzsxMVFRU4evSo7VmgwMQgLh3+1Dg9FUZwaGmxglFpqRE2jMBjyznh+i1nCo4bNm1E6YkTmDx5MmZOm46EhITIUXH1idSTF2v9Qfp00sVuj50QVwNad7D+PlNgfU4ZJzEh0TbMG+obMGL4CNtrz0YxlSFu3IOHDtpe/erqatx9111IS0+z1iI9FiAxCMuHSgzKPixLr9eL5OTkyFH+AoZRX9eAPXv2YOXKldi8ebO1wogOW7dusVYzO7bvwNYtW7Fr1y6cqjiF+Lh4tJgyPnz4MDZt3oSdO3aedi4Dh4XExcchNTXVPpeBYJvlxMkTqKqqskNh0tPTkZmRaUKGDbTcyMjMQHZWtq1DGb+joxNtrW0YOXIk5hh5Nz8/P5KawTxSDj15/733bR4GDx6MO+64o8+9DwSHzrS1t1nlB8sk4PcjNy/Ppp2VnY2sTJOnrCxkmmVWVqbNF/NplzwWCVkmDkN2Tg7GjRuH8RMm2P20JLHVROSVc9tqXFZWVmL//v1oa2tHGsvKlFmsQuVUXV0dNm3ahDifz5bR0KFDI0dFrKAhMOKKoSEwA1NZWWV7Fvbt24sF8xdg2vRpfStLcdHQKZrXCJDsTTp85DBee+01I3i2YPGiRZg6bep1Xc4cAvONqCEwn9YQmA8XnstcT4Zl8CnE5aSlrSWyNjC0/KDVBxu7RcVFth5iR5C7j0oOl+qqahw7ftw2yBctXGiHSEybNg1eX+S7vUIy+pWk3TSmWQ+tWr3KNsBnzZqFCaYxbu/V3Lattw8fwVtvvYVnnn7a+vWI9lfB1kswEEBCoqO4pyUDy621rRW5ObnIyc6xHR1UMHFJBUs0bIvcfMvNdojD3LlzbR4GgooaPrcjJi81Jg9sNp2mlvJ44DPpM49HzT3t27cP5WVl+OTjj+Phhx/CiBEjIhEdGO9f/vlf8Mtf/hLLli+zQ3dycnIiRweG+W1saMTffu1rRmZ8z8rPy5Ytt8NrHOUNh7cwJpdOONt7E2fKZPSoUbaBT4VIj7KNC3Mer8d772jvsAooKgQon95++x1Ij3p3Yw0Ngbk+kEQkxFWE9VNdXS1Wr16Nd1e/i5MnT1qTTXF56erusiasb731NrZs2WKFTCGEEOJiYYOVDdg//Mofnhbo84O9xnX1dVb58b3vfQ8rV63ssy/63K99/Wv47nf/Bz//+c+xZeuW68IKlNYfe/ftxdq1a62CgVaa/fH5fPB6PNbxpx320tKKpsYm1NXWobKiAifLyqzjU1p60LrTpmHkKquIOH4UR48dtcNhKFvR0pY9+6z/GY9WkBwCEwjQp0fkggPAPNCXx0LTCL7zzjtx11134c7+wey/+eabccOyZRg7dqy1/Ik3jefhw4eb9dRISobTNCcXiDmfVq2JiUnWivqOO27H7bffjttuu82G2xnM9h133Gny1D+fZl/UNuPNmDEDGVT8uPnql79AIICamhrrd4RyKjvsEhMTI0eFuHaRAkSIq0gwGEBDQyOOHz+Gbn83gqGQ9WZOU0eruT9LpSzOjR3+YgJ7gOj5vM0IXDRf1RAj8aGHFhvWauNSJGZzbk86QojLjTPEYc5pgQ5POcSFVg60ZGC8gfa58WfOnIkpk6dg0qSJKCgoiKQe23AmEw7lqDKNag4dSUpKihzppaAg3zoR/epXv4p//Md/xF/99V/jC1/4gm28c+jI4MEltk5PiE9AnC8OXq/PsXwwP33cZmM9MysTo0ePxuzZs/GJT3wCf/mXf4n/+4//F//yr/+Cxx9/3JT7ZKSeYzh2YpJJJzMDeXm5ZwwFhXxuznARWqJQ2UVlSFpaRAFyKT/lBt4Xh9bQKoMWH8lJyUhOTkFOdjbyck0ecvOQa/KRa9f75o3B7ne3zTrPY7mflq1+cictIrZu3WqvzyE/ZxoqJMS1hKQiIa4iFIbq6+tsb0VGegZycrKRnJLsmCKyVrrEClM4sMenvPwUWlpbMXLECNsrcyZzVyE+VFyKElQKVCE+MPbt3Wd9enC2kf6B/jtoccC6htYNrhPU6H3R51L5kWwa4d1d3bYD5IzOUmOErq4uqySgzxN2SLBx3n8IJhvcVIoMGTLEKolGjRplyqXd+vI6fvy49cdh/ah0dVpHqaEwfQw6Qwd9Hp8Rnzy2LGnh0dTcjKrqKnsun8GgQYPsMOypU6civyD/nD4t2JnCITRnCoR+TE6eOImykycRCgUxefIkOzwlKfF0xc7FQmsYiykbdpZZlwKRjh4Gr8fkh4H5cpeRYK1p3G2fs+R9eSLLgeRNlu+JEyfss+JMMfkFBfZSQlzrSAEixFWEjtDYW0DTTlbIHNOZlJToVERuEBeNrdzNsr6h3jowY29Q8aBiZOc4PR9COER/cBcSPjiou7DBXIYjzi8q2HOdcPnpyaHdOp0LKyObkhHozxqcqGekJw1n8zrFlsIlhCvHlb3a5YfT2fYNo/oEWhakpCRjkGk4sv6prKi0Sg829CeMnxA5Z4wNLIwtm7fYWT3ou4KOqWMZDkFhedTX1VvHnQUFhUhN7VWAUHHBhjmtDeLjE2x9zSEre/fsxcGDB+2sKRMnTsSihYvs0BMOS/noPR/FvR+9Fx/96Edxjwl33X23tRS56aYbMX36dGtZQ2e0GzZsMGGjVaBQJrBWEJfYqudQEQ7D2bhpE6prqq2zf/q7Y0eL19c7jWwP5nk7v1XOV8D188Hx0xFGS2sLDplyePONN+zkAk8//TSeecaEZ58xgTPROEvOSsPjA4XnX3geq1atsjPo0D/jQND/R1lZmb2/ocOGXTfWSSL2kQJEiKsIteocm8pZScaMHWsrF5py2jrRDeKSoeDU0FCP3JwcFBUWaQzrAES/cpcjXDu4DfWLDR8MVnnBYK5xSSGSzmWHs9OccYYaXtAN54eruDhrOEMjwT1uIvQsr2vcZ3Oh4Qpjn3mMPSu+gf5AEO3tAdPI96O2ttE6PB0xcgTGTxiPk2UnIzFdLvxbiQVoLXG89Dhq6+qs9Ud+Xp5VFrlQAUIH5jQ3oKKCvjt27d6Fffv32+3x48Zb55QPP/IIPv3pT9thMV/+gy874ctfxpe+9EV8/vOfx6fMsSeeeAKf+PjHcdONN9lOJlrf0CE6fYbQB8ilvoO0ZqGSYO2atdi6ZQvi4uIxb/48O+TmnENMuH4Bl3cVNfSfwuFDv/rVr/A/3/kO/vvb38a3v/VtfOtb37Lhmwzf/KZZfhPf+qbZN0D4zn9/x07pyxluOAS7fz441IbDlOhDhdYiw4cNk4N+ETNIASLEVYSV+qnyU7aXg70Z7AVhb4frA4TjhKmBZ2XnzFfvt4FmidxHCxLXoRetSFgRs9I6G9Tk0ydG9PkMXOc+HjvTTE3WI7i5tns9pkVhhHnjPptOU2860XnhOvPHY24855ptJm6XTWtAItIDhRTG6X/vbr4dZ2acz7+3FncEbKCttd1egyac1ilZcopT2fdGve5hOTnBaZRcahCxztkbbFfyDeh578w6c3WpvbniysFndrE/Fx/G5xwMhNDWEkD5qQ7T0G5BZVUHklPTepygcuaNsMm2DSZ+T7AvrrPe82m5yxiEnT8cWkG5ITc3x/rp6GOVaZ+tUwCs16kwYYOfQ4Y5ZGXO3DlYunSpnb1l/rz5WLhwIRYuMsEsFy9ZbGftmD9/HubOmWMVEYsXL8byG5dbOYvDPzhMhfID5amLra94Hs8/daoCK95egVdeecVam04y16D1B/1xcBrVywXfdw5j4XS5nLaXPuM4hTBnnNmzdw92795tp1LevHkT1q5dg/Xr19mpg7du24pt27edFnbu2omqqmrbAWdtZd2XMQJlOMqotF7iUCQ6XdXMjSJW8H3dEFm/IoSCHKN3cT824tqGWnea3dE0cPac2fbHlJ6yr2c4xduRw4ftFGQ33XgjioponeCYY3K6N/oGeWflO1izZo0dW0otfE11DbZu3WYquHV499138c47K7HHVHycTo5KCTrrSs9Ij1yhL1RCcOwsZ0LhuZzajFPwrlu33pqFcp53Khhyc/OsIsb2wERx6tQpvPfe+3j77bdw+NBh67eE6a3fsN7k4x1rTknv9wcOHLCCDSvNdBMnFKJjsCps37bdXpOzsaxftw4bNm5w8t3aZu+Nzsy4tETkH55LYYiCRnlZuS2LNe+vwUpz3/RKTrNh5uXkyTI7NRsdg/E8Cjn8qWFZHj58yApQFI7mzptnhYfThOd+m7EOrWI2bNqIUiOEcvz5zKlzkJSQbMcYm5IzgcuLD/x/6fAB9guWSOKcKrb/vvOG7xnPuZSMuuczuPm4PATNdxAyzyJ8GQK/H+9lqXd5n065eUNek6bztLnNf1Sbhrg00Xg1q0Y1LbvTLVMcZYUNJl9c8r3jN3mmwN+FgeIQvq1OHnirzr6ed+NcwZ51ITB+9LtzIeGDw2caQz5Tll5zS2cK7u32z1Xf4DwhZ+tSYRp9y4oph913wrxDfGrOs4w8w8hl+8SLhMj/04h+Hy42XB5CCJg6tqnFjx11Hdh2pA2Hy5pQUpSCX/zsKevfa+jokUjPzzLfSMh846YB7U1AwOvD4WNHsGX7VlRUV+Hhhx9GVk627Rjp8fkQY7BRXXGqwn7XdAA7fvx4ZGVm9dT/7ITpmZbVvAzsFOI5HGbSUN9gfaW0tXPaW6eBzuE0HE5MGYWdSpRLuE6LG8ojlG0o91Be4KwmgwcPwe233Y7BJYOtQuFC3wHmr63N8UdCOeS1116116JChkNypkyZ0uvTJDpprptAOYuz31BpQeugO+64w+ajD/wIomAek5KTbFnQtwiH9cyfPx8LFiywFifzjGxDBQ+H3VD+YmcPFT+cHYb+Thhv4cJFVjnEoUN2uWihHW6VlW3Knt+gyZuVucwKZyTkkKGy8jI74xHvq2RwyWX+Zj588NlS8cNpf6nA4jTBdGgrYguPET6cT6zfh/ZBwXFmZ+pdFrHNq6++ikcfe9Rqxn//C79vf5Cvd20yK+a9e/fa9RuW3mB7QajhJ2zw799/AL/85S+s8ig/L9867KJWnhU5Nf/sweg28ThXOX1bTJs23ZTrYtsTwnnwe5QJBvaiHDt6DC+++CK2bN1q56inUzBeh/iMEJadnY0JEyeYinIh7rzzDut8LJpt27bbsabsXeCzmzd3nhU6Dh0+ZBU0tMYg7PngGOcF7I1Z7MyfTsGDFT7NWFm5MD9UkPC+6CmdeaZAYntNoryM86ep0wgLu3btwnvvvmenCDx+vNQqNJh3OlCjAok+VOhBf+mSpZg1axYyMjNMJW0EbFNRc6wsTVQHGaFh1MiR9pw+xG5dfkaoePrGt7+F1e+9h4cffAife+KzRmBLN2VBq52zWxGdDwErRF0qJg3baovCNIp6HhgbuSR633nT+21cHi5fvcY7pgLkcpQgYcmwgXyhJXQ6veXsc4ueIZJwMLLktpt3X89N2JjOajQRBYizGllzE4zCytv8w/iRaM4+7nIbsuap9uw7z3f4gmfIiVzgojhDGVwG4s5Trgqe5+06SqVL5fSychVefMbuc2Q1xWfnNKqc++Axq/SIgmoQ7uXz7ol30c+iL/10/RdJEN1Gxq2p82NtWSu2b21BY2Ujnrx/KP7zX/8CM029NGfBMoyeNBo5WayDPAiF6SDTgxVvvY4f/fD72LlzJ155/gU7Q0xSYiLi3Dr8g3ltrhrszKBcQ4uJkSNG2vtlx419B+yzN0/WrPN98fsDVrbYuGGDHbLBMmKnCeNzSCvlBcoSVCBQfqLihHISLRus1WpnB1qaW3CqosK+Z/TDQsXA/fffb2SCQXZIrPPunR9swzQ2NBp5aJttJDM/FZUVVuahz5GZs2aisKgQ8XEROYNJRz0/3hM7t/75n//FToW8fPkyfOMb37BDgc4HTgHc2tbqWNiatHvybq5xwshhL730El584QWMGz/OTs9LRUd0p5j5pXSW5jx2GFFWSkhwyoBJ8dvjkkomynf79u+z15o9a7a1vnHPjVUoVx48cBDf/u//trI1h1qxDEVsIQWIuGJIAXI61NKzYmelzbGVrvKDcGgJzRm/973vm4p2q62kR40cZb8fnucOMWFgb35rW5s1JaW3dDoDoxkohQLCczhEhEqIH/34R1Z5QiUAK0JHHHUEhubmJjtF39BhQ/Gnf/qnVplAqwyX9UYA+bE5/6233rJWFOyF4FRzTJ9OyZhn5o3Chi/OhzGjx1izUypidu3cZXtIGIcCC+PzWhy+Qr8nHB/9qd/7FGbNnmUVMcQRfvzYvn27HbNLaxUqfWg55DPXZSXMOIGA3ypEOPaWvRSc6o69Iz5zXcZhTxHvj+XB4S+28o7d+vu8sAqQb30Xq1avxQP3P4D7P/EgUswzdSqDS/2NdpoqLv11GNFF7zaa480zSYrzIDHJZ56jEWLtI3L6fnvoWXVOCpjWdVd3CF0dIfNeXUieL+fDd5pg/HLj470m/3GITzifxqPTkA8EQmhuN4J6iNvuDTp3fjlxytFJv0/KZhd/B9jTHBfvQXqa+a5MA8LGoWLBrkXOi9rmc+Ne+jpo73AE8ZC9bdt0YWxumHIxsezp/GOC3W139GDv2/nf/1AU5kSey3gm8P3gi2WX5irMf2ISy9/55hMZh3GjXr6eNXOOXTd/urrC5t0Jwm+eA5+Bi11z4zmZjhC9fjH0XiN6neWaFOc1v1E++x6dTwPD+X0ModO8/239hv+difNTa5jcREXskxNzieht9/v1mXcj0ec1vyFx5vtl/k28Pu+PE5FZdL5UvpFc44wnHJYZiDxTHnPeoejScdad2spRgLh73LWLh6n5zCucaL7bhESv/X4d60ebmTPgfL/BYAit3az7zDcRMu+R2W5sDmBHbQe2bGxC9Yl6fOHjw/Gd//wqpk6biTFTFyMnZwhG5CSisCTZvK/8zfVgxdtv4amnfmjq/J14+aVnTF0/wtb5tGSMXC6moAUElRj0PUFZgqGn44P3aoqe7zPL2HnP/aipqbbWr5s2brSNciohGI/DWxknaGQKDq0NhoPmWSZahQjLkHKVHVps4owYMdxaSrDzZuSokTZOdEfRmaCMY4fwtrTamWsOHDxgrXBpwUtZhhbNt956G2bOmIGCoogvtzPA26uLKEB+9ctfYtny5fjGf/0Xcoz8dkH0ez1ZVkcOH8HPf/5z/Pa3v8G4sePw4IMP4vY7brcWHmd6h+xunmw+wOgkKVtSbuI9s4zYQed2Hp3P79O1ihQg1wdSgIgrhhQgFwYVBexZ+P73v2+HnbAiGjp0iFU6TJw4yfqzYA8R4x05egTvv7/Gmn0W5Ofjvvvuw2c/+1k72wkrLg49o6Jh85bN1gKE59ADPYfc2OnQjLRbV1+PbVu32ufU2NSIP//zP8eDplHM+fNdAcFVgDAOfzqYB1ql0ESwsLDQChocD7tx4wabd5pQTpgwwZptslLhvP3sJSkqLrJTuB0/esyOT6UVDH8bHnr4YTz++CftNQkr4KrKKvz0Zz+z3s6p5Bg7bizmzJ5j59yncMN7oUDC+6cDshEjRuCRRx7Bo48+aqcV7D+Mp4fo3Vfo9+/DhFWAfPOHePvtdUZAugNzb7oZiTTBDVMIvbRxy7bZE2lB2fVI+fYsI4Gbfp/TqEkzjaa8tHjkFiQiI8MI/ua5cdiGawcR1Y61cLPNnFtf343ayi4j+A7sxf6DhblwmvuJJr/pGQnIL0xGlmncnBsjsJtGd0trAAdLW9DZFTJ1Y+9NskHp3Hr0i3oxmERMEsFIATI1N0U2UJ0lEGd+B9LSfRg1Kt02Ak0T1v5zlCDOuV6zzqEUVCp0mleEp1dVduBUWYdp0JgWZFT7xV7FCMkcluHscYPB5iWy7hLJy0A4DV6HiMRiG8se96UIm/z6PMjNT0ReYZJtyGaZzPAN5NvlKkE4NIfYLbPO8q6r60Z9bZd5Dn50+R3ZpCce4zCihUt3/VJhDiJ5jyx95obyU+NRWJxs36O4+HM3ygImvy3NflRVdeJka7dp+LlpngFzOOGc4ldEfRW5fPRdu8Vt95l1bvr5Hphloim0HJP/kqEpSE93hk+674sTw0mQqbuvecgbQGdHAFUV7aitaXeUgPbBOmc4z8G8fZHGVl+lCOG28+/icNLl6Yl+D7Kz45GTl4D0zHhTZ/E38GzPwJletdV8v+UNHaYx7keneR5+k1aH+ZYPtXbhwL5WNFQ24g/uH4Hv/edXMWXqTOSOmof22hyMS0nC5FmZyDS/FQmJ8Xh/zfv4+S9+ju3bd+KlV3+NUSOHIyEpEZ4YVYCcFd6ruW0O9bD+0Mzzdxrc/L1vwFEj73D4cHVVlZ1xxfEF1mKdde4yckdzawvGGPlmlJEjKJekpaWaZZHtZBo+fJi1NnE7b9xX4ExQBmFHTUNjg3lHa63Teg6noc8N+s9gp8p4I/8svWGp9TVCJQYtP6I/xZ5LuCtmSVnme9/9Hl54/gU7LPfrX/+atWR14emBQAC1tTVW9nN32nfdTdtNL7LNsuKQ1pdffgkvv/SyHQJz5113Wl8pGRm0iI38pkdjNt3vh3JgfEK8VQpxeDM7saij7FHCGdwmoxQg4lpHChBxxZAC5MLgjzCdfn3/e983jdS30WEqwVkzZ9rp3pYsXWLHJLoKAI6LffGFF03F97IVCG688Sb8yR//MYaPGG7j8PtmZUrLDypJUo1AwMqRs86wocreU5qi0r/Gd/+HVgGr8MADD+DJJ57EosWLeuaxdxQgP8aLL75gBYN77rnHji/lGF4rUMTHWYXFm2+8ac0w6YCL+ePwlHnz5+O2W2+1fjjyC/Nt4+O4aYSvWLECL7zwAjZu3GStNv7u7/4/20ND2Eu0Yf0G/Nu//ZsVbji05d5777VKF5qYUvjgbwqH1FCRQq/nvEe+Y3/1V3+FksGDEW/yZCvrc9XXV+g38MMCFSD/9Y0f4tXX3zPPeClGTJ9thB/zrgTTjdDTa/VzsYQjrcjeXmCu20WfRxHwhmxDM9s0OIYWJWHU2AyUDEozwtfZFSCsRZpDQRw/2oZDB1pRUUEh8VwPOYrL8bxtppwGY2pcCAXFKRg/MQvDhp9P+YXR3RW0jdeV62qNAO8331TkXqOCLZwLua8+mPRMHpmq26i3qbn3Hhn+wb/x8R7kmsbf0sX5yDINQSpE3OsyvnNeRAFi/nWZtgOTOXqsFTu2N+LksXZ4TBqMyP022wZ3qIzd23Ph02UA+47wHDdKP3qVINERnH1h8x5QATJmXAYmTclCjmlUZnlPV4AwiZ6zzTqtJ5j/owdbUFXdhXbTcOVx91JUfriN776NYXffhRKV97BbBvaKprw9GFGQhIlTM1E0KMX85ka0SWehs5MK4k7s29OEg9Ud8Efen7NhXtPex9CfqAM9DZ1IYDbdu44+P2CKhZvJppwGFyRi2pwcFBekmO/X1CuR98WJ4ZSfo8RgSua5eP04Ycr/0OEmnCxrQ2tzgK0te5Tvq/vOusNx7HOJanjZNfPHecMvBpug/ZsU9GLIsGQMH0nLxiRk2iEq0c+8P47lSmVFB/adNI3vk+1obQ8jaL6p7mAIR5o70dIeRHdbC77yABUgf4XJU2ciMX8mDu9KxQjzWztyXDLSCpqRm5uJI4f24LVXnrcKkJdfowJkxHWtAOEzpYxhlSD25p3nTsUaLTFo9cHjVBDQ91l1Fa1DtloZ6HhpqbUEvfHG5RgzZgxSU1KtrMkhJtYq1kmqD26Dnp097jq/gc4O833t22etUDn9LuWn0hOlVjahv42ZM2ZauYQhOTXFylI8L/L5WJhcz++bgfdD6xf6YduxfYeV5R742APWCsaF7aSmpma8/vpr9pq8V2LLw/02o/LphqbmJhwwjffNmzZhyNAhtgOqZFCJtdywPmWirF3cdNgZxfWEhHhbRlQQ0RKXw6iJ9cUSuR/3HClAxLWOFCDiiiEFyIVBxcHuXbutBciKd96xFfcjDz9sx60OHtLruIufME0w17y/Fr/4+c/tMJFhw4fhz/70zzBrziynV8F836w4u7odU1Fq9Onzg+vcHwgE7BAZWmL8+te/tj1RixcttlYkd9x5h1WAsJKko9Sf/OQndjhKakoK/vwv/tz6LqGCgz0HhJUHnZJSEHnuuees8MDhOI88Yp69eeYlJq6thM1/Xnfb1m341a9+badzo+OwP/7jPzaVzUJbYdOvyE9++hOrTKEg8/jjj+OWW2+xPSx2rG/k/h3z1G78/d//PZ6jo91hw/Af//EfGD5ihCk3WhM4Qyp6BB/+3kWvX4dQAfKv3/gFnn1tPWbNmwvP0EKaAcATLHCCKRg2VJxiMoVkCvBCRJ4wnQ2cVra9whfTsoetz5EwClO9mDA0CdNm5GD2iFwkmgZUH1x/HxHMa4tGfwB7dzVh9Y5G7DINEEv43NYrvG4wcFrmLgKmEYZpu6Iw0W++u1Qsm1OEmWPPNpY7ch+mFcne79LSdnz/zTLU1Hcj4GepOPkPRHrWLw0nf3z3PR4nXTZIucYj3ZHGlTfsN994CCVFSfjCbUNRlJcMn7VAcHJAh6f2idmWb2Qf3w2z6+1dtXhxfRUqyrvgD8WZ79GJx3+k1wIkmt5n6Tam3afNEmDog0nTaTRz3VnYTbPOTY+3yypAFk7KwU1z883vYyrSvHGnp+MSyV+XP4j399Zh5/Z6HKnwo7ar/xkmVz0+QvhAePyMqZ4HzC3vnYM/nPfe2Q4h0eR/VnESFi3Nx9jhGciM/J72lszpNHR241BpCzaur8OW0jZ0neGdZrbdI71KBWf/6ThfPZUXZ4NHbZoRU5FUTwBjhiXixluLMTkrHSmJPttY7SXqCdu0zdnebmzfVIN39tRje1U7TPVk6iNHYW/rJucKdj2anm0mZdLqd/j8sc+WbzKQFBfEmIkpWDgmA7OGZFhLtN5nzxgMxP1+Q6YR68eRY214u7QOBw61obnR5MV8A+ZEBEBZNwx/VxO+8rFRKDu6Azl5+dh70o/1R9PM2+RDXLwf4cRNGDliMOJq6nBw1Wrs3LULL9MCZJSpuxJZd0XycLH3eA1CmYTyCDtzWMdzdhgqPDg0ksdY31MeIXRSSQsJDr2l1enPfvYz65vjsU9+0nbQjB49ysSyL4pTlmZ1oJqMjXwOm6G8RFmGcXkdDuelLEMZhD7bCDt7Rht5ZOKECVbBQPmHP4ZUILiWjy7hHkVnL5zdj9BypbOr08rBlFmifZ9R4UE/Kf/+H/9uHb5z1pwBMbcSMHIU5TnKdcxzR0cn2tpabXr08WGHUpn7YZrRigu3DJ3vKWxlLloF0yErZa1Ro1h2vLXec9xvL3pfrCEFyPWBZoERVwzNAnNhsLKiALB1y1acKi9HQUG+tbaYOm2q7SlwBSNWRFQG0JcI57WvqHA8q7NiZg9AWmoa67Ye+Ym9J5yRhUqKgwcPYO+evVbxsXvPbutodP+B/Th85LCtCGfMmIFx48ZbIYPQCoN+SU6eOGGP33XX3Rg5coTND4UKftq8NgUWemY/cPCg9bhOz+g3LF3aa5FCTP3JuC3NrTbfe/fusQLEtKlTMXTIUHuM1hxUuNDslEIGe0ooGJ0oPYHS46VOb4xZcjo9DoNhL83RI0ftbwy9yg8dMsQIM445tq2wY7fOvmDoN2bNxt3Yd7gChYNK4E9PsuP5A/5UE1Jg2obwmwYVx7SzZ5nr3ecMplHt5zkUrjxgh3Tf0LvPRI+sB+0yJd6DvKx4FJhG+ODsFMT1aTwZ3JZyBDaOOo0wzCEYR051oKyp26RpGh6msc60zxZ4PbZt2A67HIF5S/YGkZ4Rh+HFaRicn2JftTMHRwQP+kNoaOzG+kPNaO0w5WBapyGTMeaPuhCnfC4h8BoMdtspe/Y/MARM6DbfhC2PkBGMvSGkpfkwb3QW0lLijUBtMsBMmnL2hp1eeUtkhXu4eqiyDbtPtlq/B92BSNmb58LhGM71TFPfXj86OMfMq9Wzz5zSu+9sISqecy1zrmlu0nYjPy3elH0S8kxIMA2RnjwPAH8OmM9jpuFdYd6f6qYAWgL93lnzPHreWfNe9R7rF++8Q2+5BE3DyC5NvrmPv09FqT4MHZ6C3KxEJFMZyXxGynmg0G4+tJrGLvN73I4y8x51mwRZjv2De31TVD3vg12PHB8wfnRZDxDc78iWkYkbDgaQke7BqLGZKExMQIL1A8JcukTWnQ/GrvKdKz/RioMV7TjZYvJvEg2EfPaZRr9DznrvtfmsaZlDZQ6XTPLiAs81K1SIeYLIyovDkJxElGQkIpW+cKxyxP3n5NoJzna3+cHjELyDje2oqes2DU+Tv6D1egNvRGFL66S25koEvGmoaQ7h0MkGtIYzzW+taaya36DiYUBOQS46a+tQZuphWmI++ujHkZOTDR977PuU4fUBnZcePXbUzihHK1J2BNmpXo2sssfIKbSM3WvCHlNenAGP20eMrEALjW1GBqCyIDMjA+1tbXaozG4j11iH8yYNyjr2vH6BvjxoSUoFCGfrcZURIfOd0mEpLT44pJgzptACt9jIP7V1tVYGoZyze/cumw/O6sL13sBtJ1C+4r0wHofQUAajY9b29g7r3831r2ExLxE7wXgOr03LDFrsRgcO7ykoKLSO5OkEn0OSGQaZ+pxDgSlHUW6y8QoLkG/PMedGAvdzaBBlOQZnvdhOHUyfbHbYDN/0AV7BWFaAsM7SLDCxjyxAxBVDFiAXBis/VpQcJ0rfHRyy8oUvfMFOY0arhj6YuoiKDCqY6KCUyoMnnnjCKkxYsfEzDwQCVilx8OAhmy4VUqzYQ8GgPcZeFCpRKqsqcbz0uL3O73/+83bISWJkCIxrAfLu6tW2d+CrX/0qJk+ZgvTIdG+8Dn9Kuru7zPN+zQ6XoV+RRx59BI89+pitSKiQsFWn+cNfn1JzLfawfO973zP3lYwvfelLuPXWW6xybPOmzfjKH37F5pv+Q3hNTi0XbQZK3MqYvlCOHztux/p+5rOftQ7AKNBQQWR7I51oV+z37sMMLUD+45s/xouvrcG8BQuQOWIUvBT6ArkI+10LBpZzZC2qvM8MHyr/emwD+ZzYKGySAbkZcRg1NAUTJmdh4ohsxEdZgDCaHQoTlQW+aa2mAbh/VyM27mjE4TJagJgGTZ/rMjPOtnMqjzvp9cpv0fEvEKuUCZlGCpDpC2Kwyf+8mQWYNNZ1ZjdQ2u4+Wi35UXayHb974xQaTQM2aD2LmmD+d1NBE8n1RWMv5fTo23QNtACxwxJMAZj2vsU0JZGYEEZRYRI+cVuJEaiTjTDuWjz0lqhTeg6OShRYt7se72ysRW11N/zByICliIUFcSxASO+5fdbNan9Zup+uK0JvLhycKzB5r5dDYIDxw9Mwd1quHUaVZJ0kOzHde+8hcoFufwjb9tViz84GnKjoQnMn90fHjWjJ7D77QCLr/dI7b5iAkX/M6SxzZ9vZx/d9jCn/eYvzMcLcR1qPBciZr9XS6cfxEy3YuqkOe8rarJLyXPB2zh3L4JqKGHqfx0BnOvHiwkEMLUnEDTcXY3R+KpKT2IvuKAoc3DVmwASbqB8H9zVi3c567D3RZuohHqdlIuP2XsvtqY7Gefp94104fKYmmGTizDMYMToF0827M2FYOrJzWcf2fgO9cJsL+oboNvVXGzYeabBD8VqbTa7oQ8mc1pocRHNLAF3dVHExvqPU5HCsTMQj19SDWdk+jJ0QQMngHBw0Df1Xf/0b21B/+ZXfYOSo4dYChI68LZdym9cQrGc4PITT6r/2+ut2eK/fyEK0yqDDWVpU0LKGS75dcfHxZjsIOkCnouDIkcNWgUK5Jy093VqLskOGioyz1WF09k75hFMQc1Y6+g0hAfNScgY5dv6w8yg9Ld06FKUs9Oabb9nOGWvlwaR7f3AiS3fbxey38bjuQdCkzc6jGTNn4i/+4s/t9LUuzCtlsnVr19kZZvrDe6elQksrZ4OhL51Oa03CfexopkzENKjcpjKH90cFC/fzmqmpaY5yzQQn286SzmLHjx9n5c3oITkubhnGsgJEFiDXB1KAiCuGFCAXhqsA+e53v4udO3dZx6Cf+cynrX+MHisKF1MXnaYAefwJ3Hb7bSg0ggCnM+N8+WvWrLXjTunEi2NnKTBwVhS3t4MVLp19scJdtGhxjwKEQ2D4E9GjADFpjB0zBn/51b/EpEmTHCuTCBRWXQXIT37yY2zfvgOPf/KT1jEpzUatMsJWvCauEWQoWHCc63f++ztWmDmTAoRCDPexEre/If1+syio8OeMgo4dU/vAx+w1pQAZGMcJ6vfx5lvv4eZbbsGsuUuRwPcqREeoJhgitUNkxS2888PDrtrT4L7++53t5JQ45OYloXhwKvIK08wz670e1zhLQ3QOeJbfPHM64Cw73or6OsdRHNsrTopR1/I4DXM25SN7DG5q0aleKCY1j+MmM8m8X3TCOWxEBgqKXcEx0niJxprV8wxH8djY0IVdWxvQ0Rbo09Dr7nWeYejdf2H03lu0w9P+d2wbEj4v0jPiMWlGtuOE03wzHjuciCfYlmmfc72RVnGpabgeOdxqGoMB+Nkwcf+ZiIxLZYtzDuM75wzE2Y9Gw9QYnDPYWObPCYfA5OcnYciQVBQUJZvtiIrG3reTg/6wQVVR3mKtEJrMc+idSciNH3XeWdK5UJyU3Lt1lvx9yspOwqhxGcgx92EVUOfAbxrX9bUdKD3aglMNHaax0zdNl4GeOaOc/W4iysI+8bjHfEVc9IPvUFZWAsZMyER2bpL5vaYPFu7tj3P3TCcU9qOxvhsnSltRWd6OAH8zoj8ZmwHzk+RsGZzU+JnQOsSuR/J0UUS+RabqM+t5hQn29ye/IAnJqaZODFMJxaPMgXsN9/vlzC9+NNR1md+gNtTVdKKr0zSyQx50m+dwyOfH4SNtaGoKmlfHxDf/Q0khpKbHYZgvEePSkjF8VAoGFSWiuCjT+t966kc/sRaWL778K4wc6ShAYnUa3DPBzg0OZ3nzzTftUNtDVICYBmliYoJZOnW8G/gicNhHR3uHlQlY91NJQRnBicMhMvGmIZ9iFQGOHNDfMonJhK2CgFazn/yk01HDjhYXWuO6PjiYBq/B4b10NErrU76DdKgaNHmw+Yoi+lruMTfvtNZlHXbTTTfiP//zP5GTc/osMLR4pUInmoA5h35PaKVA+YkyG6erpRUsh+wwr853YTALWrQUFxVbxQ2VGoNLBmPwEFoHO7Pv2Fm/IvnkkvIlZcKBlBzuPQx0LFaQAuT6QAoQccWQAuTCcBUg//M//2PHttL64TOf/gwWLFwwsAJk7148+8yz1mEqKyfXAoTztnPeeDrbovKCZqUJRpigT41BxYNsBUinqFQwsOeF07u98cYbdjrdz3/+87jv3vus/xE2zlwFyGprATISf/M3f3NWBQgtQLZv34ZPPvZJPPbYY70KECojGNcIO+xdee21V/Gd73zHjsH9YpQCZNPGTfij//VHdhgNlRqumWh0Q5EpRVfe/EnLNe/VwgULTDq32l4gnxGSbBwn2hX7vfswQwXIN7/1fax+dwMeevghPPz4w/Y98Hj9JnTbouIvtS1fnsDiO2+hxzSSzMlObBZ2/wKP3ucK+G7DgqFf489EpfPG/oR6/ILwYk6a7GF1UjZ/e1pqzjWcGC7utS4PcUE3z9HpRu4tmh4fJcyzI1S7flAcnFxydhyHvrm+MHrzYv+aZKJz5zxhA3ute/Ll5JnKD499JtygAO40fN1zXQUIZ5cJRp5D0KTH3lCb40hE3kbv9c6M+yQvFH7vHg+d+3kQMtnk7DnJSXHo8kfeg3MpLnrKnhl1c3G23DCeTfnCieTF/nXL1tlyVnueQdS+s+Lkm3+7faZxGLUvmoFSin6WA+HOsDNwTiLXsFHc98VVd5gQuY+Br+GmSD8ofkcZ7mXjlY1Mc4LjNbUvrhIgci5j2FjmAqenf3FwmJel530xIexOZcqrue+E+4yokQ041zf5sE/BvPsBfxB1TQGsOtGCtWtqUVPVaYuIdVBmYTxGT0zHiKRkjEpNxsSpGfD5E83pHry1YiV++FREAfLS9asAIWzwcxgu/YPRStW8jLb8OOuOq4yg1QNlJM7EUmMa/hzSScUEHwj3swGfkpJmQqptxBYU5vcMb4n2IUb4G8Lht1QSzJk7xw4voTx0Jpg+/YxwWI47FS8tUAKBvooKF+cqziPktWj5wXYQZbWdu3billtuwX9xGtwBFCD94fmU59iJRZmPFiicEpiKECpUWA5UIvmD/La89j7ZyZWdnW2tYui/hLIflT1U9NDaJZHOdlkWkXeMihxrvTVAfW8uz78DHosVpAC5PpACRFwxpAC5MPorQMaMHoNPf/rTmL9g/ukKEANNZ9krQeUFK0A6ML3plpus9QbP5/S3v/3tb+3wkDtuv8M6Ex0yeAjS0tnb7ggDrEyfe/Y5/Nc3/gvTpk3H5z//Odz70Xutw1XizgKzevUqa5HCmVYmT5rs9JZE6kMqNXotQH5ip6WjJQYVIKx42TPLnx2rBDG/OyfMNdnT8/3vf88KJhzmw7xR6UJlzV/+5V/asrjrzrtw991323GpzK/JsHPBCBQq2JNBwYfCC5UyuXm5VjDpqcx5SvRv3dl+9/omH3NQAfKtb30b7737vh0q9MSTT0R6vVgo/QrmYsribGVL+j8Ly8AXOr/Ln/mCfY58EM/VXMBp/J0PbryB8tu7z7bDPgj6X9Zcx2nrDnTBs+X1dFzV09WD+fXYRnVEsrkArnbeycU/dKoTIg/ydC721pidAc49cy4vLP9UZLs/y+SisnlhlxwYc+GBv9+BctZvX0895Aw3oIPLts4Q3tnbiU1b96GrpRqZKfSvk4IZE4swbFgxsjMzkGzqqHjraNg5f8XbK/DUj57C9q3b8cKLz5u6crTtECCM0aMPvQ5wlARBdPu7T2svsDOEnSYMlRWV1n8Yh+zS+oFT/bPxyvNZ37M+y8nJtb4uBpUMsc7jaf1QYuQedv5QTkhIiAzbM38SE43sEE+fYadbiUTD9OmUtbm5ySo9+O7w2dPZ+vnA83nut771LTsDHjuqONPduRQgPI9Wu7QWev755/Hee++htaUVmVmZVs6hzMShO8nJKQiYcnDxB/zWMoQzxDQ3NVv5icoPOoldtnyZdZpPJYlJ3l6D8P5tCfAPw3X0/vEdou8YPp+E+HgpQGIUV60uhLjGcSvsaEHOVszBoGMBsmOnjbNgwULcdPNNmDF9hvWrQeda7BnJyHAqUToQcwQIk4Bb6fUmaXB2snfhQnAr1tMx+23NG9mMQCGEwggrdQoZ3KbyhhU3FSljRo/uE8aNH4ex48ZaSxk62s0ryLPWIlb54d5A9DXOlJ3rChYCBUw74WckOO9Nn3+mNX7B4Vz/BozjvGr9w/kx0JlO6POvfz4vRzD/zh+W+Zlevqg8D3SdyxH6/zP7nGsOxNnyejpRqV7Vf2f8qTkrvWV/9cLFY1Po/6zdcLH/znBu3zxHhwvDaWT1nn9R//rf68UE829gBnr/++7rufOo3fTbkZGWiaKCfIweNQRzZ03EHbfOwdSJI1Ccl4W0ZFf5QSInWuWVs3QUib154tb1BN8LTqlPK1AqMRgoB1DJsX79Bvzud0/jqR8+hd/85jfWUWVFRaW1DmFHDeNyOAsDn2tDQ711jsrZ8X7+s5/jl7/6FVatWmUauIesbES/Y/Trwfg8P9oy5EzwPHYWcWjyxg0bsW79OmzcuNF22GzYsN6sb7Db0WGTCZya1g102M6hvVTwsGP4fGBcymfvrHjHDg9mPmjBcdddd9kOL3YWfe1rXzfLvzDLr/WEr/7lV61l7cMPP2IduNIxKq1FnnnmGetrhfJhNM53eT1j7v/6LoDrAilAhIhRWFm6obWt1faYUIngePwuRkZmhh0Kw14L7qcDLcbZtXuX1YBbsZC1gFsRRFUIPcfOSG8Fwl6+Mys/DO6hfslxTC2dgo0cMdLGYS8PrRZo5ZGUnGRNWaMDhSVOBcf75fVoCUIlDfMqhLge4I/J9RquPWLtl9mtF+N8wPDcEOZNyMbCqUMwfdwQjC7JR056BpLiEkDvKN6QEcD7BVp52GmqI8F1WDzQqKDrCcojtPxYt249Xnn5ZaxdswbVZjs1LQ1jxo7B/Pnz7TCSu+/+iLVqYLjvvvvwkXs+ghtvvBHTpk210+9TJjl44ABee+UVPPvM0zhVXmYtKjhsz4hA5w3zwxlefve73+IHP/wBfvTUj/CjHzE8ZZdPme2nnnpqwOAcfwo///nPrYUv5Rxr0Xoe8Lq05t27b6+Vq2bNnGWtN++/737cccftWLpkiZ1xj/tnzpyJWbNm2TBv/jzcfPNNpkzutU5eaXHCWWPoNJ4dYyxbpu1y2nd5nb9/IjaRAkSIGIQKAMfrORUh5o/5zzn0WcnV1dVah6g0F2Voa29DndnmlLjbtm21U88GOJbV1IK2J2AgRYe7a4CKkYecw85f5iU6mj3unk8iJ/RRthjo9Z2mq3T6SkXIgf0HsHLlSuzft9/mlzPWNLdEgllvqG+w0+MeOnTY9s50d3bba1uiryeEiGH4zV+PQVx1IvUYFSBDswOYMSoVU0ZmY1BOChLDwR7FxpmCVYREL02SbrieoZKCnR8rVqywlhO0Blm+bBkee+xRPPLIo3j4kYdtoC+rhx5yAhv6jz76qAmP2TgPPfQJPPTggxg1cqSdKebNN97A4UMH0dLUbDtNThNzTPmf6bOi5QU7i9auXYvVq1Zj0+ZN1h+Hne52F6e73WmH/vYJu3ZZfx9uoNP6rq5uFA8aZC1b2Qn1/7f3H4BxXOe5+P1iC3ojKgFWEOy9F1GierGsblnFcpGd2HJsx4nv3/ni+N4bK8mNnTiJncQljmPZsmVbsprVOyX23nsBSQAkARK9193Fd553ZhYLEARBlAW5eH7g4fbZ2d2ZOee8c8qloKUIloNxUTCmB2aPufnmm2XuvLkyFt2ZE62ZXbovC119MK4Jxv1Ydf31cs3Ka2TChAn6uTEYPgadxbgr+ApYVKKRYqQfV4kik52L4QJdQDD6NwYrxSBhu3btki2bt8i+vfs0s8Z8+hvWbZBXX3lVm4miGagGPvCHS5QMLlIQ6En3QAYgow2FZetz9Hmd76P325Bpj84ZLTfeeKOgewvm3H/7nbflxRdf1Knh8DkwsCsSBiRD89PVH36os+Ds3LlTR0nX0Eu3dSEiIhp8Vj6GCijG6cL4WzjDTwOD2ekKCwtNHr9Z8/Rrr71WHv/84/LZz35Wbrn1Zlm2bKkp38zUcVO0e6xJE/MmyqRJk2T27Fly3XXXyj333qODut/5sY9JRnq6DhZ6/Phxqa2r02ljg/pYXkCrDZRRMMj8/PnzdZyIj5llY+a9O+64Q+742IUJY6/dYdKdd35c7vz4x7Ulxg3XXy9z587V7r6Xgs/e2oLZqjrHRkEwBrMR4aSVzkJj/2k5zIYx4TDjFZ6L7lk4MaQnuQy0lA3t9hP6OpadKJIxAEIUgRBIQMELmVl6WrpmsKtWrTIZf4a2pPj5z3+u/UW//y/fl7//+7+Xf/nXf9HBuNAi5Nprr9N+sWhiiQFLMS5In4QESZDhYhpNr8lcMRhXS3OzrkuwqScy1i5BFRQcLzwcIXOelD9J+7iiKSeaaj711FPy5HeelP/3D/9Pvv/P35d/+Zd/ke/+43fl29/+tvzT976nAZDq6urO1h9ERERDQFs4Mq8ZUggo4cQMZqwDtFgoO1+mU7/W1tRJc1OLzr6DgVNRsUdCUAOXGKy0vr5BKssrpeTsWQ18IBCA30yn1TdlDOhwYiD4KUN/Tud2yH14LVrToow1Y/oMefjhR0x56ttaLvm7J/+ux4THdEyOv/3bYPq7J5+Ub37zmxo8QbfeS0HABS1ix+SOkbNnz8jaNWt0Zj506zl3rlQaTfmtrbVNW5YgGIKBWX1+8x20tmirkbNnzprnY6ySrXLqVKH5HCLjxo3TyQgwE0ww4IFLBj8owjEAQnSFQsAAGSyaNWKQUszWgkE9LwbPj4uN01lSMKCXRvVdUTpPPgY6Rcb54IMPatNHnEEoKS2Rw4cOS8HxAu1Cgn60j3/ucT1jgq4nmILPORsQWsDD7CrIMHWQMftx5WSaJkWZAguCFyi0WAOsJuvtnqDJJkbaTjKfE89zBiIDBHIwOjlmDsK633jjTTqtLdYX3VwwVR7Wv6i4SDN6DO61cMECmTtvnn5vXdaPiIhoiFi5Tc/BfOo/BCom50+WW2651ZQP4mXd+vXyk5/+RGcxe/311+WjDz+UXTt3ytGjx3Q2POvymLZy3bhhg7z7zjvy0ksvy99+50n5zW9+o0EQtBKZPn26diXp0konJNBxgW5BEPzgCLIgIIOTM+UVl5/Kyst0QFIMbho6DkdPEABZvGSxzJs/T9cbg7v++Cc/kX//j/+QZ555Rt59711tGYv7ERTBlMoYgHXt2rXyxhtvyE9/+lP593//oQ5+Wnb+vMybO1cWmPISymgsK9FIw2lwKWw4De7lwdmMM2fPyLq163SOdwQl0PQzb1Jej8GEkpISnTcfc9Njt166bKn2DR2VOspk0n5pMJn0yVOnZMvmzdqfFq09cCYEAYdx48fLEpOxoh/p8ePH5P333tdBsm684UbtZwroSnPixAnZvm27XiIDRjPOnJwcnStdS392Hor9HINrbdq0UTN3tN7A747P4DzHgRHI0a8VU7sh8IEuL+irimCIw2fWE98BBg07eOCAFhYwsCsKHxj4FM2NsS2hn+t081ot2KSl9j5TzaWOeRFeHrCmwf2xrF+3XgdSe/zxxzVoREREl0+zFLtIfbkVSoxvgcExd+/ZI6++8orO7oFBysnq5oEgAwIamM4f3V3LKyr0JEy2yfPxPSFIgrKMU6VBEKq9rU2ampo0NTe3SGFRkZ7YmTlrpqy8ZqW2vEA5B2OKWONmYBa0S/xu5mGsyy9+8Qt5+umn9frkyZNl/PgJ9hMuvzKF9cYgritWrNDxQC4FAY11Jt/GzDIHTJkIr8d3kZ6epuUynAjD58H0twiqoNtMbW2tDhxbW1sjqSmpMmfuHLnh+htk5bUrtRUIlkGW9nafjhPzox9xGtxIxgAIhQ0DIJcHuyaCFGjqiUHAkEFlZWddtGUDMnkEE5DRIfPDwKHpmenaDxn7tzMbS01NtZ6tqKmplYApWGB5EyZO1AwU74Op2aoqK3XcEAQUkpOS9XVoTaLvYR7DXPKYpi5vYp54o6PN+pgVCFklBG8qzLqg2WWH2d8RzEBf2Z4yWYxLUlNdo+sEmKUG6x7a2kUPT2Yd2n0+DeRgHfDdIHNH0ATLxVmMpGRrKruLtTbp4lLHvEuUg652DIAQEV0ZGADpnVMewkCjaNWA8ctQVsHYYCj31JhyT0tLs8nWrSAGBoGPiY7RbjOY5hatYFG2mD5jurZ6mD1rtozOHa3lI6fFKd7DCoTghnVxAVMuwHo89dQv5VdP/0pOnjhhnWixy2SYUeZyoez1ta9+TQdxnWjKYr0y64XxzTAmCsY+w3dxznwPaBFbacpbWLfmlhar+GL+w8mhhPgE/R4yMq2TRDNnzpLFixfL/Pnz9Lbz+cnCAMjIwAAIhQ0DIGHmVOCdfdtcIgiCQAbyauz6HX47w3ee2/014Fx3HoPuxws8FvJ4wCwX76GBGjw39LV91f09ehK6XOe687pLve+llt+fdb6KMABCRHRlYACkF93yYtQj0Ar01MlT2uK1oKBAZ69DlxKnSoOTIzjxMnbsWMnLy9OAB1qGosUHvtfW5laJT4jX8hDgZRi7DC1dg7qXEeyHGhubtBvJW2+9KWfPlmgZCmUdLVP1IwCC4MSjjzwqt952q7aovRS8D+pRSBjz47j5/Ht275YjR49IUVGRlJSU6vr4/T5JSU6RMWPGaNfnWbNnyezZsyVndI7ExqGVSIQXcvqJAZCRgQEQChsGQIYB8jdn33Yue8rzQvf/iz3el/tDr4cuc6AutX4X030dLmf9Lud9rkIMgBARXRkYAOk7JwCArjEIdAQHPg2pW+A5CEygdQNahHo9Xm21ittOsEJP0Dj5PMoDSH3I9/HapqZmbXGCdRgorAe68KArzuW0xnCqb/jsGNfN+R5C18n5DpDQqhbJ+Q6oZwyAjAy9dJAnoqvepSr5fdXXvNIpRAzW+w4U1js0ERER0VULlXdU4jEoKFpPaHff9HQdP8NJ6NqBE2wYEwNdTDDLCgIhTsU/GAAILa/0sYyA1yYkxOt74n0GmrC++ByXE/wArAcSghqh30Posp3vwBlgPvQ7IBrJGAAhos6M/3LzxXDlo/1dPyIiIiIiIhsDIEQjBYIHvQUQrvTgAoMfREREREQ0AAyAEBEREREREVHEYwCEiIiIiIiIiCIeAyBEREREREREFPE6AyDsX09hEBVlb3JXyiwhREREREREpoJiTTHMikokYwsQChuX2y0xMTE6BVf3ucqJwi406DtCA8DYF10ul06NR0REwwPHYbfn8qZBJaKh0dbWpkEQ7JecNjgyuRjgonCJ9npl1KhUPaA0NzdLW2ub/QjRIEAedTkJQq+PMIFAQC+jY6IlPiGBmTwR0ZDqzHCiTOEbyboRJTGxMRIXF6eVrkDAJD0LLfaZaBow56sfrEQRC2Wj+rp63feio6P1BBH3w8jDFiAUNomJiZKfn6+ZR119nTS3NFuZvd9UxHBs4fGFBsLZhvqauhtJBRzz+aurqjUImZiYJMnJyRqYJCKiQRBlyjVICsdWl/ijPOIzKarDL15/k3gCzRLwmMwm2iNxyUmamtvbpLzalI9afdLu84mvrT3y86Nw6J7/DzRRxELr9JKSEj0plGT2ydjYWGlvb2cQJMKwxEthowGQSfkSFxcvpSWlUlFZoQeYKLfJ3UdCpZPoCoCzG9j3ik8XS11dnSSbDH7ChAniZjcYIqIhgzYfTkHHagFi7usISMCkzKxMycvL0+sHDhyUmppacbnc2i2mw8fuwkThgi76BSdOSGtLq8THx0tCYoLExMaylWyEYQCEwiY1NVUWL1kiY8bkSll5mZwoOCHl5eWmENDtoMIgK9GQQQCktrZWCo4XSENDg+SMzpFx48aKx83+50REgyO0uUAPCcUeUwJHkAM3U1JSZML48ZKZkSl79uyR8+fLpL3dZ7WSDZgn8Owz0ZBramqSwlOFcuzoUR2zcHT2aElNSRU3Wsgy/hFRGAChsBk1apQsWbxYpk6dqgeZw4cPy7FjxzTaqmUCQD6PC+b1RIMOwY+W5hZt3nn8+HGJNhn87DlzJD0tnV1giIgGjZZkLp1MYQd/Ho9XxowZI8uXL5cTJ06Y8tFRqaystMpCqHjx7DPRkNLWseUVsmXLFi0jZWRkyLhx4yQpKUn8Af+FJ2vpqsYSL4UNBviaOHGiTJs6TZuVFRUVyd49e6WyolIPLqBFARQIGAEhunxaUO6WbNinMPjw2bNnZfu27Xo5ZfJkWXXddeLxeu1nERHRoAk5BltBD7A6wJj6ljXbhLkS8PslNydHHvrkJ8Xv98mmjRvk4IGDOvYAZ4chGlooHzXUN+hJ2XXr12mZKHdMrmRmZoo32mudqDX7cpSryw5NVzH3k9958smuB+ihhQEvWbkdudCHDoEQNMFHAKTghNUMf8b0GeaA49HHddopHmSI+g67y8V2Gfux5qZm7Xb21ttvyeuvvS6TJ0+WW269RWbNnmWNco5m1kRENEDmWOpChQmDoJrrUVYK6LE4IAGXW9qjYsXvihGvuMSUfCTa3JcQFy8piUlyvrREDh/aLyVnzojXlIswdpq20GMrEKIhgUDjho0b5Pnnn5cjR47InXfeKcuWLZOcnBwNgKCMFBwDhEWliMAACIUVDiDoV4cBF/1mW6iqqpSCggJpaWkxmyGCI/E64rLzXCK6DN13GXOo9bX75IwpSG/fvl1Wf7BaNm/Zomc1brzxRpk7d66OzeN2uxkAISIaLFHOwKU4KFsH5kCU1ei6A42vcR0nfDoCWtbRP3OJY3F8fJzO0nXmdLGeKMJg1QmJiVp26lIRI6IBQcuOwsJCWbNmjbz99ttSVFgks2bNkmtWrtQWshibx+1yd+5zLCZFjChT6LWGooYw/LDtbe3az4pGtpraWh1kaOu2bbLDVMxgypQpMm36NJmUN0lGjx6ts8Zg5GUdnJH5PVFQb31R0Y0MAUW0rMJYO+fPn9czGhhzBwProfvZ0iVL5JprrtH+rbFxZh8zhWqdjpqIiAbIFKZdrdZlB4IeVuADU+CCBkBMwlHc4/cjDqJPBW2Kb47dmzZtki1bNsvJkye18jV/0UKZOmWqHrMzMjMkISFBTxYxGEIjXW/loZ5o+aixQaqqquT06dNy9Ogxk45IfX29jB0zVlZdv0pmz54t2dnZEh0drSeHQqvKFBkYAKFhgyAIBvvauWOHbNm6RSOxyNQR/MibmKeDpiYmJekBiJk8UVc97RFO67r6hnqpqa7RM4cY6+NsyVlpa23TfWv5iuUyZ84czeijY6L1+QyAEBENFgRAWqzLSwZAAhccy9Hdpby8TAPXO0z5aNeuXeI3r8Jg1WPHjpXc3FwtHyUlJ4nLblVCNJJdTh0BgY6q6iod6BR1kPq6eu2CP2PGDFmxfIV2Cx6VOkpcbmvfQrkqOBOTeR/WRiIDAyA0rDAAGEY637V7l049dfLUKSkrO28dZ8zj6HvndrPJJ9HFdRs0GPm09Z8WpNGkOiU1RSZNmqRnNTDeTmZ2pnT4OzToiOc6ARDsZ+yiSEQ0EDj4XtgCxB/lxj1G531OAETvN8deHH8xHgGO3WjBh0rakaNH5NDhQ3Lm7FmtvKEM7fV6NRGNdBqSuIw6Qltrq/j8Pi3vxMfF6+QMaIGOri+4jtnx0PK8zeyHeI62Qje07mpu4z7WSK5+DIDQsLIiqwHN8Kurq6X49Gkdr6CutlbPXuNxBj+I+kYDH9YVbTmF8T2yR2dLWlqaDuaFad1QaEbh2gl06KXzMvs+IiIaiJ6OpZ1lGTx6sZKNlnvMJYrnfr9fWk2FrbS0VFvzoUtjTU2NzuiFJ7EqRnR5sH9hMga0osJ4aDm5Odq6Ct3uvXaLc7cpI7ncGPvDCnz4fX6JMvdxb4scDIDQFQNno5GpN7e0aEDEZxIrZESXD3uNy+TcyMwxcB6CHtal1QTbYhedO/8LZgVERHRlQDkIQRCMXYBLtJxFYISI+gctY3GSCOUip4ykAQ/7cQRBnC4w6P6CeivKVBQ5GAAhIooweigPCR5a18z/ocd4OzMPPfyzaScRERGNdE7rcwQgtXyktyhSMABCRESaybO7GRERERFFMqt9DxERRSRt1dHHREREREQUydgChIiIiIiIiIgiHluAEBEREREREVHEYwCEiIiIiIiIiCIeAyBEREREREREFPHCGwDpNsYIB90jIiIiIiIionDoDICEYQBUYNCDiIiIiIiIiMLNFZwBhoiIiIiIiIgoQoW1CwwamXR0hDQ1YfCFiIiIiIiIiMIgvAGQjo5gEASX7A5DREREREREROHAWWCIiIiIiIiIKOIxAEJEREREREREEY8BECIiIiIiIiKKeAyAEBEREREREVHEYwCEiIiIiIiIiCIeAyBEREREREREFPEYACEiIiIiIiKiiMcACBERERERERFFPAZAiIiIiIiIiCjiMQBCRERERERERBGPARAiIiIiIiIiingMgBARERERERFRxGMAhIiIiIiIiIgiHgMgRERERERERBTxGAAhIiIiIiIioojHAAgRERERERERRTyXdJj/kYgGWVRUlH2NiIiIiIiIaHixBQgRERERERERRTwGQIiIiIiIiIgo4jEAQkPC6f7CbjBERERERER0JWAAhAYVAh6hQY8ol7mNZN9/OYmIiIiIiIhosDAAQoOqo6MjmPR2wFxykF0iIiIiIiIaZgyAEBEREREREVHEYwCEiIiIiIiIiCIeAyBEREREREREFPEYACEiIiIiGjYYLM1JREQ0lKI6AvZolWEQCHSIz+eTgN+P6ULE7XaZ6wH7UYo0lzOTizNoKhENrp4O8S7OskRENOxcHX6JsoMeuMQ1n8tjLnHLSjhauztYViYiGixsAUJEFMG6Ty99OYFJIiIaOk7wo7fWHz3fS0RE/cUACBFRBEO4Ay0+nMTwBxHRlaAz+NHZ3gP3WUdptowlGh7c8yIfu8DQkAk90+xk5Bc7+xya0eN6IBDQS008FBFdoHsoo/u+5bT20ORyHjOX9r6G/YrhECKi4dIhng6fXjrBD/zf7o4RU1zWhNsuc/x2mTIRjt0oGyERUSennuCUaZzykFOPCLKLPHiey+XSFISykn0Vr3GWEbosihwMgNCQcQ4aEDxwBI8uJpnrONzgaofJ0P1mu/D5fdLe1i7NLc3ia/fpfQyAEF2cBjjwh0t7n0PAAxm72+2R6GivuXSLx+MxyavPQQEal9oixH4NERGFU88BEJ8nVvymvOw3x+kOMcdxczz3tbZKm0nNLS3S1tZmvZoVMiLVYY+R45SD9M9cos4ZrEPY9Q5XFMpGblM2ipaY2Bi7bOQxZSZ3sFwEoWUj7muRhwEQGjLOwcM5cODSHzC/fQjrOVHS3NQkJaUlcvr0GTl37pzU1tZIc3OL2V7aebaDqBe6f+GfuQzNsJG5p6amSlZ2lqQkp8jYsWNlzJgxkpCYKO3tbcECQvf9lIiIwuHiARCfKSejBYjP3yGNjQ1yprBQiouKpKysTBoaGrQsjRNGRITyi1YrL6TFo65lG4/bI7GxsZJoykLp6ekyfvx4yc3NlZSUFPF4vWYPFA2QaNnI/EM9td3URVCm0uWxrBQRGAChIRNaGetywMAxJcqlrTuam5ukorxC9u/fL0eOHpGiwiKpN5l7YkKCeM2BKHgQIiJr39Hs2crUg/sGMmXrP+um2d9QgG5tbTWpRQMgM2fOlLnz5sm4cWNl9OjRum9ZT7YvmKkTEYVRSAAEx98OtPgQaXVFawuQ+oZGOXO2xJSP9smRAwekvKxMW4XExsRoZSx4DCeiPkM9FK2okFAPQfBjxowZMmv2bMmbOFESk5LMszrE7XJrS9qA2S/9Pr+2EgGWlSIDAyA0ZC4WuLA2uA6pq6uToqIi2btnr2zfsV2aGpskyhxs0kaNksmTJ0tGRobExccxkyeyOcEP50IvQ47g5niumTMSAonFxUVy5vQZqa+v1wIzAh9Tp06VRYsWybgJ4yQuNk5fw1ZWRETh1hkAQfDDFMi11QcCIOUVFXL02HHZu2+/HDp0SFpwYigxUcaYyhpa840y5aTYuFieICK6TC3NLVJZWSklJWh1flqam5vFa8pH06dNkyVLl2owJM7sWygzIeiBfcxv6qoeUxdh8CNyMABCQ+ZiGTPOYKBJ5/Hjx2Xb1m2yY8cOaWlpkSlTp0h+/mSNwObl5UlmVqY5CDEAQtQjZ/fCEdw+iuNwbmXQHdpMurioWEpKS+XUqZNy7OgxKTXX0fRz0eJFcsstt8iECRM0g+dxmIgo3C5sAYLyUU2rXzZs3CRbtm6V4tNntMXHZFMmmpyfL5MmTdIACLo3MgBCdPnQMra6qlrOnj0rpwpPSUHBCTl44IC0tbeZfWyyrFq1SmbNmiUJCQkSY/Y91EG0xW2w0EWRgAEQGjI9ZcyonGEbOHHyhLz//vuybu06aWhskPvvf0Cuv36VBj7i4xP0uRj5nIgGwBzdcYivq6s1GfxBWb16taz+cLUkJiTKI488IqvMPodWIXgeERGFU4e4O3x2tQpBkIC0tLbJ3qMn5Fe/+pUcPV4geZMmyf333SdLFi6UjPR0axyCwcDiFZF2gSkrK5dNmzbJO++8LScKTsjcuXPlc5/7nOTk5moQBAPJo9s+6q4oKqFuw93n6ud+8jtPPmlfH3IItaCptZ6hNBsQKrhsTjRy4JdG8KO8vMwcbDbLxo0bpKmpSe666y55+OGHZdy4cXp2GtsFz2oQXUIvh07rIWuMECQUmjEOCAb5QtZ98tRJ7f+amJgkmZlWSysei4mIwsmUgVGxwpho4pJWf4dUVNXK7599Vg4fPixTJufL3Xd+XFasWCEZGeni8VrN8bX2NdBERDrGR3x8nLasQjkIrWR3bN+hM+llZmRIqikzeT1efa5TnuLuExkYAKGwCQT80tjYKAcOHJC1a9Zq8GPp0qXywAMP6FloDHqqmTsRXVovBVnrIfO//Tj2K+xfaDY9ZuwYaWtrl6NHj2irPIyAnpmZJZiKmoiIwsk6WqMkXFNTK7t27ZKXX3pJB62+4/Y7ZPGSJdrywxmLgIgGF4IgTvkoPi5ezpw9I4WFhZKelq4niJKSkvQ5FFn4i1LYtLa0SsnZEjlx4oRUV1fL+Anj5dprrw2OQ0BE/XCxMnG3+9GPNTk5WfLz82X5smXaGuTkyROyb99++xlERDQccDIQZ5/fe/89PVG4YMECmb9gvmRlZVnlI8Y+iIYUpsSdP3++rLpulTQ1NWsQ5HzZeWlvb7efQZGEARAKG8xEgdHMi4uLtavLzBkz9SwHBzklGiDrJGLXdBHY39CvHLPBYCamXTt3mn2zjq3xiIiGSWtLixSZCtfGjRtl8pTJMn36dMnMyBSPh+UjonBAKw+0+Ljmmmu0VXpFZYUGJZuam+1nUCRhAITCBq0+duzcIWfOnJG09DSZmDdRI65EFD7I5NPS0mTKlCna7LOgoEBOnDip4/MQEVH4oXx06tQpqaio0NYfWdnZOuYHEYVPfEK85E/Ol2nTpmo3/bNnS6S2psZ+lCIJAyAUNsjgt2/bLvV19TJ+3HjJNhk8EYUX+pHHxsbooMNpaek6C1Nh4SkGQIiIhgkCHzg5hO4u6KaYljZK3G4GQIjCDfsgWsh6zP5XY+otaClLkYcBEAqblpYWbU6GihbGIoiPj7cfIaJwQQAE3WAwKwxGPcfYPFWVVdrvnIiIwg9nm+vq64Mt9GJiYsyx2n6QiMIG5aOcnBzdF1Fv4RggkYkBEAobTLtZXVOtFa24+DjN4Iko/JCxY2pct9ulAcnmlmaOAUJENExaW1uluanJXEMLvVg9RhNR+GHfw4wwbo9bgx8MgEQmHmEpbPx+vzQ3WxUtjD3AwU+JhgfmuEeCQEdA900iIhoeCES3mYoWWui5olyc8pZo2ETpCVqXy60nbNk6NjIxAEJENJJ1mH8Btv4gIiIiosjHAAgR0UjT7YSG0xqEiIiIiCiSMQBCRDQC6Zgf+o+tP4iIiIhoZGAAhIhopLEbfGjwA/EPxkCIiIiIaARgAISIaITjDDBERERENBIwAEJEREREREREEY8BECIiIiIiIiKKeAyAEBEREREREVHEYwCEiIiIiIiIiCIeAyBEV6mGhgYpLCyU3bt2y8mTJ6Wpqcl+JHIFAgFpbGyUnTt3yoYNG/Rz+3w++1EiIiKigfP7/VJfXy+ni0/L3r17ZePGjbJmzRpZu3atbN26VQoKCqS6qrrXMggeKy8r19d/9NGaS6bjx49La2ub/WoiGioMgBBdpYqLi+XVV1+T73//+/LqK69KWVmZ/Ujkam9vl7Nnzsr3vvs9+eb/9015zXz+5qZm+1HqlT31bVe400qcB4aIaBhxNq4rBsoalZWVcmD/AXn55Zfln//5+/KNb/wveeJLT8ifffnP5H9/+3/L0796WgMhZefLpK2t7YLZ1HDCBiemtm/fLv/+w3+XL33pS/LEE0/o5cXSc8/9QWprazkzG9EQYwCE6CpVU1MrRUVFUlJSIm63W1yuyN6dUZhob2vXMzJnz56VVlPgiI2N1UR91C0IEhC3+CRa/EhRUeIzm9BgJL9JNDBRpvw7mImIrlwd5i9gV3r1/9B9tsfgNQ0ltO54/g/P6wmm//75f8tHH30oRw4flsKiQjl56qTs2LlDfvvb38oPfvADeeqpp2T/vv0aNOnC/IatLa1Seq7UvK5ITp8u1vJacXGRKbsV9piqq6vE7/OJr93HIAjREGIxlegqhCBAeVmZ1NbUSGxcnGRmZUpMTIz9aORCAaPafOaa2hqZMmWyTMybKB6vx36ULhvKV04ZaxAL2Sy2ERFdhtCDJiu+ww4nWXbs2CFHjh6R0aNHywMPPCB//dd/Lf/wD/+gl7idmpoqR48dlffff19Wf/ihVFRUdOkOgwBGa2urKafVSkcgINOmTZM//ZM/0WV873vf6zHdddddkpiUJG6vW6KiGPkiGioMgBBdhaqqquRsyVltKjnKZMJZWVlXRwBkgOW6ltYWKSs7r4WKhQsXytQpU1lIGCRuf8egJU/AXigRhQUOrYOZqD96+iaR6GqDVrWZmZly7cpr5RMPfEI++cmH5JMPPSQPP/ywPPzQw/LA/Q/I9ddfLzk5uVJpymO7du3SViNNjReOxYaxRKKjoyVvYp7cetutZlmftJbTQ0K5Ji4+LuJb9BINN+5hRFchBEBKSkqlobFR0tPTJTMjUzPYK5pTDuxneRBdYOrq6qSosMh81hiZOWOmjBk7xn6UBgIhJHegQzx+GZTk8rPQTxROHWYnHsxE/YOz/m3tfqmva5W62lZpbTEHRLrq5Obkyg033CCf/vSn5d5775XFixfJpPxJMn78eJk8ebIsWbJEbr/9dlm+fJkkJydLcVGRHDx4SOrq6+wlmG3B/CH4gYHb/QG/pKSm6OvHjh170YRWJR63214CEQ0VBkCIrkK1tXU6QBcG3krPSJeMjIyLBkB07Iz2dmlpadEBuZCam5v1tQFT6e0rZORoeYHXImE5WCbudx7HbTyG98P79gaPYx2cZeESy8dyeur7iueeP18mhw4fltzcXMnIzBgR3X7CpcPUevCLWaljQIl9l4nCCy3hBjNRP5ivzecPSH1tu5w4US+HD9fI2VKT57aavNOHIyMqxd3hu7aSfut4grnCINTwGj9hvKxcuVIWL16sJ1oSExM1MIF9IzomWrsdz1+wQObNmy9Z5jq65hYUHNfZ+RzIBxsaG+T06dM6W4zX65Wk5GSzDFa9iIYb90Kiq1BFRbmcP291BRk1apQkJpnM2dPzWBg1JmM+cuSIrFu3Tl555RV56aWX5P333peDBw5qZt2XIAiCEufOndPRzNHf9a0335K33npL1q9fr7PP+H1+qayolA8//FA+XP2hHDx4UN9X2QU6PdqgYGcKBT7z/LraOl2HD97/QGezee/d92TH9h3a9xaBlO4QMEEf2wMHDsj8+fMkLS3NfoQGqsP8MO2eaJNipN3rkfZo14DTlQ4DtfY0gGt/0lAM+oplDmaiyBYwx9aefvf+JCyLLkNUwEoI/3YEpM3kl6fd7bLpbK28uuO8vLrN5J1n6qTRPNbutr5ft8kXXdrcxqspqsMtroBL72t3mYTf01o6DQMMrp6ckizxCfE9BgTRRSUhPl7S09MkOSlZWnEyyJRrghEu+yU+n09cbpeWz+Ji47S1rtvcJqLh5X7yO08+aV8fcjgpiEqMnh00BxSXOcjzTOHIgfnNMZ3YhPETZPGSxTJhwgSJNxkIXT4ECJKTU2TGjBmyaOEibVYZGgBBwAIBki1btsh7772nQYZNmzbJ7l27Nehw6PAhHbwLwYakxERJSEi4aAsSdLfBcl5//XVdxtYtW2Xbtm2y/8AB/U3RJQXNPsvKyzUgsmvnLvF6vJKdlR0MUiDIgn3fCmJUymaznDfffFMHDtuwcaMONnZg/34NnBQXFevI6VgnNC114LUoYMSZgsn1q66X/Mn53H4GAAGqrdt2SFHRaZk9e7bMnT9fvNEx0mEK8prMc/qbAAX5C4uNV47BruS5nA8+SAb7DPCV/FvQwJm6c3DfGwyDvT1HtJBplvz+Dmls8smJyhY5eapBys61SV0NusS0S2tlmzQ1tEsMKs9xHrNPYvpxdHeIkpMnT8je3bs0337w04+YvDNdvJjdzVoshVlfWkPV19XLsWPHtexSbso/ixYtkgULFkhauin3mJdpOezceVmzZq2cO1cqkyZNkjtuv13HF+ltuYoH7GGDsiZm40E5F78VBq9FGZsiS1SHM+9WGKAShGhowBwUEABBFDTg772ZPEUOtBh47NOPyXXXXidf/rMvy3XXXaddN+jyVVdX6wCoOFCnpqRK6qjU4KBZuK+xoVF279ktf/zjH2W/yZwxMBcCJDiY+/w+aWqyusAkJyfJxz/+cbnnnntkyuQpEhPbtUsJAiTIBN59511TWd5qXu/R5SDzxrIQ1cT7Tps+XYMdO3fs0K45GOTrvvvuk5mzZmqp3G/WCWfGULjbuWOnvP3227peOm2cXchAamtrldjYOJk9a5bceNONOsgYBnjV9TbHDowBUl5Wrt1+UlJStEkp9c+pU6fkP3/0P/LRR1vkvvvvlzseuF/iNKCELGHg2YJTJwheWhe6aFTuA/jN7btwHxqNJMS4JTEpWmLMJWCL7jKFa+h182LcbDQVimpT4Who9+vy+joAK1puDJy1QnjfWPOhYmPdkpDolVhTubkk88FM/iutraaQXNtmtm/sI/ZD1sWQ6Pp7WF8irrvN7xFtfoTM1BizX5mKmfl+ECQKrot5nvV7WPfYi5H6Fp/UNLRJS5exDpxHL0fwnfotMdYjqeb7jzG/g6li6H3BNTE3cd25rdfNF95s1r+x0SfN5ndoM7fxKuvMvPlnv2bQ6aphhABHlLjMfUletzkmeyXabP+XrCAZKFNh+2mob5f6Nn9wGtWBCn3rnrYXa/917jPMfW7z3vHRbpMXxVx8/zWCN3VRHbrd1DWb/bfVJ34fHrXeI+TCCsaYNGS/h4H3iYszxx+z78ab9XebfSC4Ej0xHyzgN99/W0BqW9p1O/KbfRifodYck3ada5AD+2qktsonXo9b4s2ysxI9kpkVK+My42RcRpxkZsdJekqSedwlH73/nvz6qadk77698tIbL8nUKSY/jo5mAOQKVlRUZMpYr8hrr71m9sF6eeKJJ+RjH/uY5I7J1U0HZay9e/bK3/7fv5XjBQVy0003yTf+8i/FbbYHQPkFJ3qSkpK0xUmXfR5Xh2pjp161t/vkxIkC+dGPfizR5je6++67tTsURRYGQChsGAAJDwQV0B1l/Yb18uorr0pZeZkGJxBISExI1Ez53Pnz2noDB/mpU6fJ1776Vbn5lpslOzvbXoqpWDY2ypqP1sgLL7wgmzZv0sBKfn6+RsIRfMCRo6a6WoqLi/X5PrNfF5hl4pDyxS9+UR765CeDARDcV1lZIdu2bpN3331XtmzdYvL3KB30K9OsF1py+P0+7WaDQgUqhrNmz5ZPfvJBWbVqlT6OygqSBl5owDQA8p+/kvff3yK33H6bzFi+Urwxseb3irbSAAV0NBCr8oJKkFYncIfhN7U9v13Yc+5L9rokJy1Gxk1MlPT0WG0h6DLZA5qKQ08VKZ/5v6S4UY6WNMqZulZ9j1jfhc/tCQIgqFANDN6oQyspyVFus95Y/yTJHB2nj/bO6gpWXd0q2w7VSKOpBAa7o5kL53MPFqfyaP0eVvDJCWbgPq87yuzXXlk8M80UyN3SYSqATpDIaQ3gMrVet/0apwVN4Tnz/RfVmWNBq+63navdea0vrNADOJeXB9sLKpaTxyVKRmaseMyvgiVhLZzfGd07QO8zCWfrS883SsnpRimrbZUGU4HFtuO1m1PgM/qDq4VXDB79pnTZ1ht4zP4wPiVG8vKTZJTZ/j2mUnwpba1m+6lqkeLCBimpbBW/s/0MEJbiNxsgLrvuv9a6WvuvXjX3W+8Za/bVrORomTozVUalxphKnku34e7bMW52/h4BKSttllPnm+Ss2X5amvzB98Ab4rm45UUx0dwY9N/Dfi/8j6BX1ugYGWv23dHmOBSf6DGP9/YbdJi81C9V1W1yorxRystaNJjTYda1pd0vhY2tJi9rlsZ6BAYR4EeFN0qXm24qwGOTYyR/apLk58ZLSnKs7Ny8UV743e9kz57d8uprz5t8eYqONUFXHpRDfKaSvHPXTvn9738vG9ZvkAkTJ8pf/uVfyvz5881xNFk3KpS10CL2r/7qr+To0WPaOuS2W2+1NjgjIT7BHKsyZcyYMZKTM1rLX3Fxdt6B5wzCJk6XjwGQkYEBEAobBkDCA5kuAiB79+6VouIiPbOQMzpHW4mgP2t7mxUgwXgezz//vJwtKdG56R/91KMyZ84ceykihw8dlmeeeUZefPFFaWpu0lYdGBAsLy9Pu99gX8bgpQh6bN6yWTZv3iwnT57UwcK+9KUnOgMgBoIn69auk1dffVW2bt2qZ0Buu+02mTtnrs6xj5YnWF5lZZVs2rhR1q5dq609cDblq1/7mgZvnC5zDIAMDgRA/uM/n5a339kkK0zmnjJhmrg8XlPDSLXSAEV5rKzFqUDpdetCKzE+kwegjOc8lh7vkUlj42X67BSzjSXrWVEEQJzKd/f6DnKuZp9fjh+ulW2HquVYaZMuL6YPARDUe5zK8MBYb2Q2TRll1neMWf+5C9Ilf0qK3t87nL33SUlJs7z+4Vmprm3XCjkCAfgcmJVnMKHFDVi/h/Ue5pr+7zJfZrQnSjIzY+SeW8aY43K0RMW4gt8Rvk88EwEQbR1hOAGQPYerZMvuMnNMaTHHHgQprfv7zlpQ15fZC78M3miXTJ+YJIvnpMn4vETx9hAAQVwD9D6T2tsDcuR4jRzZXyPF55ulxvwe+Ga8ZgPFZ8Z26nxOa6NCGhwd5vewlmb9jwDU9NEJsnBJhowdl6itiS6lqaldzp5ulP17q+R4UaO0ozw1CKvo7B9YFD52cB+0b/s0AGLvv/qsDkmIcsmE7DhZtCJDxuQmmPX3iNc8x3mtQ59tf6cBs4Mf2lsje4/XyanyZmmqN9+//WCHeSM8F7cQABma38MsrMPaTtDZJG9KgsyYnCj54xIkNQ2B4N4OEh3SbL7/M2ebZM+pGnM8bdBgBwaTxu9Q1oHZP/wmX8NznZW2JJnlZkS7JS3DJdlplSZ/zpCy0ydk7Xtvyi5TqWYA5MqFMghOMqElKlp+vPraq1JRXiF3mLLKF77wBRk7Zoz1u5mfvK21TXbu3Cl/862/0fIWThxhQFUNFJvloGyWOmqUloFmzZold975MT3JpC1bsckMdPOmfmEAZGRgAITChgGQ8MA+hcFRa+tqNdiBOeURlEBXlShTcEWzXbTuQL/VZ597VgdFve3W2+RP/vRP5MYbb7SXIvLcc8/J008/rQOoLl++XL785S9rJo1xOYLdbczho7amRt599z35wx/+YDL5bdpF5otf/FIwAIL1weClaEny+htvaPedm2++WR+fmDdRW3eg6ScKBBj7A113fve738m6detlypQp8g//8A9aGMSMLwyADB4EQP71R3+Ql9/eIQsXL5Ko0abSjsHZ2kdbaSBM4S0q1mQtXcv9nQU683t3l5Pokll5cTJ/UZosGJdqKuSomJjnObWlbnTb87XLwX3V8tHuStljKoKqA9tHz68ZGlYv/tEev9meE+T6paNl4TRngN6eKlB2nhcVkJbmdiksbpL/eadYyqtapMXU0H1R1vaNLgWD+Sk6EKUxrFYc1k/RZirdep+Y44T5vcaPSZA/u2WijM6MEbfX5M+mkolnYHBG/R16WKEN+8vkva0lcq60Sap9HvPpenjSRVnPRV3WjUqudUv/7ztsZ37xRkfJwvwUuWFhhkyfmSKxAa9ZEpaFT4oELvuadV9ru1/WHyqXfbur5FhJi1S02s/Tbc5+rVa0h0Bwu8Z7BCTa/BZLcuNk5apsmTYxRVKine59F9+Gqlva5FhhnWzdUiY7zPbfanch6bAr7voO9se43E8RDDT0pIfvJ9ms04xxcXLTHTkyPT3JbE9uczixt5suQl/rk51bymXd8VrZV94sdTU+c3do97Hua935foNCvydr/TzmN5gyI0GunZIqi8cnSXpWjHncyWucdYbO/bexoU0KTjbI+8WVcvRYvVl/dIvBa0xZ1zwe0Kea13X7DhA0wqHW7WqTJO8BGTcuW9rLSuTghrVy/PgxBkCuYBh/7cyZs7J+3Tp57/33pbCwUFvFPvroo3LrrbcEyzOAk1EYtP2HP/yhXqILsdeUj1COCXQEpKGhUWpqqnUGvOnTpsvH7vyY3HP3PTJ/wXxrcxvETZ36jgGQkaGnnJWIrmIIcqBFRXp6umSPztZZYjDAqV8DEZVSaCq+CH4cOXpEAyFonYGBThvqO6dvgyOHj2h3FHSfQd/VmTNn6rIQiMAZCqQYU0DDgF9z586RFSuWa5cWZPKhMObIqcJTcuLkCZOxtOkc+qtWXWe1JElK1nXDsnCZkJhgCoPjtDCQk5Mj1Wa9zp8/pwEdGnyo3qIDh46eYUrkUQg6eEy1ESegBpDEbALtpvDWbioAXRLu0/s7Lkg+Uyj04ToC5IYWIS9RAMTD2K7b/aHL6nn5Q5esz4R1x2dAYAbrfvFk/5lKEW6b0rB2XUDy6efA+lvL6/n9+pus5Xa5z6x3m6YOaTPHgRbzBHynSLqmqCBiPYPrqg90gc/rpHak0OX3KVnfX4/r16dkvQbfF75DVC56WM2g0N8CsN5+k7p+3/1Zj8tNIZ8X62DWBeuh629S6HpeLJmnmeq4ve2Y3wiNDYKXTjLP6XK7j+nC9e0pdT6v1dxA1w/ru7eDd739EDZ8Bmv9e17u0CfzefF+5v2xDvgNsN7Wdxz61+0+8z3r57Nf47wW3wCWZwU/8Lh9GQJ3IabojfXI6DG5kpM71uR9SWZRzovoSoSZ6w4dPCTvvPO2vPHmG1Jsykco89x44w2yfPmyC8bxwImitFFp2tr1C5//gnz5iSfkT//0T+ULf/IFeexTj8mDDz4od338LlmydImcPHVSXn/tdflg9WoNqqCLDRENHbYAobBhC5DwQQEaZyrQ8gKjk6PVRX19g45sjeaaJSUl2j3m1KlCjXQvXbJUvvLVr8gDDzxgL0HkS1/8knZZmT1ntnz/n78vc+bOuWCmGC2om3353Plz8tGHH8kvfvELKSg4IZ///OeDLUCwHh+ax37966e11QECH7feeqtehs5c48B8+ZgVBl1qsN5//vWvyx133K79Y/F+bAEyOPBb/OBHv5bX39koy1askIzJU8Tl9ZraSJqpEQxsimGnsoDKgaOzWNiVc39qvEfyxsbJjNnJMn1CqnaBsSoiPb8SS24O+OTIAbO9mHTibJO5p+tzrXe/2DsPHjSuSDWb8tjx8bJofoZMn+R0IerpHIOzPn5pbW2TsyVN8urqs1Jd0yam/ij+KPs1eqa78/vrH+e9cGld12u62Cg9y4+rJic2+3aHZGXFyUM3j9OxTKyB+vBss4/bq2EtweK0ENh/tEq27j4v58znaPJjSRD6zN5Yz8P//f649lvhsDA9L0kWz0uXvPxEienALBvQuVC7Wq7XoM3UVPcdq5IjB2uk+Fyz1LZi7e3n4Cl6tT8r1QfBoo+1VhgfYkp2nCxenikTxiVKAvZF1dM2ZL24vqVNis7Uy97dVXKopNnqAhP8jAMTFVy/izBfS+g7RZsa/7icWLnuxtEyMTtJYqKtYWh73n9xX4d0RPnl8P5q2X2sVgrOO+NlOJ8XgawLv3vEHQaN3QIEi/SY/ybmx8ncySkyY3yipIxCFxjkT9a6dnJWwC/NzW1y5kyTbD9ZJYWnGqSh3nxpZpn46hrMy6ur26S5rSPYXSja32H2M5ckxLgkKdYjyUlumTfdLePHZsrBnVvlled+L4cPH5ZXX/uDTJ06mS1ArgAoc6AlbXlFuXYL3rZ9m3ZrOX++TCbn52vLgGuvvVamTZ9m8oGu+ypOLqGbcLkph2FGGLQm0Ps7Ato6BC0/nKn90dq2pKTULGulPP7443LH7XeIx2sNOE/hxRYgIwMDIBQ2DICEBzLaxsYmKSw8Jbt379YCVWlpqWa2eKylpVUaGuo1uIDMF2NtLF+2vEsABGfVH3vsMfngg/flxhtulB//+MeSkZnRGXyw82SMeu9yR0ltTa1OgYvnYbAvZOBOAATviy4yP/vZf+nAq+hCk5Obo7PX9JS5o7UHgjTny85rufOzn/usPPLIIzptMgMgg0cHQf3Rz+S9D9bILbfeJouuu1ViYuLMd46m37H2s/oHvyoGRez+61rjBYQwN60e+KgAeiQlNUZyx8bLqIw4HfMFleILt5BOAVNLO28q3iVnGqWmCq2E8AIrT8E7BStLdpcAfffeFthPWKQ3ym3WG+ufKOmZziCoPVRe7XVBBcrnb5e62jY5eqBKWpoxgKKuta63r/vgCf1mfWCtgnVbJB6xghsuzY8Tkz0yY2aaxCd4zfdvB0D0CdZ3Gvp7OAOkVpQ1yZkiczypbDG3Qt/AeWbfDKhia1dkM7JiJddUXtPSo8Vr7uu+yO7dOjDmSsX5Jt2GautapQ0RqBD6aQayXheD79FUjqzvHsyvg0FoU2NlwqRESR0VG5wporcACArqtdUtcuZ0o5yvbdGWFFi4s8r9/zUwm5JVaQ99Zef64gOYZP65nPUzP2BSilfyJmMQ14S+7b8un5Sfb5FzZxvN9tMqPjRHstca20P3AIg1bsrlfpLe6JsohMvSMqIlKyde0s3xBzMJdQmAOB8+ZP9t97VLfW27nCtp0O2/tcWayQldkU51+OTwwXopM4+3e6O0S1+G+Y1TzXeUkxIro5NjzXYao+PWZKYnyrr1a+WpXz4t+/btk1dfe06mTs1nAGSYIYCBbrmYDW/Xrl06Ix5azqKMkj8pX2eqW7JkibZaRStW/PahWye2X5RxcD/KLnqPXhrmfjym46gdOy6//d1vtTsyuit/6lOfkm/85Te0JS8DIOHHAMjIwAAIhQ0DIEMPezO6tZw4cUJef+01nQmmsLBIML0sMlZ0Z8nMzJSkpGTdF8+eOSO7du+SxYsWBwMgyKARJPnUpx7VMx1333W3/L9//H86gJcz9oeTy2P/RZeb2to6HQn9xz/6kSkgHL0gAPL2W2/Lz//n5xqQwYCqqOhdKmNHaxMM3nr/A/fL5z73OZ1DnwGQweMEQNau2yQPP/qIPPKFz+o2Iq5W8/sOrMsRftnoYAUqVNfjvVVBcipQqHA4lQvr8pIVqOBpanOpFRS8wKrE6i28GFdCK5G9b3b9Y97DFXDO2OMNnDcJeV9HSAXKWdfgpX4O6zP5QhczCHRx+l30ABU98/1bz7HXTy/NPfoia51Cfw9nkEzrf3vBUe3WZX/15/PqW9vBGmcB5odHBb67Hu4yrM/WYb53tEi4QH/W6VLMOjttZbqsd1+3oeBrzaW9vbR5OrelKHwWXHc+sLmIuuiPH8p+X6wf9l99Sed9ncwN86C1PXTbXvS51jE6dHvpScCFdcaC8cSQz2TovRe82F7+YDNvZg3ua1KXz9F7AOTC/RdlXL9UVrfLpuJ62bi2QkrL2iQq1i2pqV6ZmhsnOSaNGRUvY9Lj9XpMm8csOkre/2C1PPWrX8nevfvktdf+IFOm5msXUxoeKGug7HL2zFlZs2aNfPTRR3LGlJdSU1Nl0eJFcvNNN8vUqVMlKTnJlEk8przi1ToOyjXBoo1zCfbmo5fOLmOej9e0tDTr4PD/5//8Hyky5bV777tPvvvdf+wy3hqFDwMgIwP3LKIIgqlkKysrNdCAEcoxRe24cWPlY3d8TD716Kfk85//gnZP+fznH9dWFQhCYUyP/nJh3AiT23cEAuJrbzcZh6kAdYupoiCBcUDQPDQ9LV3mz52vgRYMGoZ+sBdLjzz8iNx9z92yYP4CnSefhg4aGySZgrumNpdJMQNKiSZ5fdHi7pY8vtguye2PFZc/2koBt1kPl52sdQotP/ak8/ke83okr1kWlmktW98Hl2b5Tuq+ToORsNzOdQlN1ufokkwFz0q4bT9P1x0J34W1/lhvN76jQUih33cwhdzv8XvEE3CJ26TO9cToMCZ1mHW177NCWrrm+ly8pksK+Z4vN7mRevhuL5n0tV6TPCa59RLr0pPgZ9OEGUqc3wmfx93zevX0ngNMWK7zO7v8MSbZ+0DI+nSm7uuN5Dxm9hndbtyS2OI1ySOJzTGS0BQniUgtsVZqjtX7Lp3wPPN6swxvu7OdxFjrbX8fVooJbk+d+6+zDWM/ttbzkvsvnuu8zlmO/b1g2cHtM5jsdRnkpL8Hjh1YD3ynOJ7gUvcB7KvYD+zvvrf9F4Efsw12tEdJoDkg8V6XTE6JkZVp8XJdVqLcPCtdbpqTKQunpkpuBj6jPl18ng5z6ZOAq9WkluBsN6GJwgtddwtPFcp7772nM+FhXI5J+ZPkvvvuk08++ElZuGihpGekm/KT2S7trrza6in0t0Isz2wzmhwhj+PkEU4ER3utkz04AYFWI3jv5qZmLTsR0dBgAIQogjQ0NGhGjQAI+p1Oypsk995zr07P9sijj+hgXMuWLZeZM2fpmBoITHSHgAZaX+DMA7rHlJ4rlfr6+q6ZsZOpm4Rx23w+n/ZpbWtv17tDYXkoICCzT0pO1ql2EYz52te+Jl//+tcvmr76ta9qsGbltSt18FUaWlHm98V0qFZB35rudCAJJb3uf7iv9zQQPS3vwjQUf9ay+ypk5wnquo5OGqw/XZb5Tbok+/7O1B3Wzzkr31fdl9n3NHh/YP3fu/D+BqF/Pb2PlRzOuoWuX6iuj+tSzdWe9sP+JGf7CF7afxeub/fUXz0tq+c0FH8Xvo+j6/ds6ek++3X4/pB/xrglOydO8qclydx5qbJ8RaasuiFbJkxMkpREr3aHcbutd3ag4os/XQwuaVhhnDS0oH3r7bc0IIGZ8O66625ZtWqVjl8WFxenrVHxeyP1+SfDj25vPihSoRE+utqg/KQtas2ysFykrlsIEQ0mBkCIIgj6k5aajPvUyZPasgNNNBcsWKADmCLTxtgb6elp2rQWwRK0EPH5LgyC4KxEQkKCZsaYIQazwQSfZ2feTgaOwMi5c+fk6NGjOqYIMvNQWAZGR09JTtFmonhpckqyTJs2TbvIXCxNnz5Du71kZWVrQIaGkimEmbKW39Si/C4M2ofrA0sjV8gO0mvqnZ5BH6SEZQ0OLKinNNz6u059fd5w6P55ekoWXPOZCnW7C0kGmKJ0WZ1LH2lCv9/eUk9MZRhj6cRHy+SsRFkyfZQsnD1KJk9JlpyceHO/Vzwul916xEloYdXZykT3V11S5/6LROGDMdSOHDkq27Zuk/Pnz+tJG0zdv2zZUhk3fpzExcdpuUY5eV1f8zzntzSX6AKD1rMYSwZlLJTJYmNQVrJmx2P8g2jo4DhLRBECQYrGpkbNSBHkQJPK4EBayEw7OqS1rVUz9WPHjklBQUGPARDIzc3VqXTRpWbzps1y+vRpXa4/YPV3RuADARcEPQ4ePKRjiVRUlEvAPB6ab6MlCZYzZswYXY9Tp07K/v0H5Py58zpeCQZmdeigY62t2vKksrJCKisqdXk0tFAmC5jStybz4w1GGtnwjV4s9Y0TuBiMNLgVKCwsNF0Juq/TlbJeg6Fvn02DHwiCaDK3+5Xs15tljWw9fc8X/+47oTWA21RiPZKbECszcpIkLzfBVGi99r5otbDRZJbV2cUGQRBreNfQ4AhuO4nCB4Oe7t2zR6fvRznohhtu0BNJOeZ6j12GL/IDoYyErixNjU06kww2H3OXfdkhbaasU1Ndo2WrzVs2S4Up86CsNH78eA2ABIMsRDToGAAhiiAet0cS4hMkMSlRgxWY6vbkyZNyrvSctDS16H1nis/Izh07dURzTJHrtNjo3txy5syZOvNKWVmZvPLKK/LO2+9o0KSmpkZaWls00FJUWChbNm/WaWtPnz6jwYtgGdFeHNYJLTnyJ+frSOmYCWbNRx/JunXrpOB4gc5Go31em5ulob5BCwN79+yTbVu2y+HDR6Td5wsukgYZfiOTWMwiuroN5j7M48HgQEvKngextGvBPeZszO2G26GDB2XP3r3S1NSsgY8ZM2Zoi1iMc4ayysUSurHghA6CGxrgMLdRnkEZDCedGpuatJyD56L8hO7Fe/bukffefU/efvttLQvl5+fL3HlzOQMM0RBzP/mdJ5+0rw85RD5R2cKBwezZOmCQXqcRARXfl19+WSaMnyCLlyzWynV8fLz9KPUb9ivdj6wBtZABl5eVy549e7SVRX1dvWa69Q31cvTIUdm8ebOsXr1aCszvkZWZJaUlpdo6Y+nSpZrRO3CmA8GPI0eO6EjoZ0vOagAFrTNwP1qPbNmyRZeFQAjeF6Nnw6JFi7QbS2ZGpmbi6C+LwgCmy0Xf2mPHj+mI6ug6U1NVI1UVlTpzDbaRDz/8UN59Y7Xs3npAOnwumbN0nnhjo82nM58PMVt8XlMuwCcOTSwqXB4EsrZv2ypnik7JnNkzZMH8eRKDs07mscFINEA9fakDSRTRnFYDXVoZ9CtZy6GhgC+2+5dr3YdZufbs2S3nzp+TRx95RFsCdE6FTOGEGQs/WvOR1NfXaVfcmNhYKTVlFXRTwax6PaXi4tNSXV1jXm2NoYbyEMpWmzZtki1bt8ixo8e07IOyU6FZDrrYbNmyWd568y0tF5dXlMv0adMFA8TfdNNNLBsPI9RTq6ur9CQhxmJBd220yqHIwmlwKWw4De7QwU6MOg6m4MMYIGvXrpXf/va3JmO2AhMIQKDfKp6I6xiDIzsrW6e2ffrpp2Xu3Lk66OgnPvEJXR6ge8uHqz/UuenRwgNjgSSb56NbDQY1RfASl0lJiZpx44wFpoorO18mn//C5+XBBx+UmTNmWgtzWRVutDxBS5IPVq+W2toa7e8aF2eNoh7oCOgxAtfjPckyLidfVt2wSj7x+fskITFe3OZQ4baPVj1N8sDmbJcHBe4f//jHsn7denn44Yd16mKdBpeIiMLqgw8+kF/+6ld64uLVV17R8buiOQ3usPje974nzzzzjI6Rhi4wKCdFRfVewvB6PTJlyhS55+57ZMWKFZKWniYlZ0vk9Tdel3fffVdKS0vF7XJLlN0iCDP2oWzm1IFyx+TKww89LDfceINWtjnd//DhNLgjA+sMRBFAW0qa5Pa4ZFTaKJk3f55O14YgEzJwTE+LsTzQdQWtPa5fdb3OCIMMG4OjZmVnaWAkFM5ALFi4QB566CH55EOflGXLlpn74qS2pkbH50AzzrFjx8i1K6+V61atkunTp+sy0OLDSUEdIqkpqTJ//nzNTD754IOyfNlyyczMlNbWNl23uto6XWZOTo4sXbZIbr5lpSxZOlcHTiUiIiIaKjgdjJO0KPuMHj1aW8j6TGUYY5FVlJdfIlXoSSK0tkVgA12fsBwEM8aNHafX0e3FeT5a0qKlCFoX3HPvPfL45x7XgVbHjRungRK7YVD/EhFdEluAUNiwBcjQcXZihBwwSCkG3kJmjC4v6FqCZpeY8hZn+NHNBcEK9GlF31S0AMjIzJAVy1fI7DmzrQWFQEsQdFdBVxjM9IJBuzClbXIyZnKZLpMn5+s4Hzt27pBf/OIX2gLkT7/4Rbn3nnt07A8VEgtBAaGkpFROFBRoCxWMQ9La3KJnULwxMRqQyZswQcbmjpGs7GzpiPXq8QLNstEKBNgCZODYAoSI6MrAFiDDD61acbJozZo1sn//fqmqrLIfuTS02Mg25ZXFixfL1GlTtdVIiynXoOx1+PBhHVAVA8a3trTq8z2mvIPp/REgwW89ceJEiY+Lv8iYMf0QUuaiy8MWICMDAyAUNgyADBGzBzu7sdXqokPPQKAryaCyFq39I62xfEQza4zlg+AIft/XX39dz1488cQTcuONN2oLjyD79VhTFDR07nz7PvtOe/aQDv0cCLIAjhBIwb7pJjEAMnAMgBARXRkYACG6MjAAMjKwzkB0tYsyOzJaSLjQ7cQKgqBFxqBD8MFwRbk0yIEzHngvNBHFYKsY5Ovs2RI9C4LZXnx+azT0IPsqwhpYV70CeodJbuszIKiCAU8R9egwCZPgIgCiLw9ZHBERERER0eVgAIQoUnQPDuD2AJLf59cxOdCdBkEOvR8Qu9BgCyIXHdqFBU08MUUuAh7owjIxb6KkpmLgMDzZek2X1BfO+zm63yYiIiIiIroMDIAQRRI7eDEYamprpOB4gew/sF8Kiwp1HntMr+ukc6WlsnHjJnnllVdk9YerpcTczs7O0nnsMXhYbGxs34MdPTGvdeIlOFANZFFEREREREQMgBBFKid60M+Ewbs2b94sL774orz4wos6HW5oeuGFF+TpX/1Kfvu738quXbt1BpglS5bIzFkzdYDUC1p/XI6Q1+EgxQAIERERERENFAMgRNSjmpoa2bFjh/z2md/KP/7jP8o3v/lN+cY3vhFM3/rWt+TFl16U48ePS0pyslx77Up54BOfkHnz5ktiUpK9lEHECAgREREREQ0AAyBEkSCkxUQwDRBmcFm4aKHO1jN58mRJSEyUuPj4YEKQA3PY33vvvfL1v/i6fOWrX5Fly5ZKbGzMhW8/gG45XT6OfcOZESY0ERERERER9YYBECLqUW5urtx5553yrb/5lvznj/5Tfvf738qzz/4+mH77u2fkhz/8ofzlN/5S7vjYHTIpb5LExMTYg6PaEJhgcIKIiIiIiK4ADIAQUY/i4+Nl3LhxsmDBAm0Fctutt8ntt98eTLiNudFnz5otOaNzrEFPnWBHSAxkoKLsIMogLpKIiIiIiEYgBkAobNAywOPx6GUgENApU+kqZwcnuqQhoMGPIVr2SIf90eViVkBENFxwDOZxmOhK0CF+v591lAjHoy2FDYIfiQmJWuFqa20TX7vPfoSuShfLG5hnXBU0czf/UOi+oOsSERGFjdfrNcfhaD0ua2JGSjQssP+1NLfoidooUz5i2SgyMQBCYRMdHS1paWla4WpqbpKW1hb7EboqoDwWmqB7voDbzCuuCi0tLdLW1iZut1unMGYmT0Q0PNCFNDExUStfjY2N4vf57UeIKJwQ+MAsiCgRJcTHW927KeIwAEJhk5SUJFOnTtWWICUlJVJVVWU/QlcFJ7gRmqD7bbqioYDd3NwsZefLpKmpSVJSUnSsFwRCiIgo/FJHpUpWVpY2vS8qLpKa2lrxmetEFF4+n09OnDihJ4jiExIkLj7OfoQiCQMgFDaj0kbJ0qVLJSMzQyorKqWiooIZPA0OBl/6zAmAFBYVSm1dnWRkZEjepDwNTBIRUfhlpGfIhPETtIXssaPHpKamWgIsHxGFFVp/4MTQ8ePHxRsdLdnZWZKSnGI/SpGEARAKm1Gpo2Tx4sUyfvx4qTaZ+4mCE3KutNR+lOgSQoMcoa1OGPy4LMjga2tr5dix41rAnjx5smRnZXMAPiKiYZKckiIT8/Ikz6R9+/ebstE5aW9vtx8lonBoqG+QI4ePSEFBgXZJy80dI8nJyfajFElY4qWwwbSq+fn5kj8pXxoaGmTL1i2yefNmbWaGs9JEl8SAx4Ag+IHWH2jeeeJEgYwePVqnMna53RwDhIgozJwhtXD8HTd+nNx1911y6NBhOWQqYWgpiy4xRDT00PUFLWNfeeUVKS0tldTUVMnKzJQYjgESkdxPfufJJ+3rQw51XBTAtbJrDvYuVxQrviMIzjBjMKH4hHgdAwQHGARCMDBqZmaWuHWKXPPE0EpuD5sHthndbLAZ4YkXq7dx07qyXex36w1/006h3x++l56+z27fV11dnezevVt++dQvpampWa655hpZee21GpxkAISIKBxcEtWBMZeipN3dIQGXKRub8jAqWilpo2Tn7v1y/OQpLTONGztGEuzZ84ion7qXHUN3J1w3qaioSD788EN5/4P3Zfr06XLttSu1hWxSYpLuiy432wxEEgZAKGyQgeMggtlgOgIdGvwoLT2nwRBUwFJHpYjX45WAP9B5oLEPTKFJCwImWZf2/XT16c/vxt+7k/M9OIdQ3O7hcKpnEM1jVdXVsmXrVvnNM7+R4wXH5brrrpXrr79BxnMAVCKi8OnAqRsrM/O7TZlYr5kCuTkOx8TESrQ3TvYfOCAnTxSIr7VVxoxBECRBy09EdJm6lYv0ZkjdE3WJI0eOyrvvvCObNm0y9ZEEPTk0f958GT06R8cCCThnXbsti65eUaYiGrafM2AqvWhipAM7mQ3ObSq5qOzSyIKBT8+dK5UdO3bKli1bpLi4SCZMmCBLly2V2bNm25l9ojQ0NkhiYoIGTLDdYF7uOD1TbRaixyHzZwdSEFjrfmDSm2bzxuuTkpP0PqKIZG/7zjbv7Ao41p4vOy8lJaVy6NAhs8/tkKNHj+hZjbvvvlsWzF+gLbCAwWgionAwhZgOk8w/f1RnAAQQsC4tOS8vvfyy7Ny+TTyuKFmyZImWjzB+GsZSw6wUXq/XfsXlQ3mprrbOKjeNAAgcJackj5gAEn/fbroVbVDWaTd1CoyxgwFPDx8+JJs2bpIDBw/qfrhs+XINgORNnCgJiYlapsLzPTxRFFEYAKGwcTY0HHyQyZ8+fVqb42/btlUKC4tMRWyUzJwxU6bPmKGVsvr6ep05Jj4uTg9UDQ2NkpycpNFap7KG5VRXY7R0u2VRCOdWbGyMpKVblbyRwjq7pFcsYdvLKezMb6shD+uf7gdIKPy0tLTIqVMn5ejRo2YfK5TW1lYdZO/222+X/PzJkjZqlAYIdTHd9h8iIgofPQKb4zDKNadOnZK169bqSaL6+gaZnJ8v06ZPk7Fjxsooc9xGV+L+VuixfMzCN1LK32hRjNnORkpLR/6+3aBsFFK+wTWMhYY6RmVlhWzcsFFbomOw0/nz58v1N9wgkyZNktiYGPNcU5Yy3yOqyui1ECxb01WPARAKC2xkoQcgBDHa29o0eFFUXCzbt2+Tffv2SXl5uT6GA1FsbJxm8DioIVmvtyp30OWAZrat7ssPFfrYSIDPH2UO1hT5dNvGP3sbdw7pKAShdVRTY6MGQ/In5+uZxLlz58nMmTPF43FbZ4jsXWOk7SNERFcKHH1xDEZC/o1yMiplBw8dlN27dsuuXbvE5/dZ46jFx2tXGRzDu5d1iKgrp4zkwD6Dk0N19XVaRkL9YsGChbJ06VItG2Fw+Bi0PEdd1bzQ4/FowoQNWraOcjEMEgEYAKFhg4MSKmBo3VFWViYnTp7QDP908WnN9MvLyq3txTwHlblAR0Bc5sCDS6eg0BMWCGiki4uL0zMi6E6WNipNxk8YL1OmTJGJE/N0ZPOYmJgLMvCL7U9ERBR+KPfgLDXKRZiW8+TJk1JUXKRjp9XU1EhTkxXcJqJLQ+sNtBZJTEySlORkyc7OlsmmXDR27BiZnD9ZcnNz9eSr05Ik2OrD1Cn8pq6KqgVbgEQOBkDoioAzG1WVVZqpV1ZW6gwxVVVVVuDDZPB4HK080CLECX7grzs9OPH4RCMcMvDEhETJys6ScWPHSWZWpiQlJUl0dIzuQ16PR58XGkhkAISI6MqCMhC6LjY0NkpFRbmcP3deys0lAiMYv4DHbaLehdYLcBI1JjbGlIeSJTMjQ3LHjJHMzAwdZBgnhtwuO/jhBBbtE6q47eLJ1YjCAAgNHxyTzHagzcnMJbrEtJiMHk3TWlqadVtB0MNvDjyBgF+vR6HPKypt9iK6w+GJLUBopMP+gSAIWoKgxQfGwcF+gWMwCszWGQ5cxwUL0EREVzIct9EEv6m5SQeEb2tvE7/PlIt4/CbqHeoa1n9aDrJOAnm1OxkmVsCl1kXsp0P3/Qq3WLOILAyA0PCxD0a4ggtsiYiy4sCD2zrAF+4ztzvsbi8IloTqKdjBKC2NBL0VfPFY6KPOc4OZvLPDObeJiIiIIpBTV8AlykNWvcJKwcfsx2lkYACEho11EApoyw4ceXCpg57aAw750QIEByjryXpgwuaKS+cQdcHBytzkAYxGAt1vQmBfceBaaObuXGLP0Ev7PiIiIqJI1r1egPJP9+qvU0aikYEBEBp2CHHgsKOVNJdLW3Dgel8qaN0PakQjRV8DGM4h3gl+6PUe9pu+Lo+IiIjoaoOyj1PWwf+4jhOv3UtELA9Fvv5NIk40iJyYqxN9xYGnrwcf57mX8xqika77fsN9h4iIiCJZj2WdbmUhlodGBrYAISKKYHqAx2HeDjASERERjXQoH7FcNDKxBQgRUQRD5u60riIiIiIiBj9GMgZAiIiIiIiIiCjiMQBCRERERERERBGPARAiIiIiIiIiingMgBARERERERFRxGMAhIiIiIiIiIgiHgMgRERERERERBTxGAAhIiIiIiIioojHAAgRERERERERRTwGQIiIiIiIiIgo4jEAQkREREREREQRjwEQIiIiIiIiIop4DIAQERERERERUcRjAISIiIiIiIiIIh4DIEREREREREQU8RgAISIiIiIiIqKIxwAIEREREREREUU8BkCIiIiIiIiIKOIxAEJEREREREREEY8BECIiIiIiIiKKeAyAEBEREREREVHEYwCEiIiIiIiIiCIeAyBEREREREREFPEYACEiIiIiIiKiiMcACBERERERERFFPAZAiIiIiIiIiCjiMQBCRERERERERBGPARAiIiIiomHSgdSB/4noShHoCIg/4LdvUSRhAISIiIiIaLgw+EF05eFuGbEYACEiIiIiIiKiiMcACBERERERERFFPAZAiIiIiIiIiCjiMQBCRERERERERBGPARAiIiIiIiIiingMgBARERERERFRxGMAhIiIiIiIiEasqKgoTRT5ojoC4Zt8PBDoEJ/PJwG/H1uZuN0ucz1gP0qEbSQgfrN9IOF6h9k8kYjoQqEZte4l9r7icrmCGbnb4xaP29Plud0zeO5jRETDxzkGdz82h3LKRqHlIyLqO6dchOR2uzWhvOQ85lw6+5buZ+bP7XLrbYocDIDQsMPBxm8OMjjQ1NXWSklJiRQVF0t9XZ00NjZKu6+dGT1RNz1lyDicu8z+lJiYKAkmeb1emTQpTyZMmCDx8fFijvf6PJc59uo+hX/ct4iIhpVzHHYqYd2hfFReXi5nzpyR0tJSqaqukqamJh6/iYxL7QfYr1ymzBQbGyset1sSkxIlOztbxo0bJ5mZmRKFP5dLPB6PJtRVzUIZAIlgDIDQsMPZDGTqp06dkqNHj0pxcbFm7JWVldLU3Gwe9+E4REQheiood3QEzP0uDXzEx8VJckqKZvBjxuRKfv5kyZ80STN7lykA4LkIiLAATUQ0vC4WAEFZ6PTp03L02FEpLCySkrNntWyEk0PNLS08fhMZobsNghldmJtWgMMkDYS4JCkpSctCY8aMkfHjx8uE8RNk7NixkpaWZpWPAlbdlAGQyMUACA2b9vZ2qaqqkpMnT8rBQwc1CFJdXa3bRFx8nLS2tGrmzuydqHdOdm/tLZ2ZP665PR495mZkZMjUadNk9uzZ2iIkLi7OZOpW08+uryIionDqHgBpbW2Vc+fOybFjx+TAgQNSVFyk5Wc8HlrBY/mIyCq/6L6gdYaQvaKHHQSP4yQRAiHYz7A/5U2aJDNnzpSpU6bI6JwcPYGEfY0BkMjFAAgNC267M+4AAEbPSURBVGwHZWVlsn//flm/Yb026UxISNCz1WPHjNXobExsjHg91kGKiC4hWAIwx9qOgLS1tUldXZ2Ul1fImTOnpaqySs9s4GzH9devksmTJ0tq6iht7onCNwMgRETDI7QlB04OFRYWytZtW2X37t167E5JSZHxE8ZLbm6upKakSnRMtB67Q4MhRCORE/DALqTXQ4MgelMf0DIS9hfcRrd7lI9OnTopx48d16empafJ1KnTZMWKFTLBlJPQXQYYAIlMDIBQ2OHgU1FRoRn7mrVrZN++fTJu3Hi57rrrZMnSJTLeXEcfPbQC6d4clIh6YQdBcNYCyefzy/nz53Vcnf1mP9u6dascO35cli1bKnfddZfMnjVbkpOT9aWhBXAiIgof5/iL4zZafrzx5huyfv0GaWxskIULF8qqVaskPz9fMjMyJT4hXoMfRGT0o5qA3Q2tzCsrK2Tv3r2ybds2rYvghOvtt90uK1eu1GAjAo3AAEjkcT/5nSeftK8POWxw2pwIV0zF1uXqHGmXRgb83ujTunPnTlmzZo2cPHlKxyZ44P775dprV8q48eM06uqN9jL4QdRP2HeQkWOE88TEJMnJGS3Zo7MlLj5eysvKZO+evXodTT0zMzLsVxER0XBqaWmR999/X15/7XUtL992623y6KcelRkzZkh6erq2jNXKGItHRP2G3QflI7Q8R5fg7KxsHY+wpKRUTp46JYnmfrS6wolYnSkmii3RIw0DIBRWaAGEwU6t4MdJHYDoEw9+QubOm6uDD6FfnvZxZfCDaMBCAyHxcfGSnJxkMvZEqayq1MH0YqKjdeCvhMQEHouJiIZRY1OTHD9+XH73u99poGPVdavkpptukomTJkpMTIwex7VsxOIR0YA55SO0poqJjtGyEeqox44fk5qaGq2TIGEGPQZAIg9/UQobnNk4W3JWDy4nT53UqTrR5WX+/Pna987jZZNOoqGCppy5ObmyfPlyueP2O3REdDT9xAB7KAQw6EhENHwwu8uGjRuk+HSxLFiwQFZdv0om5k20xvrg8ZloyGBa3ClTp8iyZctkypQpOgbPiRMnzD5ZJX6f334WRRIGQChsGhoa5PDhwzrVbVtrm0ybNk2WLl2qYxCgAkZEQ0uDILm5cs3KayQvL0/OnT8nO3ftkubmZh04lYiIwk+b3589q61jU1NT9cQQBqrGbF2YrpyIhg6CjNjvpk2fJjfecKNOwHCu9JxO1oCTtxR5WOuksKmvr5dDBw/JyRMndUrOefPnaaRVIX93EhENGbT8QN/WqVOmal/y48eOyeni0zzLQUQ0TDA2Gs4679mzR4MfOTk54vVGS1QUWuexqE4UDhhn57pV12lrkPqGBiktKdGTtxR5eFSlsEGfOsz8gsvMrEztW9cjBkIGjt8fXQSaUmOsnbHjMPZHolRUVugsMTgDSURE4YfZujD4IoIdM2fOkrRRaTobHsbKQ6L+wdhWIzVvw2fn0F6XD61BcIKorbVVW8nW1tbaj1AkYQCEwgZR1IKCAp3jPjMzU89CE1F4IQASGxNrTacYF6cts9DME4N/ERFR+NXW1UlFebl2B8bg8BiTwOVmEX0wjOwBvhkBuVwIgEyYOEHLSigfNbc0249QJOHRlcKmtbVVykwGj2g8gh+YfoqIws+Z/g3TTWMu/OrqagZAiIiGSUtzs54kQgAE46JFR6P7C1t+EIUb9sHs7GxtKYvxCtvb2u1HKJIwAEJhgylwGxsbNRqPKd1wcCGi4eH2uHUMEAQkMQgqp8ElIhoeaBnb2tamQQ+vx8NpN4mGCbqh4QSR2+yHODHkD7B7cCTiEZbCBgeStrZWVrSIiIiIbAhE4yQRERENPQZAiIiIiIiIiCjiMQBCRERERERERBGPARAiIiIiIiIiingMgBAREREREfWB3x/QgWuRMH5L2HAIPaJBwQAIERERERFFJGfwfVw6qb8woH9dXZ2cLj6tqaa6xn6kb/T9A/1fh8H4DEQjHQMgREREREQUkQKBDm2p4ff5xdfus5LPpy05Ljdh2vh169bKt//3/5b//X/+j7zzzjv2u1waghZNjU3S0Ngg7W3t9r3W+vUlQVtbm64DLnt6DhIR9Y4BECIiIiIiiigBf0Aa6htk27ZtsmHDhh7S+h7T9u3b5URBgTQ1NkpUlKksuaKCCerr6uXcuXNSUVEhTc3Net+lIGhx8MBB+bM/+zP58hNflrfefst+RMx7RPUpBTo65LnnnpO/+Iu/kG9/+9uydesWaW9vu+B5RNQ7BkCIiIiIiCiioJVHWVmZBg1+9rP/lp/89Cfyk5+YZC5//OMfXzT95je/lnXr10l1dbW22ugeXEA3GL9ZNi77Cq1PsLxNmzbJ2rVrpbCwyH4EAZBLJ5EO/TwnT56SrVu3yq5du6Sqqspev+7PJaLeMABCdJVDBoyzEUePHpU9e/bIKZM5DnRQLjTz3Ldvn3zwwQeybdt2aWxoHNb+pg0NDbJ//357fbZp008iIiIamVAmaW5qloMHD8qWLVvk2LFj9iOd/AG/1DfUy44dO2Tjxo2yfv0GWb9hvaxbt04TAhGh11HGeO2112T16tVy+PBh7apyOUGOvoiOjtbL5qYmqa6qlsrKSqmoQKq4ZEKrE7T4wDJiY2ODy7oYlAURdMF3hLITxixBSxSikY4BEKKrHM4IFBQUyG9+/Rv5j3//D3njzTekzWSQ/Q1YaKHCZJD/8R//KY8//rj83d/9nRQWFupo593hvfHclpaWAQddLgbrU1RULD/72c/ki3/6RfnXf/lXqa+vtx8lIiKikQZljvPnz8vP//vnWk558cUX7Uc6ud1uSU5Olrlz5si1K1fKDTfccEG6/vrrNV177bUyY8YMSUpKkoSEBE1NTU12gKIzCIHbCKqg/GMKKPY7XR6cxDl58qQGZZzgy5o1l04fffSRKQ8VSWtrq1lKlDXeR/dVCGkBogGiAwflZ//1M/nH//eP8tGaj3T9iUY6BkCIrnJOAOSQnq1olNTUURIbEyv97QeqhYpz5zSTrK2tk/LyMjl67Kg0NjZpyxAH3vfMmTPy9ttvm4x5jZw9e9Z+ZPAg+NHa2mYKIY1aYEjPSJdrTCHmUmc9iIiIKLKhXFBSWiJJiUkyc+ZM+95OXq9Xxo0bJ3/7nb+V7//Lv8i//uu/yr/92w/kBz/4obn8N004qfL9f/6+/N3f/b3cfNPNMn78eE3xcfHy2quvyZ//+Z/Ln/7pnwbTV7/6VXn6V0/LiRMn+t0aFa1aX/7jy/LnX/+6/OVffkP+6q++KX/91/+/S6bvfOc7svqD1XLm9Blpbm7Sz6dlPScI0q3YV1NbIydPnZTi4mJJS0+T8ePGS2pKqv0o0cjFAAjRVQxNM1taWjVYgTMVsbExkpKS3O/gB+CMyejRo2XOnNmyaNEimTd3nkybOk3i4uKCA4ChxQeCLr/4xS/k97//vezcuXPIWmUg0IKzPA0NjWa9cmTFihUSExNjP0pEREQjCU7UoOvviZMnpLGxUXJzc2XK5Cn2o51QFvJ4PJKVmSU5plwTmnJzcs1ljozOGa1lnvT0dDlnyhoej1cyMzMl1pR5cGJn+7btsnnT5mDaumWrnhSqra3VLjb9gfVC8CIuLlYTurOgXNNbwnNizWWH+dNuOWj80RHQgVEvBt1fiouKtYyYlpYmo0aN0mURjXQMgBBdxdrbfVJTUyPlFRXICSUlJVVSU63oPvJEtKC43ATxCfFy8823aBeY++6/X8ZPGC8x0dHBwAqCEnjf3bt3y9Gjx6SivGJIxuXA+rS1tkpJSakGXXJzcmTq1ClaoCEiIguO3E4iinSYxhaVepx8wcmfzKxMyc7Oth+9kNvj7jl5PVqeQDADs78cOXJYxozJlfnz58vs2bNl4cKF2k3mpptuCiZ0l5k1a7akmLKWy+W23+HyxMfHy4rlK7RFyRe/+EX5/Oe/YNLne02PP/55+eznPiuLFi7SQEaUK0o6AnbZzV5ud/X1Dfo9IVCTkZEhiYmJ+rmJRjoGQIiuYm1trVJRXi7nSktNpuaRrKwsSU/PsB8dWFF4yeLFcv9998kNJrNHponMtjsEQvx+n14fSKuTi0HGjjFGiouKTEYfkAkTJmjG73Lx0EVE5Ogwh18kujLgDD2Sc1KBBle7r13H48DgpiiHpI1K03LKxSBE4AQIQxP+R5Bg3/798sc//lFbTMyZPUeWLl0qCxbMl9vvuEO+9MSX5Ctf+YomTGH7pS99SW679VZtdYJWHP2B1hwLFy2URx99VB5++BF56KGHTHr4Eukh+cQnPiHz5s2TUWlWOQjbF8pePe36OEHWUF+vLWQSExI1QBQXj5a8LD8RcS8guoqh1UVZeZmUlJbquBg5OTmSmWEFQDRTtBMgo8TAWThbgu4qdbV1etnc3DmAaehrXG6XRCGjRMHaLsRhIFTn9ejDqss2D/n8Pl02zqIgIWiB27i03qNZCymXKgziOVg+lo3XYL0wx/6pU6ckJjZGps+YzgLlIDPFJ/O/U3xyLokobEJ3QbqqoZqNsbIam9ukvqHVXLabyrq51/y+yLlCU1fYAOwz+SZfdSrsdCEUAVD2QcsGzPyCYAK6d3i8PbcMRTmlAz1G0FqiW2puatEZ5t599129nDgxT+YvmG8uJ0paerpMmjRJli1bJiuuWSHLly/XtGTJEr0/KTGx38GEgFmhFlP2wiww5WVlOp1tn1JllSkTNWlwzQl7XOzQ0dBQrwEdfFcYPw1joaArMxExAEJ0VUO3kDNnzuqo4Bi7I8Nk2NoFBjminSsio0RgAVPZbtiwQX73u9/JD3/4Q/nud78r//mfP5K33npLCk8V6rIceM37738gP/3pT+X5518wGW+1WYZfjh8vkNdee13++79/Lr/97W81MIFMedvWbToeyA9+8AP53ne/p4UJTLmGZf/P//yPvP32OzpoV3vbhTPJOLCORYVF8rpZPgYYe8e8Bpk95vDH2Z5xY8dpH180fWUQZIDsbcMvbvF1eCUg0eZH90pUwCNRHW6TzFMGmK506Dc9mKkTvlxkrRdLjtDnXShgHh7M1HfOOoW+qKf7rkbO5+gphfezBUyNuMNUnqI8UeKyk99Uef1mb/SLz/xmJrnMrahAt2S2N1OhC0RZ6x3VYZLZjzvM9YBJVkCTLl/37QHJge+0L/dZeW1VdavsOl4vH+6oknXbq+VIUYP4o81va35PfxSS+Y3N7+gziwiY3y4gHvOLm0o9fn+zOL8b17EdBNiypwdodYoB2s+cxUCgzZIQnyAJiQnicV8YAEHwA2UjjF/WU9q6dYu88MLzsn79OklJSZEHHrhfFixYoOUo/YXNc/B6dJNBgMUb7dWkJ39CXWaeh/FLXnjhBR1Q9S/+4i/kf/2vb1wy/X//3/+Sb33rW/LHl/+o43ogRIaWv7ouzuo462FuI/iBE2Q4kTRxwkSZOmWqDuyKAN2lEmaXQUKQ6HI/G9HVwP3kd5580r4+5FBGDDYJNDssDiysyIwcx48fl5dfflkmjJ8gi5cs1u4M6AdJ/YeML8F8hzhbgbMUs+fMlozMDJP3RVmBAvMcDOKFadaee/ZZna0FwYq9e/bKkSNHpKiwUI4cPizFp09LUlKy+U3G63KR8T3zzDPy4erV4jOZJ/rBYiq5w4cP6TIwZRtejyaoOBuB2WfOnzsvBccL9P7s7NGmwOCWgoITOm1bXV2tjEodpaOQY2q5nqB1yfGC41oo2Ltvr45ncu1115n3TdJuL+iTO236NImJjTXPxicMyfTpsmEMl61bd0hR0Wlt8rtg3nyJicbgaDg+D8Jx+Qr/bQY75+ksEOPyUh+++3MuXJvBrvT0fXHOM0MvB3llhs2V8zn0/K391eJ4iwAzykfW/mf+mYqwblM9bgimhoxNxnqqcoJcuOjpFXQpF/vWevpGu9/n7L9W64+mJr+UVLXJ0UMNUni8SUpPt0nZuRZJTfFKdIzLVKjNa+1FIICFKwUnT8juPbt0wO9HHn1U8zxU6F32cSX03UY6VBvwvaD8iJYYmL4WZR90C+kLBATQUvWdd97Rbi8HDhzQLjT33HOP3HjjjTImd4zWTVB+efXVV+Wll16S9957Tz744INgWr9hvRw9elSSk5K0S8oiU0a61I+kLXbLyrT8hG4paCVbV1engYo+papqqaquklazHNSfxo4dq+OR4PKCcdGwbZk/lLcmTJwgc+fOlUn5+ToAKo4rl0xYhH3dWd5IgeNwtfmet23bbvZBt0ydNlVbz1BkieroeupqSFmZvE8CaG5vdiq322Wud06rSZENrQEe+/Rjct2118mX/+zLcp2p3GJQJuo/ZORoRokuIxjYCpkdmjjiAN5Q3yDFp4tl06bNsuajj2Tfvn2636UkJ2vBAWc1sPu3m8w02mSKn/3sZ+Sxxx6zlxuQP/vyl3WKW5wN+efvf1/yTea5c+cOnYINA4/hzAKmgWtqbNKmomPHjNE+uGitcd9990teXp4d9HrJFFZc8sAnPiEf+9gdMnXqVH2PUGh9UnK2RN56+y0tbCCTvv/+B3SAMOS7yPTR1xbz8zsZsmbRIyhTHmxovfOfP/qZrF23SR5++GHz+zysZ9IkCt2h+jeyvQPjxSQme4LjxnTGU0KzG6uQ5YjSip79fFzaTw19DnTNsKxbXeqIUYHgczqf27kwnCFHXtRQ166X1ht0PrM/UBhNSYjVS+tNQs8Kd2c/Ztaz832dfLBzPa1PMbD1sj+wdYFVU93aCOhb4B7n97Aq19Zv4NzvbA+dr9VL87yAy1T6nDudz3E5AbQuP15/hS7Duu6xIwJd18T67oP36VPs7UW3m27rbR4PvWdwSkvmOzTHMK32OqttFuzz4eSQ+fbtbod4zGUqytp0P/jGeAF+D7d1n/mnx0Pzzxc8uYRP4Ty/f3T9Qjbhge2/uK/zddY155XW9tKhb2CSfbfz7M5X2ezF4qx0Q4MpS2L/VRc8s4+wQOtkXHJidDDY0Ll+dqDJeldcMXraf639I+AKSEu7Xyqr22Xb6QbZtL5KKkraxGvy2uQUj8yfnyyjc2NkdJxXchOiJSs3Vjp80bqY91Z/IE/98peyb+8+ee2NF03FPk/zQWwPujbOW5Fu536fX5pbmrXsg7IByh7oCnMp5eXlcvLkSTl8+LC8+867ehtjY+AE0s233KzlFiwHy92+fYf86le/MhXhrRqscOD9UWZB994FCxbqAKVfNGWV4GZzEdpi9/QZPcmDget97RdvEXsx6DqDshv2UUzVe+fH7pT8yfkXjkVi1gUnwVA+Q+AFrVYSTfkpuI1fYntyyllBl/hskQRjp5w4USA//vFPdPD/u+6+S65ZcY39KEUKBkAobBgACQ9kzmhNgW4xb735lrz/wfty/NhxzQCnT5su06ZN07FCULjC+BpoCVBVWSm33nar3HXXXboMJwCCeernzp0nP/nJTzQAUlpaoq08ThWe0uXj7AhagcyaOUtWrlypGXJrW6uebcBvizMkTz/9aw2+3HP33fLII4/IkqVLgoV2ZY5AOLuxwxQ2fvHUU3K6uFgWL1kin/zkg3LNymvEHdXDiOUjKDMeKk4A5MOP1svH77pblq683WwTceb38JjUw3feV+a3QYUiNQOFd1R/TIXPzmVwvZP1I+IxXEOLobhYjyQmR0tivNXE2HksFJbg1JkDAb801PukrrbdFIatwXg7tGKCy9BqoHUNdWJU4f0mL6qubDX5D95Al6iP9xfO6I5OS5CEBI+p6MSZy96mGXTO1OGMv09amv1Sdr7ZFOjNejtflFkfFHQHzvqisFQ0qwf9PezPG3w7U6nD9x0d7TaVgQRzidvoCqXVdPMovlvrd3R+D7f92qrGNimvb5W2VvN5kLcrPDG48IsLqTT3n7UMbHNx+v1H6+8Q47MqjlgLZ3sJDYAgofjT0NBitqE2aWn1aRDBYr0Ar3PuGbySkrUgU+213kVXxr4v2iPpmXESF2++e/N5NAhhtgOrmIZnmzvMSiGgjLo/gibNLX6pN9s/PgPKWAHzFHSTGShMboF37Ov+i/WKjfHKKLPfd+6/VvjD+pAW3fpw/FcYpLHdVCTbpLm5XXxmf3R+K32F8zQbfgvsw/icNVVm/8WXoELX6zLo9u3S41RmaqwkJXkkITFatyOvF8EP7KtYCX1nk6Bz//Wb/bfV7L/1Dc3S3GT2ZbM+LeZpdY0+2VnXJHv21EtNhc8swZR3zXskJ7llVLpXpsbGyNyUeMmflihpmUnmuOuW1R9+JE/90uSVe/fKa288K5PyJ2oejbG4VD8/4kiHbQRdZtDSAq0vDuw/IFu3bdVWH3V19TJ71iy5btUqWbZ0qTXbnfnOse0iuLF37z55/vnnze+4W4MIDquFQLUub/bsOTpb3sUCIChLOT8eXtfS0qqtfBBQ0YClLfR6bzAYvBMAwbqipVBScpI5VtjbiU3HcDN/zmKxy+GqrmLf3qqrHj5bpGIAZGRgAITChgGQ8ECrEPQv3bhxo/z3z/9bDh06ZL7nTFm16jq55+57dL57nOFwRhBH9xXMJY/fwvk9LhYAQYUTBQEETTBgGMYSOX36jFn2Knn44Yc0EIKMGS01MCgrAiAYA+SVV16RFStWyKc//Wm55ZZbJDYuNpihYh3QfQYtS/7xu9/Vvref+cxndHnoMsOC39BAAOQ/fvRzeeudD2Xp0uWSNWauOSZ7TZ3EbANI/aE1JesHw/gGYFWgrPu6l6GcwhgKZ8mm8jF+QrzMnJsmkyeliMdrCnB4TJ/ZSd/B3Intps0UVI7sr5W9u6uluLhJ7wvmKHhOt4ogXmc9bipagxFgsD+vqdtIckyUjB2fKAsWjZYp09Ktx3uESAQ+lV9aW9rkbHGjvPnaWWlscMa2wWOm0G6ud137gfHZ5ePQ79T5evAbeaKjJCMrxhT2xpnLOPGiSbWOL4Eqq1WID32ty76++2CVbNleJuXnm03hHt+r9Xj/YanOu/RVh0SbSuSkyUkyd8EomTwtWeIClw6AtLf7zfGxUg7vr5KSElOJbXa2Cet5GjCzXxuM7QwStykPOd8nEoJoY8bGyvJVmTI+L8FUbvD940Hru7eeZdbLrBCO3ShPoRVEcVGj7NleJaeLrSCa3+xMCIKoXlsi9QQrhPdC/3/ru+jL/gt4p9zcOFl5Y7bkm/3Xq/vvpQMgR/bXmMpojRSZ/aCxHqNe2Mx6dN8DdP8NrkTwmQOAtba2E1PtlbzJiTJ9ZqpMmpQkKWlomYGz6ngU7+W8X+f+29zcKiXmuHPgYIUUnWyQmoYOaTePB9wmT0vpkJo6n7S34tnmPcxLdIQW87nGSbSm2Hi33HL3aBmdEyebNq6X3zz9jKmg72cAZJCgWxnGCKmsqNCTMB+sXq3lFsych+/1Yx+7U7u8zJk9W7Kys7p0I/GZukpNTa0p35yW2tqa4P4AaMmB8dTefPNNSUtLl0996lMXBEDwfJyIwjJQJrOO7RfX1/wIrZ+w/2OAes3vzLJDZ+hzuz0SHx8niYlJVhDEeci8PY4ZGpgMWU+6EAMgIwMDIBQ2DICEB2Z1OX26WF577TV59vfPamZ522236fRpOoaGfYbDgUwURwHsj85ZhO4BkJ/aARBn/vi6+jodR+Sf//mfdeDSW269RT772c/qvPkoRDjLKS0tlfffe19+85vfaIaN4Me9994jM2bOsAp0ZjVQQDlx/IS88cYb8tQvn5IpU6Zq15f77r23s/DXPcMO21ErciEA8q8/ek7++M4OWbxsqXjHjhLB79uebdJo+1mXy/wwqLiYizZt0o8fykmhPyOuObcCur1kJ0XJ9AlxMn9hpiyZlCYx9rbWqWtegayr1tcu+3dXy4b91XLgDPpU4znOsq33DBV6DyoiISt0aah92S9wBV+LJWL4SZH0aJ9MzEuSG5fkyJJpznHN3n57hGbU7VJ4ukF+8tZpqahuNRVYPB/VJHw+fJbQNR6YDl1/s5+bRbrMorFkv72fRrl9EhcXkLG58fLV2yfI6Mw48eAMOD6k+axRWqNGxVWfbrN+j037y+WDLaUaQKhqd1mdAUK+q77AM52ASp+FvkdUu8TEumXh5GS5YdEomTozWeL8XvOo8xz7eU5AAL8fvv82v6zbXyr791ZLQUmrVHS2cr8Ayi8D17kubg8qIkj44B0Sbb7umZkeue6G0TJ9UrKkxVmtKJyKF3Yl5zfUbcTcUdPSJgWFdbJ1Y4UcPNNq9jnzm5rX+HWA1H6wvxe8V3t7b/tvKOu9Elx+mTIxTm66bYzMy0iSePN7WF3CunO+A7PMKJ/s2lohaw/Xyt5zTVJXg5ZGzms639fh3MIz0D3Iysac5fUfPjZa5EydkSArpo2SBROSNRjYa0u4KHQzbZMTpxrko5MVcuxYg9RWo0Lq0U2zzYPwTcD8mUvzBgj8BOztDy14XOIWrzcg02ZWSVZWspTv2y87X39TCgsL5fU3n2MAZICwv6KFxratW+Wll1+Ss2fOyomTJ7ULMMYTW7Z8mXZ7wVh0GN/M6/F22Yys/Q2D2iJ44ewLFsxUh4FIf23KNfiNMD1t9wAIWpzg5NMbb7wpZefPd2lB0hN/SIBFt2i7jBZaVrsUrON483nuu+9emTNnjkTHYKvGA9YF9Q0DICNDP3NJIrpStbW1yrlz5+XQwUOakyLYsHzFcpk6faqO/YEABZpQOgm3vd7OoEVPkH9aeahVaMdzQ5+P+5zl4X7cRsKo6ugOM2v2LMGUbBhwFTPOoP+uwxmrpODECR2/ZMaMGTqeiC7fybidFehcERoEqLr7TaG8FU3pfe3S3N5mkl+a2zr6l9qtyxZz2WYKoOaiSzIP9ZjazZr4zCUqDi6vFv+sFbwE8xJN7X7zviZhFgVrmc5lt/cJTXhd9/v6mNrMirYFQpJ9P4Yd7izGXox5YjBZsC7Wulvrre+B23r/4KTgupsVdK7rbb00v5WppPm0AhwKt5Hs36P7wwYqeJi9xIdlmNuhy+5rwjrg9+/psUsn632xvaHVTJ84TzMfKwonYszV/r9/P5J5P6QWs802mTuQms0KYD1QWcYZXRw/EQND0AMfy/wLQkXHqZChTo39Bvtcs/lxsf81DTBhP76c/RcJnwfbgX6GLmvbO5zRxu+mv6G57GnZTuqyHsH9D9et9b38ZC/HfIHYjjArCz6Dtfr4z/o09h02+7bz/eN15hLHMKwbtiP0ZutA9zq83IaWNHgFEp6PfbI54JPC0hI5X12j7xsd45V2n9XdjAYG+09MTLSWbzAOBsYIuf222+TTn/mMPPTww3L77dZ4ZCijaMsP89sjaILWGkho7YrfFieG8Hh0dIxZXqy2nkXQA2Nu9FZmQusPdA/evm2bDgS/evXqiya0TMGA893vC719sfThhx8Gr3+w+gPZsmWzBnvwGRQ3JaIesQUIhQ1bgIRHRXmFrF+/Xn704x/pWQiMbI6uJ5PyJ/U5M+ypCwxGW0emb3ZdqW+olz2798g//dM/SWFhkdx2663yucc/F2wBgsKHtRy/TmX77LPPyvMvvGAKIQly3733mQLIQzrLC44BOOOFEdZ/97vfa/Dmi1/8khZUxowZo8voY12YLhNagPzgR7+W19/ZKEtXLJf0/Kni8pqC4EC6wCizkZnfDMV9/Fk/n3Np6DZoKnh6w2wjpgyJzSUjwS2Tx8bLrLmjZMqYZPGabQP18eDrrBfa/1vLb2j3y/HDtbL9YI0cK20yeYz9oIHXuZxKiv5vLs2duK6bZ+eC+8h+sfNCXRD+s7rApEd3SK5Z/8VzM2RGvjMbQU9vgpXE/R3S2uqXsyVN8uLa81JVgxYgeNx6jVbErDccBOb7theFlhb6vZgvwfm6oqICpmAvkp0dJw/ekCvp6TFmP7ZagKDiZtWyrTXr/ES4X2TP8SrZuLtczpW2SJPJ2s1dhnkWvuzLcPGqRC/wHvo2fnMsiZJZE5Jkudl+0JXBY/7wkLXlWesS3ArNl4G/dlNT3Xu0So4cqpHicy1SiwEc7KdYn6PzY2gwwro6ANbCcHzEjJ34GUyxSJfrMQ/Nzo2VRUvTJW98oiTGek35qMNqCYQfT98cv4f1TaE81djmM9tPo+zdWS2HC5u11RVagPh0A+8v80b6crzhxfbf4CfR/RfizAMTzfpfc/1oyc9IkJhot66ptafbLzKsa+Y+8w+hg4N7qmVnQZ0cL2/RbmDYEvAcbKPa9cZ+Y2cJzu/hfA8Dg4VZaxhrvs+8KfEye3KyTB2bIKnpOHtu3iO46vYbO3eYfaa50SfFp5tke1G1FJ5qlPp6s1V1uDUgW2PKuhifBde1y4/5hwZe2O7ifG4ZZfLSjGyXpKeUSE5OulSeKpANb70hu/fslXfeeVEmTbYGQWULkP7DOBsYqH316g91No8pU6bobB7pptyZkpKsAQ6M5VFZWaldVXCSBt1bUP5xAoz46dCtBL9FQkK8pCSn6JS7R48clfUbNmhXX4x/dustt3RuIgbGEDl86LCOIVJSWiptIYOoXgzeEUETzM6H1itYVwzKiuBNj8zK4S11Tc36Yp0xjsn9992vLVywznT52AJkZGAAhMKGAZDwwHgaCCj82w9+oGcr/uRPviCf/vRnJA7jbvRRrwEQU9urr68LCYAUyq233iqPf+5xKwBiKtFOAATQxeWdd97VbjA1NdU6FshnPvNZXR5GJMdo7Bgj5LnnntOp7L7+9a/LksVLOjPvkEIFDR5nENT3PlgjN918q8xecpMpzMWZAzUGQjVpAJCpOONv4EIr0fZ167Kz4NZutzJPjvFITnqsjBmfIBmZcVqhtSrr1uMO3EQlSF9rKnylZ5vkRFGDnKuyCpjO+7pN1uJGoVDv07u6jOkQuo32mb0uTq5pLd2so1lUssnP0jNiZHxekmTn9DzVswV5nvXe7W1+qaxok92HUPi2Z6Wxl9nZRmpwOI358Vv09Ht4PS5JGRUj8xekmgK+1559Autp/rc/cOjv4bz21LkGOXKyTqq0/4iTn1uvC7exGXEybUKSZOXEacsO0E9r/9bO2uk2YpLP1yFnTzfI2eImqa5pkdZ2O+zkPN9cONtLB24E2R++31D+sa4FzMajP7tZ/iSz/U8yFfCMrFidLhXbg9UFxllz/CbW58LdPrO+NdWtUlhQL6XlVsVNWzHYdeYBsX9g/ap62F7wbeCms/96zfpkpcTIjDmjzH5gzYjkMs+zthf7hQauOd9pICogp081SOHZRimrbbO63eiSe9t/cY9ese4cECwD27dITLtIdm6M5IyN0+8/IRHjQfT2RQZMpdZnKs9tZh/ANPAt2grHb5bX0uqX042tcqa4WeobzGdAlyTzrz3aLwlJHsnt8MqkuBjJmxwrEzK9kpQYKzt3b5UXX/yDDrz5+pt/YBeYQYLWH+fOnTPfo1sy0tMlPiFeAwWYhra4uFin7T9RcELH+igrLzfH4QZzXHCOxWbrMMcCZ5aZtLRRkpuTKxPz8nSsMrQAychIlwnjJ+jA8vamq3ymroOpdrHspmYE5519+GLMi82//eb3R1l5y5YtOrba/Q88IBMnTrCf0xO8qbWu+Fzx8Qk6GP3o0dnmGOMc9elyMAAyMjAAQmHDAEh4OAGQ7/3TP0lWVpY88cQTOs2pTn/mZNDO5UX2/osFQKLtAAjGAHECIKdOFcptt108AIK+r5jaDwGOPXv3Sm5ujo4XgkAIpvDdtm2bvP7667LZZPif/cxndKwSZOBBnYuiQRScBWbNBrnn3nvl5o8/IHGYBlcN7EvXzSq4jeGWVa0JVqBwy67AtKN8b67Gm8JkSpypDKRES2wstqGuFW6HLs16qV7WmYpTZV2b1JtKh/WYladgnAtnppLQ5zvX9Q0uR7es0ikgA5YUa2pnycnRkpIaY77HzsH0LoT1s94bg1Y2NvnlTAUqr7r25iGr0hcIrujgwLglusSL/B4IeMQneGV0dqwGn7SSq2MW4Jn2d2qe3z0AUtXcLmV1LdLUhLP3Tn6uS7euhlGa2W4ykzCLB45TVsUxNABifXIDK28SfsOGxnaprmiVZlOZRYUctMKql3bC9WAAJLiUAdGuLeYvgPUzCe+YGePV4AEq35g1BLMVWWeiTdJ/1grh+Iq7MTZBa4tPqqtapb65TQMpOi2xSdbaWp9jQPq4/yIAkujFLCexkpgQbb5/bCu9B0Cwr2IGp8p6s/6t6ESCx6117nn/RTDBWdZgfDYs2CSzyGhfh84elJjsNfsBujzgsd7eI6D5ZEtrQMrM+jc2+rT7C7rzNDS1y+mmVtm2sUbKzrWbxbhNvmjeJq5DJk1LkJmZ8ZKXECOj0rwyPi3D5KtuWbNmtZ4k2Ld/v/zxld+Z/HaixMTGdHazcD42DQj2J7SMxQDtmMUOs8GUlJRITXWNBkVaTXnF6f4C2NZxLEEwCoOLJicl67S5U6dNNWXYVbJkyWJtqeF2pk3qBYIgmlDv6f5c+/aWzVvk10//Wl566SW544475Jvf/KZ2Iw5l5RBmszLrhSAHjgf4w/3WalsDpVL/MAAyMjAAQmHDAEh4OAGQf/23f9PM8Stf+Yr8yRe+oIGLi2bQ3Y4ClwqA4CwJRlP/+7/7eyksKtIAyOc//3mZN2+eZsahkOFXm8LFH/7wB3nzzTektbVNZ3h59FOPal/VF198UWeASUxKlK997WumQLFEp3ajoeUEQNas2ySPPPywfO4zn7Ga2molcBDaH5isxdmsLrbZQfA55kkI0mlhrpdNtTtkYTi51j0ru9jr+7JOPem2i1wAy9P1N+XO7vtAb7DayBKt5eP/S73TwF1s7bDeCH5013kPrjm3rLzb+f6dCsNw0vU3q6fHuqDQdXZoVcG6don1H6pPhVYa3ZftNuuvLSdMwhojKBZlB2NCP4czGCq6iSAhUNLqbzMPm9dquvATD0Rvy3I+A55j3lorXlhn6zV4tPdv0Np+TOr2tIu9Z+9L6z9r/e3vrsv20zvdfswfxjLBH1qxVFa1yu4z9bJlQ7WUl7RLSkq0TJqK7hNRkp4ZKxPGx0tOdqz+Vh6J1ff98P335Fe//IWeLHjDVMwnTcqTOFPpRmDSeiPrggYGXVPwHT/73HOm3PGB2cf8kpmVJWPHjtXARpIph6AbLwaqBfy+be3t0tzUpF1lTp85I8WmzIPnXHvttfLxj39cu8Dgtb3tKHgfBFjKy8qlrLxM7wvNJ5zru3bt1gHsN27YIMuXL5dPf+bTMmXyFH3M4Ry7EuITJCc3R7vlYIB67Hsa+MCiuL30GwMgI4P7ye88+aR9fciZ44hWhrSggYzGZDIXK3RQ5Dl+/Li8/PLL2lxw8ZLFOvo2BuWkwYUuJxhUFOOAYH+bnJ+v43+g6WePZwV62AWxX775xhty+Mhhk7GP1kw+NdUaLAwZdVt7m2bka9esleqaGp0hZsGCBVYz0G7w/Ohor06diyanFRWVWsjAGB8nT56UrVu3ytmzZ2X69Oly3333SXp6ugZuaGjh99i6bYcUFZ2WuXPmyOKFCyQ+NtYUuE3GYL5+nIEeSMLxvaf7e0tWAMQqv/UVtq/+vNdQJK244jNgvfqazH+o5PS0vHAnp+LdPXUKvcc6cFyJ339XF34KcO4drvWPcl94n7X+ztqifOR8HidZNMBgbuJorh2V8DqPWYbZeT0meUOWGc7Uuf6d63opV+L243zbfUq6/p3HSxR0W1r8cg5j+gQ6JCsrWvImxcsEk2bNTNapglNToyUmxlRWzW+F2WDwpZ08WSC7d++S82Xn5bFHHtGTAFZFHO9CgwXl0HfefkfefvttLWcsXbpUp8K9/vrrZeU11+jthQsXyrz58/SEztx5c3WaXAzOnj95sim35OqJAuSfGK8Dvz+CH9pqtZefCi1hS0tKtbzz7nvvyq5du3Rq3r1792o6ePCgnlTab+47XlAgFZUVOotLfV29FJjbaKmij5uE63g+xnvDe6eOwnhqnQPQ97YedGnWSbsq2bZtu44dg9Y+aOVDkaWH2hARXc1QaMLI5ggwoEB3vOC4ZphaX+kp9Yd5XWjwUguBwTOVF0K3GAS8pk2bJklJSXLs2HGdpQaFEbQOSUpM0gHKUOhDf1saDuhCYs1jgt92oIkuh7MzXunf29WynqFC1zk0DS+Mq2KNrXJhwh8uu9Z9cZ/Dea4FT0PIGMkaQnS4Oet3JaxLGKBFjt2dBgGL2Bi3jEmMlplj4mXZrBS5Zt4omTU+Ucanx8voxFhJcXsktt1lUpREBzrE6w+I11x6AiavNAndhnS66hHy9YUL8qXTp89oV1wMMoqgBsYvQwvWa65ZoWOQoRyC1q5OwsmdKVOnyKxZs2TpkiVyyy23yr333auBEXSlQSACJ3Lafe295nto7Y4WIGfOnNEgRmjwAy1SEBBBwphqfp9P0tLStNUIBnHds2eP7A5J69auk/fff1/HCcGMf6Gz6hFR3zAAQhRhEEDA2B8YjwNBiYMHDsrGjRt1rA6MeI7mfcinkZApoztLXV29jpju6F7w7nITzB3BJqKBgFlmu7SY17e3teuZDtxGFN2B9xo9erRMmzpNsjIztfvF5i2bdQBUNC3FYzNnzmTwY5hYFS4UopA6fzcKF3z/SFeDq2ldHc46Xznrbo38cbEgiP1/cLwL59LR/bYV+EC64Fg9LLB+F65j5LKCHwiCoFVHQrxXJmXEy6wxiTJ7fJJMy02Q8Smxkuh3S3y7S+IQ/PBZCcGPaJNXevxdAyBIV8ZvGTlQJsFA7OfPnzdfbpRMmTpVp+hHkCPTlEvQItkZUyMU7ouNi5W09DTtmoQWIlOmTNUfCK1AkFDu6Q1aZ0THxEhKaqrk5ubK2DFjgwknq1AGQmvbCRMnyJy5c2TlNStNmWiWjJ8wQXLM8zF2GlrYosUH8msEcBBMQRDGKmtxayG6HAyAEEWYmOgYGW0y0jlz5ugsMOgOs3btWnnu2Wdl967dmvmjHywCHzW1tXL06DE9i1FWVm4vAazM1Dmj0b1AgOAHghUoGPj8fikvL9czF+dNplxytkSnvm1taQ2Wg9E/OikpWXJNRo+CBjJtnMHA2Y/mlmbtxzpj+gwGQIiILpt1nKbhh1aXMbFuHetjzPhEnVnpYrr8anYWy19yaKHs4nQrwgVaWfh8fg0i9NaCA4/hOWht4dOTSGih5bK6KZlyUOig2D1BK1iUfdDF5rHHPq0DwTvpM5/5jM6MZ13/rHzus5+Tz33uc9bj5rHHzXXcfvzxz8mnH3tMu+ygSwbeN7SMFuz+wo2I6JIYACGKMMhocaZi6pSpmlFOnDBRm1E++9yz8uvf/Eaefvpp+f3vf6+zsjzzzDM6BS1u7927x17CpSHTR1eW9Ix0U4DwyeHDh+Stt96UP5hl/vrXv9ammTgr0v2kBJp1YjyS0dnZGphBH1Z0f8nPnyzZo0frWRIiohEJAxDrIMROulhNJuQ5+hrWeK4MJsPDzEkmBaJMpdhlkrnPZyc/KtwhCRMLBczTMSCuc10v8TgWYy5p8OCETfbobMnLyxPMoIQZ6DAmx/Fjx6yTNq1tpjyDQIj9AhuCJC0tLTruB8pS69avk+3bt+mkDii3jMnNlcSEhAtOFIVyu025LG2UzJ49y5TLbpCbbr4pmG6+5WbthuOkW269Re+71Vziuj7n5pvlpptu0tvompOenqFjkWDdug8ATkSXZg6xRBRJkAlHR0fL9BnTdfRqJAxQGhMTK7t375bfP/t7+elPfyI/+9l/yTO/+Y18uHq1nD1zRjN/B5aBLNXJV7tn7AiyYAafpUuXyfz58zUT/uijj+SpXz4lb775po7t0djUaD3ZvBSvx1mXUampkjcxLzjNbVx8nK4nluHtNn0uEdHIxorNVc/kacjXLpa3Ob+w5re4Yp4Weh8NrvxJ+Trg6YwZM+XY0WPy+utvyAsvvKAzr7z33ruyds0aWbdurUnrNKH17Jo1a+WDD1bLm2+8KS+8+II8++yz2noV3VYWLVokk/LzL1l2wcPaDcaUzdAyNy4u7rISXuO8zuPx6rLwnhe0WgluSETUGwZAiCIQMsfklBTtQ/rxj98ljz76KT2zgP6rKcnJVmYaE6t9XhGMWLR4cTAoAcjK0U917tw52pLEuq8zg0czUkxbe/31q+TOO+/U6drQjxXLxeswrVxcXOcMP8j8MVNBTGyMJJv3T01NFY/bo4OeTp06VaZMmXzJAgQRUSRCAw4c/aI6zFEWCX/B6/ZYIV2S9fzO2g5rPFca89N1+XV6TMzywi4zK1OWLlsmd911l+SZ8hC6767fsF5efOlFeeY3z8gvf/lLeeoXT8kvfvELTU899ZT8ytz3zDO/kedfeF5Wr16ts9llZ2XLNStWyAqTJk6cYC99GHSEDDpul6HsW0TUCwZAiCKVyRSTk5NkzpzZcuedH5MHH3xQHnnkkWAfU8wv/6lPfUrvu+eee3T081ArVizXwMntd9whCYkJEtWte4rX49VR1NFU86GHHtI+qlj2o2aZSxYvlvS0NPuZhl1ix0jpGPMDl4mJSRo0QV9WdNmxS/RERCOGfWi0giBO0EMDH87fxQMg1iHTqU7TFSf0h+opUdjhJA1OBGFq/0984hN6ksfrjZbS0lI5eOiQ7NixQ7vwbt60OZi279iug8mfLj6t44DMnDFT7r33Xrn99tv19ejaG246dkl758wzzialR4PurUKI6AJRHWHsPIZBgnw+nwTMjotIJeasxywUNDK89dZb8tinH5Prrr1OvvxnX5brrrtOu1FQGDk5ZCjc7l4YM/chE9WHzGNovYF9NdiU11lGTyFUZ5d2lulcmtecPn1a1ny0Rp5//nkdIwQFiPvuv0/mL5hvP8nmLJ+GDGbi+c8f/0zWrtskjz78sHzh8U9JYmKC/SgRDaWAjvVxMThoOgdOx4X36VS6PFhe1TDeB3zw/vva+mDvvn3aHQPjPMTGRHeOi8WfeVAhkFFbU6tTzB4+ckRnVMEseZiVDjO6+AOmnmK+c5R30HIVrWVTUlIkZ3SOnviZO3eupKenizfaHrgdv0/3XXYIoA71i188pWO4oS71la98RW697TZJNevm9rh1NTDoPAbjpf7BTIknThTIj3/0Y4mJidHWQtdcc439KEUKtgAhGkl6KkT1lE+a+xD0QCbqBDycPqfO45o0t+2WnMcc9v3IuDHoKcYHwYwxaPWB8T8wrVuX1yNRWLjELx5pM5cY/4VfPFG4uDpcvSRz7DW7Y9dkKjUdgS6JwY+rX/D3Nb8mxslCSyC3ufSY/FanmsdPzJ950KE8k5KaItesvEYee+xT8vWv/7n81V99U771rW/Jt/7mW/Ltv/m2/M23/0bTX//1X8s3v/lN+fqff11buq66fpV2pcFYaEGhZZ4hhAHos7OzZN68ubJg4QKdWcaNIJn9/rhg8GNwYLdDGwG2qIlMDIAQ0dAyeQeCH+hre+zYMTlecFy7wYwdO1YHRMV4IDRcnNI1M3giouHVWXENnmygIYMgCM7wY1wyBBJQJpmYN1G7A0+ZOkXHJ0NCaxx01c3KztKgCbrRYEaZ4fqN0BrhiSee0IQB5NFFOdhSiAYXgx8Ri3sMEQ2J1tZWqaqq0m4vBccLZOPGjTp93OnTZ3Ta22VLl+kYICiAEBEREYUbAhkIaITO0IIuL0jODCx4DK0vroTAFFrNzpw5U1N6Rrp4vV4GzIguEwMgRDQkKisrZdfOXfLKK6/Ic394Tl566WUdYAxnKjD+y4prVmjmzTMXREREREQUDqx5ENGQOHPmrLz19tvybz/4N/n+978vH3zwvvalXLhwgVx37bXarBRnV4iIiIiIiMKBARAiGhIxMdE6FS76ziLYsXLlSnn44UfksU89JosWLdImpUREREREROHCAAgRDYm8vDx5+OGHtfXHT37yE/m///f/yoMPfkKnkItPiGefVSIiIiIiCisGQIhoSGBk9clTJsuKFSvk+uuv11YfEyZMkMSkRI77QUREREREYcdaCIUNzvg7o2gHAgHOrU1EREQjHk4KOCcG/H4/y0dEw6YjuA9GmX2SrZUjEwMgFDYIfiQmJOrBpK21Tdrb2+1HiCickLE7BWzsj5gCkIiIhofH69Fxs3Bcbm1p1QoYEYUf9sGW5hY9UesxZSNMM0yRhwEQChsMepmWlqZnORoaGqSlpcV+hIjCBZl7c1OzJr/PL3HxcZKVncUgCBHRMImNiZX4uHir8tVqVb6IKPyw79XU1AjafcTExOjJW4o8DIBQ2KSkpMisWbM0mlp6rlSqqqrsR4gonKJcUVJVXS2NjY2SEJ8g2VnZHJeFiGiYpGeky5ixY8Xn88mJEyekurpGfGwFQhR22AePHD0qLa2tkpiUJAkJCfYjFElY4qWwGTVqlCxbtkyysrKkvKxczpWek1ZzgCGiIRbSnVxbgDQ3y/FjxzQIgv1x8pQpPMtBRDRMMjMyZcKE8Xr98OHDUlFRIb52n94moj5AOWeACa1i62rr5ODBg+L1eiQ7O0sH9KfIwwAIhU1qaqosXLRIJk6caCpeVXL06FE5ffq0/SgRDQlk7CGXTvPOAwcP6Dg806dPlzG5uewCQ0Q0TFDJmpQ3SaZMmSIHDxyU8+fOmeNzm/0oEfXKKecMUF19nRw4cEAKCgrMPpliykZjJDEx0X6UIgkDIBQ28QkJMmnSJMmblCdtbW2yfcd22bhxo7YCwVlpIhogdFrtnkL4/QFpamqSM2fOSGFhoeTk5MiKa65hf3MiomGEAPTkyZPl0Ucf1cpXwYkC7SaM5vhEdAk9lX0uM7X72uXUqVPy6quvSm1trWRnZUl2drbExsaaJ1CkcT/5nSeftK8POdRxUdDWym5UlLhcUaz4jiAu85t7vF6Jj4/X5p1FhUVyvuy8Dow6ZsyYoW2CH7KZ4Sq2O2x6TH1PnArsCuZk4qHMb+bA9h4wqbKyQjZs2Cj/9V//pd1gbr/9Nrn55lusl/P3JSIKm9BjLqbbxICLSUlJsnffPm2Cj2A1uiimpaXz+Ew0xI4dPSZvv/W2fPTRR7Jg4UK5/vrrNSgZFxfH/S8CDUsABLAtYYNiAGRkwW+Ogwn61jU1NmkXGJztiE+Il1Gj0iQ+Ps5+poHjzWAlsK/rccz8h3VhuoykXyJd0ZwfqYfDanVNjWzZsll++cun5Ny5c3LLLbdoBj969GgNjiBASURE4YF81YHrLrdbZ8tDEGT//v06Fkhzc4tMMZUwlJE4UDXR0Nize4+89tprsnXrVm0Ze+fHPy5z5szRsQvZPTgyhT0A0mG3AHEqVQyAjDxo6YFWIMjocYYDAZCSsyUmo2/S5p7I5PEcHHSGqtqNpTJdXqKriDms+v1+neXl3Lnzss8Upj9cvVrWrFmjra9WrFghN918s57dwFlHHIcZACEiCp/QAIi5obfdpvyTljZKuwmXl1foSaLysjItK2HMJkD5iINWE/Uf9qX6uno5W3JWtm7ZKm+99ZYGHTHex0033yTLly2XjIwMnbWSIlNUB079hUkg0KGF8oBJTgCEfc9HDqcZPuB3r66qkkOHDmml7MiRI9rPbmLeRB0EDBHYpMQkna5zYEJCKKzfUYQLBpTNBYKJ6Md6qrBQp1UsLi4SV5RLFi9eLLfddpuMnzBezzS6XG49JvPsIhFR+ISeBHTKxLiNcjIqZhgjbf269XL6zGnJGZ0jU6ZOkQkTJkhWZpYkJHJqzsuB75bI0dzULJWVlbpv7du7TweGR2vYpUuXynXXXSdjxo4Rj5tBxkg2LAGQ0FYgwQI7RTz81qGbG7YDjENQVl4me/fulQ8++ECOHTum98VEx4jb4x6EbaRrpsez3BSJrD2kw+xT5prZxJ3CNAKNyORzc3NlyZKl2vJjxvTpkm0yerTAwu6A17ALDBFReHUv3+CED+4DnKHWAPbJU7J5y2Z57733pLq6Wh/HWWkErFl+7ju3i90YyIJ9B/tXS2srKiY60Cm6BC9btkxnqUQrEOxjzr5IkWnYAiAOHsBHLv3lze+PAxGa5Z8/f15Onjqps1OUlZVJ4alCaff59Ox0cPBcfYmp6OGvD9tO8DnORR9eQ3SlQ8asmbPmz7huXfrN/uKN9kpiQqIkJCToWcKZM2fqWcOJE/P0DEdsTIx2e3GWgX2CARAiouEVWuHS47Ip96Aln3YVPlGgLWVPnjwpJSUlWmbCOGpsRd0HmlUyfyMLWr5ibA9MvjB16lQZP368jBs3TtLS0yQu1hrwNHRfpMjEAAhdERDQaG1t02nfysvLtDlaQ32D+M22osEPJDuKgYzMutb7thM8gJmncSujSIAtukvGbK7iGKrJHF8xjRuabcbGxUlCfLwOOJyZlSXJyckaELFafdhFQTuTx3XsHyFLJSKiMAs9toeWjXEdLWMR9KisqtTyUV1dHafIJeoHdLdPiE+Q5JRkyczIlJSUFL0P4+qwK/DIwQAIDSsnw0dwAwceZOgtLS06AJhTqcMm2tHRuc10qQD2ojNQQhQ5etr6sf9gf8H+ExXlEq/JyNGEExl6dEhrj1B6C/frLSIiupKhtawmn0lt1oCoRHR5MMECEspHaDGLk0Z9rVdQ5GAAhIaVc9BBpu7xdkZf0eoDgzNaQZCQ7i8maWXOvn5JodsXD3AUSZxtOySIEejAvtK5jwCmVgztQob7mdkTERER0UjEAAhdEbTCZhLOZGM7CQT8Eh0do9tKaB9XbK5aeTOXfdlyQit7rPRRJAk9duIabrvdLnv/sbuNYX9xRensL2YHYPCDiIiIiEY0BkDoiuFUzKwuL1agQ++ztxFcx/2a9J7Lw0EeKRI5wY9QTqDD2Y/6cpjn/kFEREREkY6jvdAVA5U1rajZlTb7TuvScCp5eKyvVTWnIhhcHlGkCdlHnG3d2d6Dl/o/EREREdHIxgAIXXlQgcOFdatnIc/pLfVpWURXM2cb57ZORERERNQrdoEhIopwepS9xLHWaS1CRERERBSp2AKEiCjCBVuI9JKIiIiIiCIdAyBEREREREREFPEYACEiIiIiIiKiiMcACBERERERERFFPAZAiIiIiIiIiCjiMQBCRERERERERBGPARAiIiIiIiIiingMgBARERERERFRxGMAhIiIiIiIiIgiHgMgRERERERERBTxGAAhIiIiIiIioohnBUCi9P+w6ujosK8REREREREREQ0t13AFP6KiojQREREREREREQ218HeBCW35wfgHEREREREREYVB2AMgTvijI3iNiIiIiIiIiGhoDcsgqOgCwyFAiIiIiIiIiChcOAsMEREREREREUU8BkCIiIiIiIiIKOIxAEJEREREREREEY8BECIiIiIiIiKKeAyAEBEREREREVHEYwCEiIiIiIiIiCIeAyBEREREREREFPEYACEiIiIiIiKiiMcACBERERERERFFPAZAiIiIiIiIiCjiMQBCRERERERERBGPARAiIiIiIiIiingMgBARERERERFRxGMAhIiIiIiIiIgiHgMgRERERERERBTxGAAhIiIiIiIioojHAAgRERERERERRTwGQIiIiIiIiIgo4jEAQkREREREREQRjwEQIiIiIiIiIop4DIAQERERERERUcRjAISIiIiIiIiIIh4DIEREREREREQU8RgAISIiIiIiIqKIxwAIEREREREREUU8BkCIiIiIiIiIKOIxAEJEREREREREEY8BECIiIiIiIiKKeAyAEBEREREREVHEYwCEiIiIiIiIiCIeAyBEREREREREFPEYACEiIiIiIiKiiMcACBERERERERFFPAZAiIiIiIiIiCjiMQBCRERERERERBGPARAiIiIiIiIiingMgBARERERERFRxGMAhIiIiIiIiIgiHgMgRERERERERBTxGAAhIiIiIiIioojHAAgRERERERERRTwGQIiIiIiIiIgo4jEAQkREREREREQRjwEQIiIiIiIiIop4DIAQERERERERUcRjAISIiIiIiIiIIh4DIEREREREREQU8RgAISIiIiIiIqKIxwAIEREREREREUU8BkCIiIiIiIiIKOIxAEJEREREREREEY8BECIiIiIiIiKKeAyAEBEREREREVHEYwCEiIiIiIiIiCIeAyBEREREREREFPEYACEiIiIiIiKiiMcACBERERERERFFPAZAiIiIiIiIiCjiMQBCRERERERERBGPARAiIiIiIiIiingMgBARERERERFRxGMAhIiIiIiIiIginMj/HzGNhRkJ93cnAAAAAElFTkSuQmCC)"
      ],
      "metadata": {
        "id": "TJfczAo94tar"
      }
    },
    {
      "cell_type": "markdown",
      "source": [
        "- 참고 : https://python101.pythonlibrary.org/chapter3_lists_dicts.html"
      ],
      "metadata": {
        "id": "lekyFVqtCtqe"
      }
    },
    {
      "cell_type": "code",
      "source": [
        "a = 4\n",
        "\n",
        "if a > 5:\n",
        "print(\"a가 5보다 크다\") # 들여쓰기 안하면 error\n",
        "elif a > 0:\n",
        "  print(\"a가 0보다 크다\")\n",
        "else:\n",
        "  print(\"나도 모름\")"
      ],
      "metadata": {
        "colab": {
          "base_uri": "https://localhost:8080/",
          "height": 137
        },
        "id": "Cgv1s7OfDBIH",
        "outputId": "14528211-5b74-43e2-e342-a77e1a967bb7"
      },
      "execution_count": 56,
      "outputs": [
        {
          "output_type": "error",
          "ename": "IndentationError",
          "evalue": "ignored",
          "traceback": [
            "\u001b[0;36m  File \u001b[0;32m\"<ipython-input-56-b2f32868fee8>\"\u001b[0;36m, line \u001b[0;32m4\u001b[0m\n\u001b[0;31m    print(\"a가 5보다 크다\") # 들여쓰기 안하면 error\u001b[0m\n\u001b[0m    ^\u001b[0m\n\u001b[0;31mIndentationError\u001b[0m\u001b[0;31m:\u001b[0m expected an indented block\n"
          ]
        }
      ]
    },
    {
      "cell_type": "code",
      "source": [
        "a = 4\n",
        "\n",
        "if a > 5:\n",
        "  print(\"a가 5보다 크다\") \n",
        "elif a > 0:\n",
        "  print(\"a가 0보다 크다\")\n",
        "else:\n",
        "  print(\"나도 모름\")"
      ],
      "metadata": {
        "colab": {
          "base_uri": "https://localhost:8080/"
        },
        "id": "73FcgmTxD3MX",
        "outputId": "f6577b00-947d-4805-e06a-88422fc56fba"
      },
      "execution_count": 57,
      "outputs": [
        {
          "output_type": "stream",
          "name": "stdout",
          "text": [
            "a가 0보다 크다\n"
          ]
        }
      ]
    },
    {
      "cell_type": "code",
      "source": [
        "# input 함수\n",
        "# 90점이상 A등급, 80점이상 B등급 나머지 C등급\n",
        "var = input(\"입력 : \")\n",
        "var = int(var)\n",
        "\n",
        "if var >= 90:\n",
        "  print(\"A등급\")\n",
        "elif var >= 80:\n",
        "  print(\"B등급\")\n",
        "else:\n",
        "  print(\"C등급\")"
      ],
      "metadata": {
        "colab": {
          "base_uri": "https://localhost:8080/"
        },
        "id": "rU9B94TrD5ze",
        "outputId": "246897a1-56da-42ea-f831-8a0b8988a9c8"
      },
      "execution_count": 69,
      "outputs": [
        {
          "output_type": "stream",
          "name": "stdout",
          "text": [
            "입력 : 90\n",
            "A등급\n"
          ]
        }
      ]
    },
    {
      "cell_type": "markdown",
      "source": [
        "## 반복문\n",
        "- 반복문 왜 쓸까요?"
      ],
      "metadata": {
        "id": "JU4KgeojHBQb"
      }
    },
    {
      "cell_type": "code",
      "source": [
        "# 과제 Hello World 100개를 출력\n",
        "print(\"hello world\")\n",
        "# 복사 붙여넣기도 가능하지만, 시간절약 위해 반복문 사용"
      ],
      "metadata": {
        "colab": {
          "base_uri": "https://localhost:8080/"
        },
        "id": "cZq98DXhHfS5",
        "outputId": "7ee9fd04-0259-4fc1-9b85-28e809e2cd22"
      },
      "execution_count": 71,
      "outputs": [
        {
          "output_type": "stream",
          "name": "stdout",
          "text": [
            "hello world\n"
          ]
        }
      ]
    },
    {
      "cell_type": "code",
      "source": [
        "# 과제 Hello World 3개 출력\n",
        "# for i in_다양한개체들이온다!_:\n",
        "for i in range(3):\n",
        "  print(\"Hello World\")"
      ],
      "metadata": {
        "colab": {
          "base_uri": "https://localhost:8080/"
        },
        "id": "0g2FQlTdIzYm",
        "outputId": "0700f861-7569-4277-d36b-16def848fb2d"
      },
      "execution_count": 72,
      "outputs": [
        {
          "output_type": "stream",
          "name": "stdout",
          "text": [
            "Hello World\n",
            "Hello World\n",
            "Hello World\n"
          ]
        }
      ]
    },
    {
      "cell_type": "code",
      "source": [
        "letters = ['A', 'B', 'C']\n",
        "for idx, value in enumerate(letters):\n",
        "  print(idx, value) # 반복문 형태 다양"
      ],
      "metadata": {
        "colab": {
          "base_uri": "https://localhost:8080/"
        },
        "id": "d2iRBs7JJKD4",
        "outputId": "9375b685-fb45-4fd1-c320-21bd5c6773d2"
      },
      "execution_count": 73,
      "outputs": [
        {
          "output_type": "stream",
          "name": "stdout",
          "text": [
            "0 A\n",
            "1 B\n",
            "2 C\n"
          ]
        }
      ]
    },
    {
      "cell_type": "code",
      "source": [
        "fruits = ['apple', 'kiwi', 'mango']\n",
        "\n",
        "# 리스트의 값 : 그 중에서 a가 들어간 글자만 따로 출력\n",
        "# 리스트 컴프리헨션(List Comprehension) 중요\n",
        "newlists = [fruit for fruit in fruits if \"a\" in fruit]\n",
        "print(newlists)"
      ],
      "metadata": {
        "colab": {
          "base_uri": "https://localhost:8080/"
        },
        "id": "Spt_FqSzJwdg",
        "outputId": "4620a2d2-5960-4b38-f396-e21ad72fb71c"
      },
      "execution_count": 75,
      "outputs": [
        {
          "output_type": "stream",
          "name": "stdout",
          "text": [
            "['apple', 'mango']\n"
          ]
        }
      ]
    },
    {
      "cell_type": "code",
      "source": [
        "\"a\" in \"kiwi\""
      ],
      "metadata": {
        "colab": {
          "base_uri": "https://localhost:8080/"
        },
        "id": "jijOVTsJLON4",
        "outputId": "0211c701-be78-497f-d07d-bcf0cf279388"
      },
      "execution_count": 82,
      "outputs": [
        {
          "output_type": "execute_result",
          "data": {
            "text/plain": [
              "False"
            ]
          },
          "metadata": {},
          "execution_count": 82
        }
      ]
    },
    {
      "cell_type": "code",
      "source": [
        "fruits = ['apple', 'kiwi', 'mango']\n",
        "\"a\" in fruits[2]"
      ],
      "metadata": {
        "colab": {
          "base_uri": "https://localhost:8080/"
        },
        "id": "3anJYapZLh0m",
        "outputId": "32a617d9-d3c7-47ee-819a-bcc84c6652c8"
      },
      "execution_count": 84,
      "outputs": [
        {
          "output_type": "execute_result",
          "data": {
            "text/plain": [
              "True"
            ]
          },
          "metadata": {},
          "execution_count": 84
        }
      ]
    },
    {
      "cell_type": "code",
      "source": [
        "fruits = ['apple', 'kiwi', 'mango']\n",
        "\n",
        "newlist = []\n",
        "for fruit in fruits:\n",
        "  # 1단계\n",
        "  print(fruit)\n",
        "\n",
        "  # 2단계 : 조건문 작성할 수 있다.\n",
        "  # True False 식을 도출 -> 가장 어렵다\n",
        "  # 이걸 해야만 개발자의 길을 걸어가는 것\n",
        "  if \"a\" in fruit:\n",
        "    newlist.append(fruit)\n",
        "\n",
        "print(newlist)"
      ],
      "metadata": {
        "colab": {
          "base_uri": "https://localhost:8080/"
        },
        "id": "a3RtIO8pKaUg",
        "outputId": "f3630d55-18ae-4e4a-a60b-91c0467ed46f"
      },
      "execution_count": 76,
      "outputs": [
        {
          "output_type": "stream",
          "name": "stdout",
          "text": [
            "apple\n",
            "kiwi\n",
            "mango\n"
          ]
        }
      ]
    }
  ]
}